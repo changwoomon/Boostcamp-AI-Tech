{
  "nbformat": 4,
  "nbformat_minor": 0,
  "metadata": {
    "accelerator": "GPU",
    "colab": {
      "name": "2_word2vec.ipynb",
      "provenance": [],
      "collapsed_sections": []
    },
    "kernelspec": {
      "display_name": "Python 3",
      "name": "python3"
    }
  },
  "cells": [
    {
      "cell_type": "markdown",
      "metadata": {
        "id": "h3FAK0fz1kOr"
      },
      "source": [
        "##**2. Word2Vec**\r\n",
        "1. 주어진 단어들을 word2vec 모델에 들어갈 수 있는 형태로 만듭니다.\r\n",
        "2. CBOW, Skip-gram 모델을 각각 구현합니다.\r\n",
        "3. 모델을 실제로 학습해보고 결과를 확인합니다."
      ]
    },
    {
      "cell_type": "markdown",
      "metadata": {
        "id": "u9FrxTPWIsct"
      },
      "source": [
        "### **필요 패키지 import**"
      ]
    },
    {
      "cell_type": "code",
      "metadata": {
        "id": "QjroCdtwI9Rz",
        "colab": {
          "base_uri": "https://localhost:8080/"
        },
        "outputId": "9c2fa1db-b45d-403b-9a03-1c8a1e72c4f2"
      },
      "source": [
        "!pip install konlpy"
      ],
      "execution_count": 1,
      "outputs": [
        {
          "output_type": "stream",
          "text": [
            "Collecting konlpy\n",
            "\u001b[?25l  Downloading https://files.pythonhosted.org/packages/85/0e/f385566fec837c0b83f216b2da65db9997b35dd675e107752005b7d392b1/konlpy-0.5.2-py2.py3-none-any.whl (19.4MB)\n",
            "\u001b[K     |████████████████████████████████| 19.4MB 1.2MB/s \n",
            "\u001b[?25hCollecting JPype1>=0.7.0\n",
            "\u001b[?25l  Downloading https://files.pythonhosted.org/packages/de/af/93f92b38ec1ff3091cd38982ed19cea2800fefb609b5801c41fc43c0781e/JPype1-1.2.1-cp36-cp36m-manylinux2010_x86_64.whl (457kB)\n",
            "\u001b[K     |████████████████████████████████| 460kB 50.5MB/s \n",
            "\u001b[?25hCollecting colorama\n",
            "  Downloading https://files.pythonhosted.org/packages/44/98/5b86278fbbf250d239ae0ecb724f8572af1c91f4a11edf4d36a206189440/colorama-0.4.4-py2.py3-none-any.whl\n",
            "Collecting tweepy>=3.7.0\n",
            "  Downloading https://files.pythonhosted.org/packages/67/c3/6bed87f3b1e5ed2f34bd58bf7978e308c86e255193916be76e5a5ce5dfca/tweepy-3.10.0-py2.py3-none-any.whl\n",
            "Requirement already satisfied: lxml>=4.1.0 in /usr/local/lib/python3.6/dist-packages (from konlpy) (4.2.6)\n",
            "Collecting beautifulsoup4==4.6.0\n",
            "\u001b[?25l  Downloading https://files.pythonhosted.org/packages/9e/d4/10f46e5cfac773e22707237bfcd51bbffeaf0a576b0a847ec7ab15bd7ace/beautifulsoup4-4.6.0-py3-none-any.whl (86kB)\n",
            "\u001b[K     |████████████████████████████████| 92kB 13.1MB/s \n",
            "\u001b[?25hRequirement already satisfied: numpy>=1.6 in /usr/local/lib/python3.6/dist-packages (from konlpy) (1.19.5)\n",
            "Requirement already satisfied: typing-extensions; python_version < \"3.8\" in /usr/local/lib/python3.6/dist-packages (from JPype1>=0.7.0->konlpy) (3.7.4.3)\n",
            "Requirement already satisfied: six>=1.10.0 in /usr/local/lib/python3.6/dist-packages (from tweepy>=3.7.0->konlpy) (1.15.0)\n",
            "Requirement already satisfied: requests-oauthlib>=0.7.0 in /usr/local/lib/python3.6/dist-packages (from tweepy>=3.7.0->konlpy) (1.3.0)\n",
            "Requirement already satisfied: requests[socks]>=2.11.1 in /usr/local/lib/python3.6/dist-packages (from tweepy>=3.7.0->konlpy) (2.23.0)\n",
            "Requirement already satisfied: oauthlib>=3.0.0 in /usr/local/lib/python3.6/dist-packages (from requests-oauthlib>=0.7.0->tweepy>=3.7.0->konlpy) (3.1.0)\n",
            "Requirement already satisfied: idna<3,>=2.5 in /usr/local/lib/python3.6/dist-packages (from requests[socks]>=2.11.1->tweepy>=3.7.0->konlpy) (2.10)\n",
            "Requirement already satisfied: urllib3!=1.25.0,!=1.25.1,<1.26,>=1.21.1 in /usr/local/lib/python3.6/dist-packages (from requests[socks]>=2.11.1->tweepy>=3.7.0->konlpy) (1.24.3)\n",
            "Requirement already satisfied: certifi>=2017.4.17 in /usr/local/lib/python3.6/dist-packages (from requests[socks]>=2.11.1->tweepy>=3.7.0->konlpy) (2020.12.5)\n",
            "Requirement already satisfied: chardet<4,>=3.0.2 in /usr/local/lib/python3.6/dist-packages (from requests[socks]>=2.11.1->tweepy>=3.7.0->konlpy) (3.0.4)\n",
            "Requirement already satisfied: PySocks!=1.5.7,>=1.5.6; extra == \"socks\" in /usr/local/lib/python3.6/dist-packages (from requests[socks]>=2.11.1->tweepy>=3.7.0->konlpy) (1.7.1)\n",
            "Installing collected packages: JPype1, colorama, tweepy, beautifulsoup4, konlpy\n",
            "  Found existing installation: tweepy 3.6.0\n",
            "    Uninstalling tweepy-3.6.0:\n",
            "      Successfully uninstalled tweepy-3.6.0\n",
            "  Found existing installation: beautifulsoup4 4.6.3\n",
            "    Uninstalling beautifulsoup4-4.6.3:\n",
            "      Successfully uninstalled beautifulsoup4-4.6.3\n",
            "Successfully installed JPype1-1.2.1 beautifulsoup4-4.6.0 colorama-0.4.4 konlpy-0.5.2 tweepy-3.10.0\n"
          ],
          "name": "stdout"
        }
      ]
    },
    {
      "cell_type": "code",
      "metadata": {
        "id": "nSP7aXfJIr3i"
      },
      "source": [
        "from tqdm import tqdm\r\n",
        "from konlpy.tag import Okt\r\n",
        "from torch import nn\r\n",
        "from torch.nn import functional as F\r\n",
        "from torch.utils.data import Dataset, DataLoader\r\n",
        "from collections import defaultdict\r\n",
        "\r\n",
        "import torch\r\n",
        "import copy\r\n",
        "import numpy as np"
      ],
      "execution_count": 2,
      "outputs": []
    },
    {
      "cell_type": "markdown",
      "metadata": {
        "id": "qugro74yJASr"
      },
      "source": [
        "### **데이터 전처리**"
      ]
    },
    {
      "cell_type": "markdown",
      "metadata": {
        "id": "Q36dfSRRJDtX"
      },
      "source": [
        "\r\n",
        "\r\n",
        "데이터를 확인하고 Word2Vec 형식에 맞게 전처리합니다.  \r\n",
        "학습 데이터는 1번 실습과 동일하고, 테스트를 위한 단어를 아래와 같이 가정해봅시다."
      ]
    },
    {
      "cell_type": "code",
      "metadata": {
        "id": "CLZ2f-lRJSus"
      },
      "source": [
        "train_data = [\r\n",
        "  \"정말 맛있습니다. 추천합니다.\",\r\n",
        "  \"기대했던 것보단 별로였네요.\",\r\n",
        "  \"다 좋은데 가격이 너무 비싸서 다시 가고 싶다는 생각이 안 드네요.\",\r\n",
        "  \"완전 최고입니다! 재방문 의사 있습니다.\",\r\n",
        "  \"음식도 서비스도 다 만족스러웠습니다.\",\r\n",
        "  \"위생 상태가 좀 별로였습니다. 좀 더 개선되기를 바랍니다.\",\r\n",
        "  \"맛도 좋았고 직원분들 서비스도 너무 친절했습니다.\",\r\n",
        "  \"기념일에 방문했는데 음식도 분위기도 서비스도 다 좋았습니다.\",\r\n",
        "  \"전반적으로 음식이 너무 짰습니다. 저는 별로였네요.\",\r\n",
        "  \"위생에 조금 더 신경 썼으면 좋겠습니다. 조금 불쾌했습니다.\"       \r\n",
        "]\r\n",
        "\r\n",
        "test_words = [\"음식\", \"맛\", \"서비스\", \"위생\", \"가격\"]"
      ],
      "execution_count": 3,
      "outputs": []
    },
    {
      "cell_type": "markdown",
      "metadata": {
        "id": "vReElaFSLBYL"
      },
      "source": [
        "Tokenization과 vocab을 만드는 과정은 이전 실습과 유사합니다."
      ]
    },
    {
      "cell_type": "code",
      "metadata": {
        "id": "dTjlRzmWMDK_"
      },
      "source": [
        "tokenizer = Okt()"
      ],
      "execution_count": 4,
      "outputs": []
    },
    {
      "cell_type": "code",
      "metadata": {
        "id": "0DTUsX672icp"
      },
      "source": [
        "def make_tokenized(data):\r\n",
        "  tokenized = []\r\n",
        "  for sent in tqdm(data):\r\n",
        "    tokens = tokenizer.morphs(sent, stem=True)\r\n",
        "    tokenized.append(tokens)\r\n",
        "\r\n",
        "  return tokenized"
      ],
      "execution_count": 5,
      "outputs": []
    },
    {
      "cell_type": "code",
      "metadata": {
        "id": "C-z0z6HD2rrX",
        "colab": {
          "base_uri": "https://localhost:8080/"
        },
        "outputId": "ce92bcb5-ba3d-4e9a-f538-66dd18aee164"
      },
      "source": [
        "train_tokenized = make_tokenized(train_data)"
      ],
      "execution_count": 6,
      "outputs": [
        {
          "output_type": "stream",
          "text": [
            "100%|██████████| 10/10 [00:05<00:00,  1.83it/s]\n"
          ],
          "name": "stderr"
        }
      ]
    },
    {
      "cell_type": "code",
      "metadata": {
        "id": "51exEpI0Mc3l",
        "colab": {
          "base_uri": "https://localhost:8080/"
        },
        "outputId": "8613aeef-ef57-4696-b4a4-390acddf96b6"
      },
      "source": [
        "word_count = defaultdict(int)\r\n",
        "\r\n",
        "for tokens in tqdm(train_tokenized):\r\n",
        "  for token in tokens:\r\n",
        "    word_count[token] += 1"
      ],
      "execution_count": 7,
      "outputs": [
        {
          "output_type": "stream",
          "text": [
            "100%|██████████| 10/10 [00:00<00:00, 22168.63it/s]\n"
          ],
          "name": "stderr"
        }
      ]
    },
    {
      "cell_type": "code",
      "metadata": {
        "id": "gyvHAMAnMh1D",
        "colab": {
          "base_uri": "https://localhost:8080/"
        },
        "outputId": "b3df3260-7e42-4f67-d713-6913e517e441"
      },
      "source": [
        "word_count = sorted(word_count.items(), key=lambda x: x[1], reverse=True)\r\n",
        "print(list(word_count))"
      ],
      "execution_count": 8,
      "outputs": [
        {
          "output_type": "stream",
          "text": [
            "[('.', 14), ('도', 7), ('이다', 4), ('좋다', 4), ('별로', 3), ('다', 3), ('이', 3), ('너무', 3), ('음식', 3), ('서비스', 3), ('하다', 2), ('방문', 2), ('위생', 2), ('좀', 2), ('더', 2), ('에', 2), ('조금', 2), ('정말', 1), ('맛있다', 1), ('추천', 1), ('기대하다', 1), ('것', 1), ('보단', 1), ('가격', 1), ('비싸다', 1), ('다시', 1), ('가다', 1), ('싶다', 1), ('생각', 1), ('안', 1), ('드네', 1), ('요', 1), ('완전', 1), ('최고', 1), ('!', 1), ('재', 1), ('의사', 1), ('있다', 1), ('만족스럽다', 1), ('상태', 1), ('가', 1), ('개선', 1), ('되다', 1), ('기르다', 1), ('바라다', 1), ('맛', 1), ('직원', 1), ('분들', 1), ('친절하다', 1), ('기념일', 1), ('분위기', 1), ('전반', 1), ('적', 1), ('으로', 1), ('짜다', 1), ('저', 1), ('는', 1), ('신경', 1), ('써다', 1), ('불쾌하다', 1)]\n"
          ],
          "name": "stdout"
        }
      ]
    },
    {
      "cell_type": "code",
      "metadata": {
        "id": "DaK_i3zL2vO3",
        "colab": {
          "base_uri": "https://localhost:8080/"
        },
        "outputId": "42596479-bf44-4911-bb8e-853faaec2ac6"
      },
      "source": [
        "w2i = {}\r\n",
        "for pair in tqdm(word_count):\r\n",
        "  if pair[0] not in w2i:\r\n",
        "    w2i[pair[0]] = len(w2i)"
      ],
      "execution_count": 9,
      "outputs": [
        {
          "output_type": "stream",
          "text": [
            "100%|██████████| 60/60 [00:00<00:00, 221140.81it/s]\n"
          ],
          "name": "stderr"
        }
      ]
    },
    {
      "cell_type": "code",
      "metadata": {
        "id": "LiGqiEGDL5B_",
        "colab": {
          "base_uri": "https://localhost:8080/"
        },
        "outputId": "d04c27ef-e867-4703-caa7-d322d5751465"
      },
      "source": [
        "print(train_tokenized)\r\n",
        "print(w2i)"
      ],
      "execution_count": 10,
      "outputs": [
        {
          "output_type": "stream",
          "text": [
            "[['정말', '맛있다', '.', '추천', '하다', '.'], ['기대하다', '것', '보단', '별로', '이다', '.'], ['다', '좋다', '가격', '이', '너무', '비싸다', '다시', '가다', '싶다', '생각', '이', '안', '드네', '요', '.'], ['완전', '최고', '이다', '!', '재', '방문', '의사', '있다', '.'], ['음식', '도', '서비스', '도', '다', '만족스럽다', '.'], ['위생', '상태', '가', '좀', '별로', '이다', '.', '좀', '더', '개선', '되다', '기르다', '바라다', '.'], ['맛', '도', '좋다', '직원', '분들', '서비스', '도', '너무', '친절하다', '.'], ['기념일', '에', '방문', '하다', '음식', '도', '분위기', '도', '서비스', '도', '다', '좋다', '.'], ['전반', '적', '으로', '음식', '이', '너무', '짜다', '.', '저', '는', '별로', '이다', '.'], ['위생', '에', '조금', '더', '신경', '써다', '좋다', '.', '조금', '불쾌하다', '.']]\n",
            "{'.': 0, '도': 1, '이다': 2, '좋다': 3, '별로': 4, '다': 5, '이': 6, '너무': 7, '음식': 8, '서비스': 9, '하다': 10, '방문': 11, '위생': 12, '좀': 13, '더': 14, '에': 15, '조금': 16, '정말': 17, '맛있다': 18, '추천': 19, '기대하다': 20, '것': 21, '보단': 22, '가격': 23, '비싸다': 24, '다시': 25, '가다': 26, '싶다': 27, '생각': 28, '안': 29, '드네': 30, '요': 31, '완전': 32, '최고': 33, '!': 34, '재': 35, '의사': 36, '있다': 37, '만족스럽다': 38, '상태': 39, '가': 40, '개선': 41, '되다': 42, '기르다': 43, '바라다': 44, '맛': 45, '직원': 46, '분들': 47, '친절하다': 48, '기념일': 49, '분위기': 50, '전반': 51, '적': 52, '으로': 53, '짜다': 54, '저': 55, '는': 56, '신경': 57, '써다': 58, '불쾌하다': 59}\n"
          ],
          "name": "stdout"
        }
      ]
    },
    {
      "cell_type": "markdown",
      "metadata": {
        "id": "vXA5zaPPM3Wd"
      },
      "source": [
        "실제 모델에 들어가기 위한 input을 만들기 위해 `Dataset` 클래스를 정의합니다."
      ]
    },
    {
      "cell_type": "code",
      "metadata": {
        "id": "s47ssyVt89t1"
      },
      "source": [
        "class CBOWDataset(Dataset):\r\n",
        "  def __init__(self, train_tokenized, window_size=2):\r\n",
        "    self.x = []\r\n",
        "    self.y = []\r\n",
        "\r\n",
        "    for tokens in tqdm(train_tokenized):\r\n",
        "      token_ids = [w2i[token] for token in tokens]\r\n",
        "      for i, id in enumerate(token_ids):\r\n",
        "        if i-window_size >= 0 and i+window_size < len(token_ids):\r\n",
        "          self.x.append(token_ids[i-window_size:i] + token_ids[i+1:i+window_size+1])\r\n",
        "          self.y.append(id)\r\n",
        "\r\n",
        "    self.x = torch.LongTensor(self.x)  # (전체 데이터 개수, 2 * window_size)\r\n",
        "    self.y = torch.LongTensor(self.y)  # (전체 데이터 개수)\r\n",
        "\r\n",
        "  def __len__(self):\r\n",
        "    return self.x.shape[0]\r\n",
        "\r\n",
        "  def __getitem__(self, idx):\r\n",
        "    return self.x[idx], self.y[idx]"
      ],
      "execution_count": 11,
      "outputs": []
    },
    {
      "cell_type": "code",
      "metadata": {
        "id": "kvInhQ33AMJv"
      },
      "source": [
        "class SkipGramDataset(Dataset):\r\n",
        "  def __init__(self, train_tokenized, window_size=2):\r\n",
        "    self.x = []\r\n",
        "    self.y = []\r\n",
        "\r\n",
        "    for tokens in tqdm(train_tokenized):\r\n",
        "      token_ids = [w2i[token] for token in tokens]\r\n",
        "      for i, id in enumerate(token_ids):\r\n",
        "        if i-window_size >= 0 and i+window_size < len(token_ids):\r\n",
        "          self.y += (token_ids[i-window_size:i] + token_ids[i+1:i+window_size+1])\r\n",
        "          self.x += [id] * 2 * window_size\r\n",
        "\r\n",
        "    self.x = torch.LongTensor(self.x)  # (전체 데이터 개수)\r\n",
        "    self.y = torch.LongTensor(self.y)  # (전체 데이터 개수)\r\n",
        "\r\n",
        "  def __len__(self):\r\n",
        "    return self.x.shape[0]\r\n",
        "\r\n",
        "  def __getitem__(self, idx):\r\n",
        "    return self.x[idx], self.y[idx]"
      ],
      "execution_count": 12,
      "outputs": []
    },
    {
      "cell_type": "markdown",
      "metadata": {
        "id": "JyAGV5IUUba0"
      },
      "source": [
        "각 모델에 맞는 `Dataset` 객체를 생성합니다."
      ]
    },
    {
      "cell_type": "code",
      "metadata": {
        "id": "5ep7Hm6oBWyy",
        "colab": {
          "base_uri": "https://localhost:8080/"
        },
        "outputId": "e046f1bf-786d-4c96-d8df-4da933620a54"
      },
      "source": [
        "cbow_set = CBOWDataset(train_tokenized)\r\n",
        "skipgram_set = SkipGramDataset(train_tokenized)\r\n",
        "print(list(skipgram_set))"
      ],
      "execution_count": 13,
      "outputs": [
        {
          "output_type": "stream",
          "text": [
            "100%|██████████| 10/10 [00:00<00:00, 39568.91it/s]\n",
            "100%|██████████| 10/10 [00:00<00:00, 5658.80it/s]"
          ],
          "name": "stderr"
        },
        {
          "output_type": "stream",
          "text": [
            "[(tensor(0), tensor(17)), (tensor(0), tensor(18)), (tensor(0), tensor(19)), (tensor(0), tensor(10)), (tensor(19), tensor(18)), (tensor(19), tensor(0)), (tensor(19), tensor(10)), (tensor(19), tensor(0)), (tensor(22), tensor(20)), (tensor(22), tensor(21)), (tensor(22), tensor(4)), (tensor(22), tensor(2)), (tensor(4), tensor(21)), (tensor(4), tensor(22)), (tensor(4), tensor(2)), (tensor(4), tensor(0)), (tensor(23), tensor(5)), (tensor(23), tensor(3)), (tensor(23), tensor(6)), (tensor(23), tensor(7)), (tensor(6), tensor(3)), (tensor(6), tensor(23)), (tensor(6), tensor(7)), (tensor(6), tensor(24)), (tensor(7), tensor(23)), (tensor(7), tensor(6)), (tensor(7), tensor(24)), (tensor(7), tensor(25)), (tensor(24), tensor(6)), (tensor(24), tensor(7)), (tensor(24), tensor(25)), (tensor(24), tensor(26)), (tensor(25), tensor(7)), (tensor(25), tensor(24)), (tensor(25), tensor(26)), (tensor(25), tensor(27)), (tensor(26), tensor(24)), (tensor(26), tensor(25)), (tensor(26), tensor(27)), (tensor(26), tensor(28)), (tensor(27), tensor(25)), (tensor(27), tensor(26)), (tensor(27), tensor(28)), (tensor(27), tensor(6)), (tensor(28), tensor(26)), (tensor(28), tensor(27)), (tensor(28), tensor(6)), (tensor(28), tensor(29)), (tensor(6), tensor(27)), (tensor(6), tensor(28)), (tensor(6), tensor(29)), (tensor(6), tensor(30)), (tensor(29), tensor(28)), (tensor(29), tensor(6)), (tensor(29), tensor(30)), (tensor(29), tensor(31)), (tensor(30), tensor(6)), (tensor(30), tensor(29)), (tensor(30), tensor(31)), (tensor(30), tensor(0)), (tensor(2), tensor(32)), (tensor(2), tensor(33)), (tensor(2), tensor(34)), (tensor(2), tensor(35)), (tensor(34), tensor(33)), (tensor(34), tensor(2)), (tensor(34), tensor(35)), (tensor(34), tensor(11)), (tensor(35), tensor(2)), (tensor(35), tensor(34)), (tensor(35), tensor(11)), (tensor(35), tensor(36)), (tensor(11), tensor(34)), (tensor(11), tensor(35)), (tensor(11), tensor(36)), (tensor(11), tensor(37)), (tensor(36), tensor(35)), (tensor(36), tensor(11)), (tensor(36), tensor(37)), (tensor(36), tensor(0)), (tensor(9), tensor(8)), (tensor(9), tensor(1)), (tensor(9), tensor(1)), (tensor(9), tensor(5)), (tensor(1), tensor(1)), (tensor(1), tensor(9)), (tensor(1), tensor(5)), (tensor(1), tensor(38)), (tensor(5), tensor(9)), (tensor(5), tensor(1)), (tensor(5), tensor(38)), (tensor(5), tensor(0)), (tensor(40), tensor(12)), (tensor(40), tensor(39)), (tensor(40), tensor(13)), (tensor(40), tensor(4)), (tensor(13), tensor(39)), (tensor(13), tensor(40)), (tensor(13), tensor(4)), (tensor(13), tensor(2)), (tensor(4), tensor(40)), (tensor(4), tensor(13)), (tensor(4), tensor(2)), (tensor(4), tensor(0)), (tensor(2), tensor(13)), (tensor(2), tensor(4)), (tensor(2), tensor(0)), (tensor(2), tensor(13)), (tensor(0), tensor(4)), (tensor(0), tensor(2)), (tensor(0), tensor(13)), (tensor(0), tensor(14)), (tensor(13), tensor(2)), (tensor(13), tensor(0)), (tensor(13), tensor(14)), (tensor(13), tensor(41)), (tensor(14), tensor(0)), (tensor(14), tensor(13)), (tensor(14), tensor(41)), (tensor(14), tensor(42)), (tensor(41), tensor(13)), (tensor(41), tensor(14)), (tensor(41), tensor(42)), (tensor(41), tensor(43)), (tensor(42), tensor(14)), (tensor(42), tensor(41)), (tensor(42), tensor(43)), (tensor(42), tensor(44)), (tensor(43), tensor(41)), (tensor(43), tensor(42)), (tensor(43), tensor(44)), (tensor(43), tensor(0)), (tensor(3), tensor(45)), (tensor(3), tensor(1)), (tensor(3), tensor(46)), (tensor(3), tensor(47)), (tensor(46), tensor(1)), (tensor(46), tensor(3)), (tensor(46), tensor(47)), (tensor(46), tensor(9)), (tensor(47), tensor(3)), (tensor(47), tensor(46)), (tensor(47), tensor(9)), (tensor(47), tensor(1)), (tensor(9), tensor(46)), (tensor(9), tensor(47)), (tensor(9), tensor(1)), (tensor(9), tensor(7)), (tensor(1), tensor(47)), (tensor(1), tensor(9)), (tensor(1), tensor(7)), (tensor(1), tensor(48)), (tensor(7), tensor(9)), (tensor(7), tensor(1)), (tensor(7), tensor(48)), (tensor(7), tensor(0)), (tensor(11), tensor(49)), (tensor(11), tensor(15)), (tensor(11), tensor(10)), (tensor(11), tensor(8)), (tensor(10), tensor(15)), (tensor(10), tensor(11)), (tensor(10), tensor(8)), (tensor(10), tensor(1)), (tensor(8), tensor(11)), (tensor(8), tensor(10)), (tensor(8), tensor(1)), (tensor(8), tensor(50)), (tensor(1), tensor(10)), (tensor(1), tensor(8)), (tensor(1), tensor(50)), (tensor(1), tensor(1)), (tensor(50), tensor(8)), (tensor(50), tensor(1)), (tensor(50), tensor(1)), (tensor(50), tensor(9)), (tensor(1), tensor(1)), (tensor(1), tensor(50)), (tensor(1), tensor(9)), (tensor(1), tensor(1)), (tensor(9), tensor(50)), (tensor(9), tensor(1)), (tensor(9), tensor(1)), (tensor(9), tensor(5)), (tensor(1), tensor(1)), (tensor(1), tensor(9)), (tensor(1), tensor(5)), (tensor(1), tensor(3)), (tensor(5), tensor(9)), (tensor(5), tensor(1)), (tensor(5), tensor(3)), (tensor(5), tensor(0)), (tensor(53), tensor(51)), (tensor(53), tensor(52)), (tensor(53), tensor(8)), (tensor(53), tensor(6)), (tensor(8), tensor(52)), (tensor(8), tensor(53)), (tensor(8), tensor(6)), (tensor(8), tensor(7)), (tensor(6), tensor(53)), (tensor(6), tensor(8)), (tensor(6), tensor(7)), (tensor(6), tensor(54)), (tensor(7), tensor(8)), (tensor(7), tensor(6)), (tensor(7), tensor(54)), (tensor(7), tensor(0)), (tensor(54), tensor(6)), (tensor(54), tensor(7)), (tensor(54), tensor(0)), (tensor(54), tensor(55)), (tensor(0), tensor(7)), (tensor(0), tensor(54)), (tensor(0), tensor(55)), (tensor(0), tensor(56)), (tensor(55), tensor(54)), (tensor(55), tensor(0)), (tensor(55), tensor(56)), (tensor(55), tensor(4)), (tensor(56), tensor(0)), (tensor(56), tensor(55)), (tensor(56), tensor(4)), (tensor(56), tensor(2)), (tensor(4), tensor(55)), (tensor(4), tensor(56)), (tensor(4), tensor(2)), (tensor(4), tensor(0)), (tensor(16), tensor(12)), (tensor(16), tensor(15)), (tensor(16), tensor(14)), (tensor(16), tensor(57)), (tensor(14), tensor(15)), (tensor(14), tensor(16)), (tensor(14), tensor(57)), (tensor(14), tensor(58)), (tensor(57), tensor(16)), (tensor(57), tensor(14)), (tensor(57), tensor(58)), (tensor(57), tensor(3)), (tensor(58), tensor(14)), (tensor(58), tensor(57)), (tensor(58), tensor(3)), (tensor(58), tensor(0)), (tensor(3), tensor(57)), (tensor(3), tensor(58)), (tensor(3), tensor(0)), (tensor(3), tensor(16)), (tensor(0), tensor(58)), (tensor(0), tensor(3)), (tensor(0), tensor(16)), (tensor(0), tensor(59)), (tensor(16), tensor(3)), (tensor(16), tensor(0)), (tensor(16), tensor(59)), (tensor(16), tensor(0))]\n"
          ],
          "name": "stdout"
        },
        {
          "output_type": "stream",
          "text": [
            "\n"
          ],
          "name": "stderr"
        }
      ]
    },
    {
      "cell_type": "markdown",
      "metadata": {
        "id": "1QSo73PoRyd9"
      },
      "source": [
        "### **모델 Class 구현**"
      ]
    },
    {
      "cell_type": "markdown",
      "metadata": {
        "id": "jnnk44R6R28x"
      },
      "source": [
        "차례대로 두 가지 Word2Vec 모델을 구현합니다.  \r\n",
        "\r\n",
        "\r\n",
        "*   `self.embedding`: `vocab_size` 크기의 one-hot vector를 특정 크기의 `dim` 차원으로 embedding 시키는 layer.\r\n",
        "*   `self.linear`: 변환된 embedding vector를 다시 원래 `vocab_size`로 바꾸는 layer.\r\n"
      ]
    },
    {
      "cell_type": "code",
      "metadata": {
        "id": "b_HP1ISq5CWv"
      },
      "source": [
        "class CBOW(nn.Module):\r\n",
        "  def __init__(self, vocab_size, dim):\r\n",
        "    super(CBOW, self).__init__()\r\n",
        "    self.embedding = nn.Embedding(vocab_size, dim, sparse=True)\r\n",
        "    self.linear = nn.Linear(dim, vocab_size)\r\n",
        "\r\n",
        "  # B: batch size, W: window size, d_w: word embedding size, V: vocab size\r\n",
        "  def forward(self, x):  # x: (B, 2W)\r\n",
        "    embeddings = self.embedding(x)  # (B, 2W, d_w)\r\n",
        "    embeddings = torch.sum(embeddings, dim=1)  # (B, d_w)\r\n",
        "    output = self.linear(embeddings)  # (B, V)\r\n",
        "    return output"
      ],
      "execution_count": 14,
      "outputs": []
    },
    {
      "cell_type": "code",
      "metadata": {
        "id": "yQAUApww68MJ"
      },
      "source": [
        "class SkipGram(nn.Module):\r\n",
        "  def __init__(self, vocab_size, dim):\r\n",
        "    super(SkipGram, self).__init__()\r\n",
        "    self.embedding = nn.Embedding(vocab_size, dim, sparse=True)\r\n",
        "    self.linear = nn.Linear(dim, vocab_size)\r\n",
        "\r\n",
        "  # B: batch size, W: window size, d_w: word embedding size, V: vocab size\r\n",
        "  def forward(self, x): # x: (B)\r\n",
        "    embeddings = self.embedding(x)  # (B, d_w)\r\n",
        "    output = self.linear(embeddings)  # (B, V)\r\n",
        "    return output"
      ],
      "execution_count": 15,
      "outputs": []
    },
    {
      "cell_type": "markdown",
      "metadata": {
        "id": "58cJalkDWYMT"
      },
      "source": [
        "두 가지 모델을 생성합니다."
      ]
    },
    {
      "cell_type": "code",
      "metadata": {
        "id": "8vWUXEi8WeM-"
      },
      "source": [
        "cbow = CBOW(vocab_size=len(w2i), dim=256)\r\n",
        "skipgram = SkipGram(vocab_size=len(w2i), dim=256)"
      ],
      "execution_count": 16,
      "outputs": []
    },
    {
      "cell_type": "markdown",
      "metadata": {
        "id": "xxP7qdtNWil1"
      },
      "source": [
        "### **모델 학습**"
      ]
    },
    {
      "cell_type": "markdown",
      "metadata": {
        "id": "QVggZrQ4WpBS"
      },
      "source": [
        "다음과 같이 hyperparamter를 세팅하고 `DataLoader` 객체를 만듭니다."
      ]
    },
    {
      "cell_type": "code",
      "metadata": {
        "id": "ygVdz5rSBeNu"
      },
      "source": [
        "batch_size=4\r\n",
        "learning_rate = 5e-4\r\n",
        "num_epochs = 5\r\n",
        "device = torch.device('cuda') if torch.cuda.is_available() else torch.device('cpu')\r\n",
        "\r\n",
        "cbow_loader = DataLoader(cbow_set, batch_size=batch_size)\r\n",
        "skipgram_loader = DataLoader(skipgram_set, batch_size=batch_size)"
      ],
      "execution_count": 17,
      "outputs": []
    },
    {
      "cell_type": "markdown",
      "metadata": {
        "id": "ekixqKB3X5C1"
      },
      "source": [
        "첫번째로 CBOW 모델 학습입니다."
      ]
    },
    {
      "cell_type": "code",
      "metadata": {
        "id": "-d95qR7oC822",
        "colab": {
          "base_uri": "https://localhost:8080/"
        },
        "outputId": "49c9f62c-a5d0-4b45-c9e3-a8f02fadae62"
      },
      "source": [
        "cbow.train()\r\n",
        "cbow = cbow.to(device)\r\n",
        "optim = torch.optim.SGD(cbow.parameters(), lr=learning_rate)\r\n",
        "loss_function = nn.CrossEntropyLoss()\r\n",
        "\r\n",
        "for e in range(1, num_epochs+1):\r\n",
        "  print(\"#\" * 50)\r\n",
        "  print(f\"Epoch: {e}\")\r\n",
        "  for batch in tqdm(cbow_loader):\r\n",
        "    x, y = batch\r\n",
        "    x, y = x.to(device), y.to(device) # (B, W), (B)\r\n",
        "    output = cbow(x)  # (B, V)\r\n",
        " \r\n",
        "    optim.zero_grad()\r\n",
        "    loss = loss_function(output, y)\r\n",
        "    loss.backward()\r\n",
        "    optim.step()\r\n",
        "\r\n",
        "    print(f\"Train loss: {loss.item()}\")\r\n",
        "\r\n",
        "print(\"Finished.\")"
      ],
      "execution_count": 18,
      "outputs": [
        {
          "output_type": "stream",
          "text": [
            "100%|██████████| 16/16 [00:00<00:00, 83.61it/s]\n",
            "  0%|          | 0/16 [00:00<?, ?it/s]"
          ],
          "name": "stderr"
        },
        {
          "output_type": "stream",
          "text": [
            "##################################################\n",
            "Epoch: 1\n",
            "Train loss: 4.918984413146973\n",
            "Train loss: 4.808871269226074\n",
            "Train loss: 4.287832260131836\n",
            "Train loss: 5.530417442321777\n",
            "Train loss: 5.20170259475708\n",
            "Train loss: 3.826876640319824\n",
            "Train loss: 5.974105358123779\n",
            "Train loss: 4.024430274963379\n",
            "Train loss: 4.936190605163574\n",
            "Train loss: 4.39900016784668\n",
            "Train loss: 4.367701053619385\n",
            "Train loss: 4.321840286254883\n",
            "Train loss: 4.843523025512695\n",
            "Train loss: 4.647263050079346\n",
            "Train loss: 4.8774542808532715\n",
            "Train loss: 6.048351764678955\n",
            "##################################################\n",
            "Epoch: 2\n",
            "Train loss: 4.783356666564941\n",
            "Train loss: 4.6636433601379395\n"
          ],
          "name": "stdout"
        },
        {
          "output_type": "stream",
          "text": [
            "100%|██████████| 16/16 [00:00<00:00, 616.74it/s]\n",
            "100%|██████████| 16/16 [00:00<00:00, 644.26it/s]\n",
            "100%|██████████| 16/16 [00:00<00:00, 743.49it/s]\n",
            "100%|██████████| 16/16 [00:00<00:00, 635.69it/s]"
          ],
          "name": "stderr"
        },
        {
          "output_type": "stream",
          "text": [
            "Train loss: 4.155683517456055\n",
            "Train loss: 5.379117012023926\n",
            "Train loss: 5.057653427124023\n",
            "Train loss: 3.5813560485839844\n",
            "Train loss: 5.766635894775391\n",
            "Train loss: 3.8913605213165283\n",
            "Train loss: 4.785010814666748\n",
            "Train loss: 4.226993560791016\n",
            "Train loss: 4.186971187591553\n",
            "Train loss: 3.970266819000244\n",
            "Train loss: 4.685272216796875\n",
            "Train loss: 4.523494720458984\n",
            "Train loss: 4.709317207336426\n",
            "Train loss: 5.884603977203369\n",
            "##################################################\n",
            "Epoch: 3\n",
            "Train loss: 4.648874759674072\n",
            "Train loss: 4.520533084869385\n",
            "Train loss: 4.025557994842529\n",
            "Train loss: 5.229218006134033\n",
            "Train loss: 4.915145397186279\n",
            "Train loss: 3.352673053741455\n",
            "Train loss: 5.563316345214844\n",
            "Train loss: 3.761737108230591\n",
            "Train loss: 4.6386399269104\n",
            "Train loss: 4.061951637268066\n",
            "Train loss: 4.0133538246154785\n",
            "Train loss: 3.635598659515381\n",
            "Train loss: 4.529045104980469\n",
            "Train loss: 4.4024271965026855\n",
            "Train loss: 4.543397903442383\n",
            "Train loss: 5.724033355712891\n",
            "##################################################\n",
            "Epoch: 4\n",
            "Train loss: 4.515607833862305\n",
            "Train loss: 4.379570960998535\n",
            "Train loss: 3.897514820098877\n",
            "Train loss: 5.080740928649902\n",
            "Train loss: 4.774196624755859\n",
            "Train loss: 3.1408257484436035\n",
            "Train loss: 5.364169597625732\n",
            "Train loss: 3.635504722595215\n",
            "Train loss: 4.497010707855225\n",
            "Train loss: 3.903728723526001\n",
            "Train loss: 3.8462040424346924\n",
            "Train loss: 3.31754732131958\n",
            "Train loss: 4.3748908042907715\n",
            "Train loss: 4.284043788909912\n",
            "Train loss: 4.3797993659973145\n",
            "Train loss: 5.566568851470947\n",
            "##################################################\n",
            "Epoch: 5\n",
            "Train loss: 4.383635520935059\n",
            "Train loss: 4.240795612335205\n",
            "Train loss: 3.7716119289398193\n",
            "Train loss: 4.933722972869873\n",
            "Train loss: 4.63482666015625\n",
            "Train loss: 2.94608998298645\n",
            "Train loss: 5.169268608093262\n",
            "Train loss: 3.512622594833374\n",
            "Train loss: 4.360225200653076\n",
            "Train loss: 3.7522432804107666\n",
            "Train loss: 3.685472011566162\n",
            "Train loss: 3.016861915588379\n",
            "Train loss: 4.22287130355835\n",
            "Train loss: 4.16832971572876\n",
            "Train loss: 4.218645095825195\n",
            "Train loss: 5.412137031555176\n",
            "Finished.\n"
          ],
          "name": "stdout"
        },
        {
          "output_type": "stream",
          "text": [
            "\n"
          ],
          "name": "stderr"
        }
      ]
    },
    {
      "cell_type": "markdown",
      "metadata": {
        "id": "FDahBf6IX4py"
      },
      "source": [
        "다음으로 Skip-gram 모델 학습입니다."
      ]
    },
    {
      "cell_type": "code",
      "metadata": {
        "id": "jJxGEusqFV5r",
        "colab": {
          "base_uri": "https://localhost:8080/"
        },
        "outputId": "159bcb4b-467c-4409-8c66-2933e4f57fa8"
      },
      "source": [
        "skipgram.train()\r\n",
        "skipgram = skipgram.to(device)\r\n",
        "optim = torch.optim.SGD(skipgram.parameters(), lr=learning_rate)\r\n",
        "loss_function = nn.CrossEntropyLoss()\r\n",
        "\r\n",
        "for e in range(1, num_epochs+1):\r\n",
        "  print(\"#\" * 50)\r\n",
        "  print(f\"Epoch: {e}\")\r\n",
        "  for batch in tqdm(skipgram_loader):\r\n",
        "    x, y = batch\r\n",
        "    x, y = x.to(device), y.to(device) # (B, W), (B)\r\n",
        "    output = skipgram(x)  # (B, V)\r\n",
        "\r\n",
        "    optim.zero_grad()\r\n",
        "    loss = loss_function(output, y)\r\n",
        "    loss.backward()\r\n",
        "    optim.step()\r\n",
        "\r\n",
        "    print(f\"Train loss: {loss.item()}\")\r\n",
        "\r\n",
        "print(\"Finished.\")"
      ],
      "execution_count": 19,
      "outputs": [
        {
          "output_type": "stream",
          "text": [
            "\r  0%|          | 0/64 [00:00<?, ?it/s]"
          ],
          "name": "stderr"
        },
        {
          "output_type": "stream",
          "text": [
            "##################################################\n",
            "Epoch: 1\n",
            "Train loss: 4.207857131958008\n",
            "Train loss: 3.5234036445617676\n",
            "Train loss: 4.5736188888549805\n",
            "Train loss: 4.267858982086182\n",
            "Train loss: 4.011657238006592\n",
            "Train loss: 4.458869934082031\n",
            "Train loss: 4.906720161437988\n",
            "Train loss: 3.988703727722168\n",
            "Train loss: 4.161901473999023\n",
            "Train loss: 4.5914082527160645\n",
            "Train loss: 4.794273376464844\n",
            "Train loss: 4.027994155883789\n",
            "Train loss: 4.529797554016113\n",
            "Train loss: 4.295514106750488\n",
            "Train loss: 4.459736347198486\n",
            "Train loss: 4.531698226928711\n",
            "Train loss: 4.458432197570801\n",
            "Train loss: 4.799626350402832\n",
            "Train loss: 4.328784942626953\n",
            "Train loss: 4.442192554473877\n",
            "Train loss: 3.901571035385132\n",
            "Train loss: 4.215538024902344\n",
            "Train loss: 4.187392711639404\n",
            "Train loss: 4.00093936920166\n",
            "Train loss: 4.009987831115723\n",
            "Train loss: 4.1357035636901855\n",
            "Train loss: 4.453004837036133\n",
            "Train loss: 4.223850727081299\n",
            "Train loss: 3.6689605712890625\n",
            "Train loss: 4.510236740112305\n",
            "Train loss: 3.7955877780914307\n",
            "Train loss: 4.463980674743652\n",
            "Train loss: 4.465644836425781\n",
            "Train loss: 4.219472408294678\n",
            "Train loss: 4.147370338439941\n",
            "Train loss: 3.9130961894989014\n",
            "Train loss: 3.8659632205963135\n",
            "Train loss: 3.8935437202453613\n",
            "Train loss: 4.0868401527404785\n",
            "Train loss: 5.024174213409424\n",
            "Train loss: 4.474071502685547\n",
            "Train loss: 4.392867088317871\n",
            "Train loss: 4.313399314880371\n",
            "Train loss: 3.8742048740386963\n",
            "Train loss: 3.821181535720825\n",
            "Train loss: 4.013250827789307\n",
            "Train loss: 3.8478055000305176\n",
            "Train loss: 4.2809038162231445\n",
            "Train loss: 4.286343574523926\n",
            "Train loss: 3.9414219856262207\n",
            "Train loss: 4.5205793380737305\n",
            "Train loss: 4.204294681549072\n",
            "Train loss: 4.5447893142700195\n",
            "Train loss: 4.281303405761719\n"
          ],
          "name": "stdout"
        },
        {
          "output_type": "stream",
          "text": [
            "100%|██████████| 64/64 [00:00<00:00, 676.41it/s]\n",
            "100%|██████████| 64/64 [00:00<00:00, 746.24it/s]\n",
            "  0%|          | 0/64 [00:00<?, ?it/s]"
          ],
          "name": "stderr"
        },
        {
          "output_type": "stream",
          "text": [
            "Train loss: 4.327714920043945\n",
            "Train loss: 3.8385539054870605\n",
            "Train loss: 4.003208160400391\n",
            "Train loss: 4.287541389465332\n",
            "Train loss: 4.339561462402344\n",
            "Train loss: 4.400043487548828\n",
            "Train loss: 4.139243125915527\n",
            "Train loss: 4.439983367919922\n",
            "Train loss: 4.110322952270508\n",
            "Train loss: 3.3992233276367188\n",
            "##################################################\n",
            "Epoch: 2\n",
            "Train loss: 4.182790279388428\n",
            "Train loss: 3.478567361831665\n",
            "Train loss: 4.5398054122924805\n",
            "Train loss: 4.209433555603027\n",
            "Train loss: 3.9777188301086426\n",
            "Train loss: 4.418764591217041\n",
            "Train loss: 4.859943866729736\n",
            "Train loss: 3.9627890586853027\n",
            "Train loss: 4.135342597961426\n",
            "Train loss: 4.563461780548096\n",
            "Train loss: 4.758031368255615\n",
            "Train loss: 3.9936928749084473\n",
            "Train loss: 4.5003252029418945\n",
            "Train loss: 4.266109466552734\n",
            "Train loss: 4.421187400817871\n",
            "Train loss: 4.502606391906738\n",
            "Train loss: 4.43149471282959\n",
            "Train loss: 4.761442184448242\n",
            "Train loss: 4.299889087677002\n",
            "Train loss: 4.410280227661133\n",
            "Train loss: 3.815575122833252\n",
            "Train loss: 4.1271796226501465\n",
            "Train loss: 4.144343376159668\n",
            "Train loss: 3.9723520278930664\n",
            "Train loss: 3.976498603820801\n",
            "Train loss: 4.079956531524658\n",
            "Train loss: 4.408069610595703\n",
            "Train loss: 4.194285869598389\n",
            "Train loss: 3.6388046741485596\n",
            "Train loss: 4.477985858917236\n",
            "Train loss: 3.7693073749542236\n",
            "Train loss: 4.435296058654785\n",
            "Train loss: 4.442018985748291\n",
            "Train loss: 4.189672470092773\n",
            "Train loss: 4.119779109954834\n",
            "Train loss: 3.884871006011963\n",
            "Train loss: 3.8161277770996094\n",
            "Train loss: 3.8499603271484375\n",
            "Train loss: 4.050695896148682\n",
            "Train loss: 4.985769271850586\n",
            "Train loss: 4.433138370513916\n",
            "Train loss: 4.352202415466309\n",
            "Train loss: 4.245304584503174\n",
            "Train loss: 3.832834482192993\n",
            "Train loss: 3.7028489112854004\n",
            "Train loss: 3.9257259368896484\n",
            "Train loss: 3.7655138969421387\n",
            "Train loss: 4.2372941970825195\n",
            "Train loss: 4.251270771026611\n",
            "Train loss: 3.9146952629089355\n",
            "Train loss: 4.4785566329956055\n",
            "Train loss: 4.153473377227783\n",
            "Train loss: 4.506071090698242\n",
            "Train loss: 4.254199028015137\n",
            "Train loss: 4.29541015625\n",
            "Train loss: 3.8026463985443115\n",
            "Train loss: 3.945344924926758\n",
            "Train loss: 4.2593913078308105\n",
            "Train loss: 4.304432392120361\n",
            "Train loss: 4.366498947143555\n",
            "Train loss: 4.106328964233398\n",
            "Train loss: 4.400619029998779\n",
            "Train loss: 4.087864875793457\n",
            "Train loss: 3.3561415672302246\n",
            "##################################################\n",
            "Epoch: 3\n",
            "Train loss: 4.158215045928955\n",
            "Train loss: 3.4341938495635986\n",
            "Train loss: 4.506160736083984\n",
            "Train loss: 4.151787281036377\n"
          ],
          "name": "stdout"
        },
        {
          "output_type": "stream",
          "text": [
            "100%|██████████| 64/64 [00:00<00:00, 724.53it/s]\n",
            "  0%|          | 0/64 [00:00<?, ?it/s]"
          ],
          "name": "stderr"
        },
        {
          "output_type": "stream",
          "text": [
            "Train loss: 3.9440221786499023\n",
            "Train loss: 4.37922477722168\n",
            "Train loss: 4.813733100891113\n",
            "Train loss: 3.9370288848876953\n",
            "Train loss: 4.108903408050537\n",
            "Train loss: 4.53563117980957\n",
            "Train loss: 4.721955299377441\n",
            "Train loss: 3.9596235752105713\n",
            "Train loss: 4.471277236938477\n",
            "Train loss: 4.236855506896973\n",
            "Train loss: 4.382852077484131\n",
            "Train loss: 4.473780155181885\n",
            "Train loss: 4.404668807983398\n",
            "Train loss: 4.723435401916504\n",
            "Train loss: 4.271284103393555\n",
            "Train loss: 4.378574371337891\n",
            "Train loss: 3.731248617172241\n",
            "Train loss: 4.041170597076416\n",
            "Train loss: 4.101564407348633\n",
            "Train loss: 3.943929433822632\n",
            "Train loss: 3.9434947967529297\n",
            "Train loss: 4.02498197555542\n",
            "Train loss: 4.363460540771484\n",
            "Train loss: 4.165288925170898\n",
            "Train loss: 3.6091456413269043\n",
            "Train loss: 4.446080207824707\n",
            "Train loss: 3.7431960105895996\n",
            "Train loss: 4.406737327575684\n",
            "Train loss: 4.418460369110107\n",
            "Train loss: 4.160217761993408\n",
            "Train loss: 4.092319011688232\n",
            "Train loss: 3.856858968734741\n",
            "Train loss: 3.767615795135498\n",
            "Train loss: 3.808361291885376\n",
            "Train loss: 4.01524543762207\n",
            "Train loss: 4.947619438171387\n",
            "Train loss: 4.392463684082031\n",
            "Train loss: 4.312015533447266\n",
            "Train loss: 4.179225921630859\n",
            "Train loss: 3.791654586791992\n",
            "Train loss: 3.5875244140625\n",
            "Train loss: 3.8399553298950195\n",
            "Train loss: 3.685687303543091\n",
            "Train loss: 4.193953514099121\n",
            "Train loss: 4.216391086578369\n",
            "Train loss: 3.8883371353149414\n",
            "Train loss: 4.43707799911499\n",
            "Train loss: 4.103455543518066\n",
            "Train loss: 4.467560291290283\n",
            "Train loss: 4.227609157562256\n",
            "Train loss: 4.2632975578308105\n",
            "Train loss: 3.7670581340789795\n",
            "Train loss: 3.888328790664673\n",
            "Train loss: 4.231741905212402\n",
            "Train loss: 4.269680976867676\n",
            "Train loss: 4.333134651184082\n",
            "Train loss: 4.0736260414123535\n",
            "Train loss: 4.361691474914551\n",
            "Train loss: 4.065844535827637\n",
            "Train loss: 3.3139846324920654\n",
            "##################################################\n",
            "Epoch: 4\n"
          ],
          "name": "stdout"
        },
        {
          "output_type": "stream",
          "text": [
            "100%|██████████| 64/64 [00:00<00:00, 751.64it/s]\n",
            "  0%|          | 0/64 [00:00<?, ?it/s]"
          ],
          "name": "stderr"
        },
        {
          "output_type": "stream",
          "text": [
            "Train loss: 4.134123802185059\n",
            "Train loss: 3.3902945518493652\n",
            "Train loss: 4.472687721252441\n",
            "Train loss: 4.094958305358887\n",
            "Train loss: 3.9105706214904785\n",
            "Train loss: 4.340254306793213\n",
            "Train loss: 4.768090724945068\n",
            "Train loss: 3.911424398422241\n",
            "Train loss: 4.082584381103516\n",
            "Train loss: 4.50791597366333\n",
            "Train loss: 4.686046600341797\n",
            "Train loss: 3.925790786743164\n",
            "Train loss: 4.442651748657227\n",
            "Train loss: 4.2077531814575195\n",
            "Train loss: 4.3447346687316895\n",
            "Train loss: 4.445223808288574\n",
            "Train loss: 4.377955436706543\n",
            "Train loss: 4.685609340667725\n",
            "Train loss: 4.242969989776611\n",
            "Train loss: 4.347077369689941\n",
            "Train loss: 3.6487274169921875\n",
            "Train loss: 3.9576616287231445\n",
            "Train loss: 4.059053421020508\n",
            "Train loss: 3.9156739711761475\n",
            "Train loss: 3.9109838008880615\n",
            "Train loss: 3.970818519592285\n",
            "Train loss: 4.319183349609375\n",
            "Train loss: 4.136853218078613\n",
            "Train loss: 3.579991102218628\n",
            "Train loss: 4.414514541625977\n",
            "Train loss: 3.7172529697418213\n",
            "Train loss: 4.378304481506348\n",
            "Train loss: 4.394967555999756\n",
            "Train loss: 4.131109237670898\n",
            "Train loss: 4.064990043640137\n",
            "Train loss: 3.829059600830078\n",
            "Train loss: 3.7205145359039307\n",
            "Train loss: 3.76882266998291\n",
            "Train loss: 3.980496883392334\n",
            "Train loss: 4.909725666046143\n",
            "Train loss: 4.352055072784424\n",
            "Train loss: 4.272324562072754\n",
            "Train loss: 4.115268230438232\n",
            "Train loss: 3.750664234161377\n",
            "Train loss: 3.4754228591918945\n",
            "Train loss: 3.7560765743255615\n",
            "Train loss: 3.608473062515259\n",
            "Train loss: 4.150882244110107\n",
            "Train loss: 4.181709289550781\n",
            "Train loss: 3.8623476028442383\n",
            "Train loss: 4.396147727966309\n",
            "Train loss: 4.0542521476745605\n",
            "Train loss: 4.429263114929199\n",
            "Train loss: 4.20152473449707\n",
            "Train loss: 4.231379508972168\n",
            "Train loss: 3.7317936420440674\n",
            "Train loss: 3.8321986198425293\n",
            "Train loss: 4.20458984375\n",
            "Train loss: 4.235306739807129\n",
            "Train loss: 4.299953937530518\n",
            "Train loss: 4.041140556335449\n",
            "Train loss: 4.323207378387451\n",
            "Train loss: 4.04425573348999\n",
            "Train loss: 3.27276611328125\n",
            "##################################################\n",
            "Epoch: 5\n",
            "Train loss: 4.110508918762207\n",
            "Train loss: 3.346879482269287\n",
            "Train loss: 4.439388751983643\n",
            "Train loss: 4.038985729217529\n",
            "Train loss: 3.8773677349090576\n",
            "Train loss: 4.3018574714660645\n",
            "Train loss: 4.723018646240234\n",
            "Train loss: 3.8859779834747314\n",
            "Train loss: 4.0563859939575195\n",
            "Train loss: 4.480317115783691\n",
            "Train loss: 4.650304794311523\n",
            "Train loss: 3.8921990394592285\n",
            "Train loss: 4.414449691772461\n",
            "Train loss: 4.178804397583008\n",
            "Train loss: 4.306840419769287\n",
            "Train loss: 4.4169392585754395\n",
            "Train loss: 4.351356506347656\n",
            "Train loss: 4.647964954376221\n",
            "Train loss: 4.2149481773376465\n",
            "Train loss: 4.315792083740234\n",
            "Train loss: 3.5681509971618652\n",
            "Train loss: 3.8768057823181152\n"
          ],
          "name": "stdout"
        },
        {
          "output_type": "stream",
          "text": [
            "\r100%|██████████| 64/64 [00:00<00:00, 749.37it/s]"
          ],
          "name": "stderr"
        },
        {
          "output_type": "stream",
          "text": [
            "Train loss: 4.016809463500977\n",
            "Train loss: 3.8875880241394043\n",
            "Train loss: 3.8789727687835693\n",
            "Train loss: 3.9175055027008057\n",
            "Train loss: 4.275241851806641\n",
            "Train loss: 4.108973503112793\n",
            "Train loss: 3.551347494125366\n",
            "Train loss: 4.383285045623779\n",
            "Train loss: 3.691479206085205\n",
            "Train loss: 4.350000381469727\n",
            "Train loss: 4.371538162231445\n",
            "Train loss: 4.102349281311035\n",
            "Train loss: 4.037790298461914\n",
            "Train loss: 3.801474094390869\n",
            "Train loss: 3.674910545349121\n",
            "Train loss: 3.7314136028289795\n",
            "Train loss: 3.946455717086792\n",
            "Train loss: 4.8720903396606445\n",
            "Train loss: 4.311922073364258\n",
            "Train loss: 4.233147621154785\n",
            "Train loss: 4.053537368774414\n",
            "Train loss: 3.709861993789673\n",
            "Train loss: 3.366763114929199\n",
            "Train loss: 3.6742324829101562\n",
            "Train loss: 3.5340158939361572\n",
            "Train loss: 4.1080780029296875\n",
            "Train loss: 4.147226810455322\n",
            "Train loss: 3.8367271423339844\n",
            "Train loss: 4.355772018432617\n",
            "Train loss: 4.005873203277588\n",
            "Train loss: 4.391183376312256\n",
            "Train loss: 4.175941467285156\n",
            "Train loss: 4.1996564865112305\n",
            "Train loss: 3.696857213973999\n",
            "Train loss: 3.776994228363037\n",
            "Train loss: 4.177931785583496\n",
            "Train loss: 4.201309680938721\n",
            "Train loss: 4.266958236694336\n",
            "Train loss: 4.008874893188477\n",
            "Train loss: 4.285170078277588\n",
            "Train loss: 4.023088455200195\n",
            "Train loss: 3.232496976852417\n",
            "Finished.\n"
          ],
          "name": "stdout"
        },
        {
          "output_type": "stream",
          "text": [
            "\n"
          ],
          "name": "stderr"
        }
      ]
    },
    {
      "cell_type": "markdown",
      "metadata": {
        "id": "Pi0sbHV6dEOR"
      },
      "source": [
        "### **테스트**"
      ]
    },
    {
      "cell_type": "markdown",
      "metadata": {
        "id": "WGarLWxXeJvz"
      },
      "source": [
        "학습된 각 모델을 이용하여 test 단어들의 word embedding을 확인합니다."
      ]
    },
    {
      "cell_type": "code",
      "metadata": {
        "id": "4A1wrl-L_RjF",
        "colab": {
          "base_uri": "https://localhost:8080/"
        },
        "outputId": "00e97a95-1a23-4004-b866-7b4c633eac5a"
      },
      "source": [
        "for word in test_words:\r\n",
        "  input_id = torch.LongTensor([w2i[word]]).to(device)\r\n",
        "  emb = cbow.embedding(input_id)\r\n",
        "\r\n",
        "  print(f\"Word: {word}\")\r\n",
        "  print(emb.squeeze(0))"
      ],
      "execution_count": 20,
      "outputs": [
        {
          "output_type": "stream",
          "text": [
            "Word: 음식\n",
            "tensor([-0.3703,  0.2070, -0.0210, -0.4419, -0.6693,  0.6081, -1.0257, -1.6998,\n",
            "         0.0335, -1.1137,  0.2362,  1.8460,  2.6074, -0.0270, -1.1597, -0.3125,\n",
            "         0.4015, -0.5558,  1.0377,  1.2693, -0.3645,  2.2569,  0.4265, -1.2970,\n",
            "        -0.7456,  1.5841,  0.0761,  0.1560, -0.0097,  0.1958,  1.8457, -1.1822,\n",
            "        -0.0048, -0.5153,  1.1439,  0.3196, -0.6785,  1.2522, -0.9340,  0.8138,\n",
            "         0.0424, -0.4504, -0.3001,  0.0934, -0.0923,  0.3502, -0.1752, -0.2143,\n",
            "         0.4093, -1.4581, -0.3644,  0.3045,  0.3902,  0.4472,  0.9183, -0.6240,\n",
            "        -0.3673, -0.6556,  1.9662, -0.2060, -0.6740,  1.6264, -0.2121, -0.0408,\n",
            "        -0.0101,  0.2785, -0.1552, -1.3472, -0.6049,  0.1696, -0.5029,  1.2507,\n",
            "        -1.0286,  0.6753,  1.2800, -1.2351, -0.2297, -0.8465, -0.1557, -0.1328,\n",
            "         1.1539, -0.9876, -0.7554, -0.4650, -0.9811,  1.9723, -0.0950, -0.5834,\n",
            "         1.0778,  1.5228, -0.5098, -0.1756, -1.0877, -0.7893,  1.1786,  0.2906,\n",
            "        -0.6684, -0.7622,  0.2995, -0.4769,  1.1710, -0.0209,  0.6722, -1.8252,\n",
            "         1.9157,  0.2052,  0.9568, -0.8498,  0.4718, -0.2878,  1.7093,  0.9920,\n",
            "        -0.6950,  0.7697, -0.9449, -0.0482,  1.2579, -0.7910,  2.3781, -2.2410,\n",
            "         0.3249,  0.8681,  1.2688,  0.2891, -1.2659,  0.5596, -1.1094,  1.6417,\n",
            "        -1.0598, -0.8217, -0.5696, -0.0185,  1.1534, -0.2521,  1.0420,  0.6196,\n",
            "        -0.8767, -0.5130, -0.8460,  1.0734,  0.6601, -0.1889, -0.3474, -0.0073,\n",
            "         0.4595, -1.0088, -1.6980,  1.1795, -1.0246, -0.2293,  0.0894,  0.1913,\n",
            "        -1.6299, -1.1477, -0.3640,  0.9285, -1.0125,  0.5285, -2.6215,  2.0177,\n",
            "         0.2388,  0.1350, -0.1813,  0.7863,  0.2416,  1.5912,  0.1209,  0.3021,\n",
            "        -0.1123,  0.6013, -0.1883,  2.9609, -1.4756, -2.8395,  0.3019, -0.1686,\n",
            "        -0.2644, -0.6777,  0.5179,  0.3045, -0.8787,  0.4534,  0.4595, -0.4896,\n",
            "        -0.1957, -1.6365, -1.6386, -0.9275,  1.8129,  2.3754,  0.4238,  0.6889,\n",
            "        -0.4626,  0.9933,  0.0425,  0.4319, -0.5792, -1.0899,  0.7620,  0.6031,\n",
            "        -0.3811, -0.3229, -0.4958,  0.0405,  1.3839, -0.7877,  0.8879, -0.9647,\n",
            "        -0.3161, -1.4781,  1.3418,  0.1326, -0.0153,  1.6274, -0.4671, -0.3099,\n",
            "         0.7428, -1.1870, -0.2723, -0.7722, -1.1899, -0.6694, -0.1141,  0.4873,\n",
            "        -0.1672, -1.3018,  0.2066, -0.0800,  0.9435, -0.1961, -0.5910, -0.2182,\n",
            "         0.9687,  0.6045,  0.3689, -0.6940,  1.1545, -0.9700, -1.6912, -0.6656,\n",
            "        -2.3207,  0.8345,  1.4006,  0.4027, -0.4500,  2.4755,  0.5386, -1.2519,\n",
            "        -0.6052, -2.0791,  0.6490,  0.6725,  0.6658,  1.2431, -0.9261, -0.0538],\n",
            "       device='cuda:0', grad_fn=<SqueezeBackward1>)\n",
            "Word: 맛\n",
            "tensor([ 1.4044e-01,  1.5865e+00,  1.1979e+00,  1.5853e+00,  4.4369e-01,\n",
            "         1.3719e+00,  4.9575e-01,  2.1172e-01,  9.2534e-01, -9.3244e-01,\n",
            "        -1.3485e-02,  2.0515e-01, -2.6619e+00,  5.2928e-01,  1.7332e-01,\n",
            "        -7.1582e-01,  1.3908e-02, -6.7874e-01, -8.0254e-01,  1.8762e+00,\n",
            "         1.4832e+00, -8.9318e-01, -2.3715e-01,  8.6423e-01,  1.3160e-01,\n",
            "        -2.8837e-01,  9.9728e-01,  3.0353e-01, -4.6926e-02, -3.5367e-01,\n",
            "        -3.1907e-01,  5.5361e-01, -5.2802e-01, -2.8400e-01, -8.1115e-01,\n",
            "        -1.1334e+00, -1.5779e+00,  1.0151e+00,  2.0122e-01, -5.0960e-01,\n",
            "         4.8790e-01, -1.1745e+00,  4.3333e-01, -9.7201e-01, -9.1235e-02,\n",
            "         1.4566e-01,  8.9946e-02,  1.1211e-01, -6.6306e-01, -7.6081e-01,\n",
            "        -1.2960e+00,  5.6219e-01,  3.6888e-01, -2.3324e+00,  5.5101e-01,\n",
            "         1.3582e+00, -4.3996e-01, -1.0781e+00, -4.3545e-01,  6.0225e-01,\n",
            "        -1.6397e+00, -2.3638e-01,  1.6119e+00,  1.3067e+00,  1.3368e+00,\n",
            "         1.8738e-01,  1.9181e+00, -8.2045e-01,  2.0096e-01, -6.4025e-01,\n",
            "        -1.1043e+00,  1.5237e+00, -5.2488e-01, -1.7653e+00,  2.2238e-01,\n",
            "        -1.1394e-01, -5.5349e-02,  3.3600e-04, -1.4326e+00, -2.0451e+00,\n",
            "         4.8430e-01, -3.0481e-01, -6.6682e-01, -5.4821e-01,  7.7462e-01,\n",
            "         1.7328e+00, -9.3120e-02,  2.6827e-01,  2.6137e-01,  7.3433e-01,\n",
            "        -7.6918e-01, -1.5804e-01,  1.0905e+00,  1.1137e+00, -1.4736e+00,\n",
            "         9.4109e-01,  7.8246e-01, -4.6766e-01, -9.4797e-01, -5.7830e-02,\n",
            "        -8.8998e-01,  9.7045e-02, -4.8838e-02,  6.3416e-01, -8.3854e-01,\n",
            "        -3.2159e-01, -1.5801e+00, -1.7332e-01,  9.3337e-01, -9.2854e-01,\n",
            "        -6.9535e-01, -1.8926e+00, -2.3055e+00,  1.1374e+00, -1.3196e+00,\n",
            "         5.2948e-01,  3.5662e-01,  9.9638e-01,  7.1504e-01,  1.2277e+00,\n",
            "         9.2061e-01, -2.6977e-01,  1.2979e+00,  3.4517e-01, -3.5606e-01,\n",
            "         6.6988e-01,  1.6524e+00,  1.2501e-01,  1.1345e+00, -1.6763e+00,\n",
            "         9.0796e-01, -1.0879e+00,  6.5556e-01, -1.8254e+00,  8.0960e-01,\n",
            "         4.2792e-02,  1.4024e+00,  1.8210e-01, -1.3931e+00, -1.4386e-01,\n",
            "        -1.3884e+00, -5.6079e-01, -6.8449e-01, -7.4959e-01,  4.6630e-01,\n",
            "         3.4384e-01, -1.8140e-01,  1.9539e+00,  1.8955e+00,  5.3136e-02,\n",
            "        -3.3175e-01,  5.7232e-01,  1.3344e-01, -6.1817e-02, -1.2636e+00,\n",
            "        -1.5755e-01,  2.8846e-01, -6.3529e-01,  2.2697e+00, -2.4338e-01,\n",
            "         1.7042e-01,  1.7344e-01, -1.0494e+00,  1.0486e+00,  5.8345e-01,\n",
            "         2.2933e+00,  8.3452e-01, -1.0202e+00, -1.9027e+00, -2.1920e-01,\n",
            "         1.3562e+00,  1.4843e-01,  2.1647e+00,  2.7190e-01, -3.0757e-01,\n",
            "         1.3248e+00,  1.5701e+00,  1.1674e+00,  5.6692e-01, -1.2056e+00,\n",
            "         3.7408e-01,  1.1306e+00, -9.0253e-01, -2.5998e-01, -1.0735e-01,\n",
            "        -3.1873e-01, -1.9453e-01,  1.0699e-01,  4.7166e-01, -8.1917e-02,\n",
            "         1.2874e+00, -9.6882e-01,  1.9112e+00, -1.1214e+00,  4.4289e-01,\n",
            "         4.3924e-01, -1.8924e+00, -8.2646e-01, -4.7787e-01, -1.5388e+00,\n",
            "        -1.0672e+00, -6.4211e-01, -4.4776e-01,  1.6051e+00,  6.0094e-01,\n",
            "         1.4629e-01, -1.0841e+00, -6.3701e-01,  6.2459e-01, -1.3509e-01,\n",
            "        -4.5558e-01, -1.3932e+00,  1.1887e+00,  9.6456e-01, -9.2527e-01,\n",
            "         6.1680e-01, -1.4205e+00,  1.9895e+00,  6.3081e-01,  3.1987e-01,\n",
            "         1.0065e+00, -8.0281e-01,  9.0280e-03, -1.1321e+00, -1.6762e+00,\n",
            "        -4.1054e-01,  2.2292e+00, -7.7513e-01, -7.3110e-01,  8.9090e-01,\n",
            "         7.3316e-01,  4.7600e-01,  1.9168e+00,  1.4938e+00, -6.2235e-01,\n",
            "         5.0424e-02, -5.3893e-01,  1.5017e+00, -7.4965e-01,  9.9489e-01,\n",
            "        -1.4904e+00,  1.4590e+00,  2.6369e+00, -2.5650e-01,  4.7881e-01,\n",
            "         1.4715e+00,  1.4049e+00,  1.8493e+00,  8.9218e-01,  1.5070e+00,\n",
            "        -4.6288e-01, -9.9256e-02, -3.9140e-01, -3.9716e-02, -7.0726e-01,\n",
            "        -1.5928e+00], device='cuda:0', grad_fn=<SqueezeBackward1>)\n",
            "Word: 서비스\n",
            "tensor([ 0.5679,  0.6125, -0.4811, -0.3155, -0.9305, -0.7131, -0.1316, -1.7160,\n",
            "         0.3436,  1.7703,  2.7270,  1.5677, -0.0286, -0.1147,  3.1224,  1.3592,\n",
            "        -0.0725, -2.3353,  0.5173, -0.1027,  0.3837,  0.0513, -0.2226,  0.4587,\n",
            "        -0.3490, -0.3727,  0.9603,  0.7039, -2.1690, -0.6423,  0.7715, -0.9040,\n",
            "         0.6416, -0.4687,  0.8506, -0.8502, -0.9344, -0.2939, -1.4350,  0.3261,\n",
            "         0.7176, -1.5366,  1.3988, -0.0829, -0.7403,  0.5486, -1.5370,  0.4648,\n",
            "         0.9068,  1.8226,  0.5859, -0.4715,  0.1036,  1.0996, -0.7557, -2.1832,\n",
            "        -0.6781, -0.7790, -0.3945, -0.8856,  1.0339,  0.3338, -0.5684, -1.1462,\n",
            "        -0.1858,  0.2791, -0.5617, -1.0872, -0.0898,  1.4064,  1.3916, -0.8822,\n",
            "        -1.5075, -0.4117, -1.3100,  0.5147, -1.7013, -0.7640, -0.0553, -1.5076,\n",
            "         0.1378,  0.4349,  0.3645, -0.5329,  0.4731, -0.4268,  1.8659,  2.0129,\n",
            "         0.3406, -0.0083,  0.5093,  0.6712,  1.0244,  0.9008, -1.1827, -0.8310,\n",
            "        -0.6689,  1.1451,  1.3005,  1.2007, -1.2594,  1.0478,  1.8709,  0.2631,\n",
            "        -1.0160,  0.6994,  0.7177,  0.2998,  1.8308,  0.4235, -0.2320, -1.0502,\n",
            "        -0.5991, -1.7190, -0.6876, -0.9687,  0.8808, -0.6790,  0.7743, -0.0368,\n",
            "        -0.2657, -1.8860,  0.4854, -1.4976,  1.3563, -0.4183, -0.0904, -0.5620,\n",
            "        -0.8315,  0.3886,  1.1202,  1.5356,  0.6654, -0.3493,  2.1910, -1.1124,\n",
            "        -1.1957,  0.6196,  0.4590,  2.5352,  2.1359, -0.9924, -0.7617,  1.4596,\n",
            "        -0.0790,  0.2202,  0.4190, -0.7728,  0.1569, -0.1260, -0.8988,  0.1659,\n",
            "         1.1944, -0.5141,  0.8712,  0.5409, -0.1707, -0.3644,  0.5634, -0.4739,\n",
            "        -0.2432,  0.4798,  1.8262,  0.4759, -0.7890, -0.1287,  0.5512, -0.8012,\n",
            "         0.7735,  1.0078,  0.9256,  0.3850, -0.3810, -1.8635, -1.2053,  0.1716,\n",
            "         0.3656,  0.3631, -0.3770,  0.4542,  1.4353, -1.4798,  3.0057, -1.1990,\n",
            "         0.4447,  0.8530, -1.6462,  0.5905, -3.0308, -0.5204, -0.9002, -0.3424,\n",
            "        -0.2456,  0.6995, -0.4451, -0.6240, -1.7282, -0.8207, -0.2380, -0.5040,\n",
            "        -0.6901,  0.1895,  0.7462, -0.6142,  0.9082,  1.2552, -0.6643, -1.7955,\n",
            "        -0.7556, -1.7670,  0.5873,  0.1413,  0.5448, -0.2169,  1.3062, -0.1100,\n",
            "        -0.1488, -2.2990, -1.0704,  1.2904,  3.0081,  1.2672, -0.1818, -2.9822,\n",
            "         1.8243, -1.4159,  0.7982, -1.0321, -0.6158, -0.6905, -0.1581,  0.5047,\n",
            "         0.7432, -0.4929, -0.4416, -0.1892,  1.0714,  1.5442,  0.1936,  0.4836,\n",
            "        -0.3423,  1.7410, -0.2951, -0.5614, -0.9876,  1.5633, -0.0355, -0.3634,\n",
            "        -1.9157, -1.3540, -1.1292,  0.7611, -0.5413, -0.6486, -1.0580,  0.7781],\n",
            "       device='cuda:0', grad_fn=<SqueezeBackward1>)\n",
            "Word: 위생\n",
            "tensor([ 0.7297, -1.0426,  0.1734, -0.7163,  0.2758, -0.5755, -0.2640,  0.4724,\n",
            "         0.8957, -1.3586,  0.1352, -1.6638,  0.4658, -0.0330,  1.6210,  0.0403,\n",
            "        -0.3562,  0.1134,  0.4780, -0.3624,  1.1506, -1.2535,  0.8939, -0.5591,\n",
            "        -0.7581,  0.1504, -1.4056,  0.3920, -2.5371,  1.0313,  2.7517,  0.8496,\n",
            "         0.8497, -1.7803,  0.3486,  0.3782, -0.3977,  0.5013, -0.4645, -0.1592,\n",
            "         0.9436,  0.7439, -1.8060,  0.0566,  0.6232, -0.5060,  0.0602, -1.3760,\n",
            "         0.2809, -0.2701, -1.3156,  0.7999,  0.6057, -0.8136, -1.0014,  0.4260,\n",
            "         1.3613,  0.6726, -0.6117,  0.0924,  0.4517, -0.7851,  1.2106, -0.5295,\n",
            "         1.3249,  0.2226,  0.6729, -0.2820,  0.2032, -0.2645,  1.1757, -1.7024,\n",
            "        -0.6469, -0.9323, -2.0305, -0.2341,  1.1061, -1.2095, -1.1277, -0.5648,\n",
            "        -0.2808,  0.5639,  0.9561, -0.2745,  0.0178, -0.7592,  0.0419,  0.1532,\n",
            "        -0.1424, -2.1320,  0.4772, -0.7555,  0.8837,  0.3369, -1.3419,  0.2164,\n",
            "         0.0957,  1.8880,  0.4616, -0.3632,  0.0919,  2.1185,  0.0063, -0.2013,\n",
            "        -0.0714, -0.7980,  0.3693,  0.7360,  2.1570, -0.5942,  0.1102, -1.6274,\n",
            "         0.6056,  0.3265,  0.2263,  0.3432, -0.6707,  0.7839,  1.2199,  0.8142,\n",
            "         1.0501,  1.0084,  0.2069, -0.9363, -1.4172, -0.3743, -0.9544,  0.5898,\n",
            "        -1.6856,  0.6502, -0.8305, -1.2266,  0.9768,  0.9292, -0.7549, -0.3054,\n",
            "        -0.2029, -0.9686, -0.0840, -0.1475, -1.2567,  1.5829,  1.3393,  2.7858,\n",
            "         0.1765, -0.5005, -2.2312, -0.7185, -1.1254,  0.4617,  1.1944, -1.4613,\n",
            "         0.2015,  1.3176,  0.9054,  1.1677, -0.7676,  1.5805, -0.0384,  2.2107,\n",
            "         1.3596, -1.7378,  1.0945, -0.7377, -1.2624,  0.2516,  0.6906, -1.1597,\n",
            "         1.5373, -0.6399, -0.3625, -1.2495,  0.1159,  0.0172, -0.4769,  0.9838,\n",
            "        -0.2562,  0.5954, -0.7201,  0.4989, -0.8022,  0.8050, -1.0189, -1.0433,\n",
            "        -1.5597,  0.5256, -0.2358,  0.0300, -0.2924,  0.6279,  1.2948,  0.3223,\n",
            "        -0.1155,  0.7436, -1.5575, -0.9869,  2.6332,  0.2243,  0.1285, -0.8863,\n",
            "        -1.2375, -0.6462, -1.8388,  0.4127, -0.8757, -0.0211, -1.2027,  0.3938,\n",
            "        -2.4665, -0.6859,  0.1962, -0.7106,  0.6150, -1.1784,  1.5259, -0.1966,\n",
            "        -0.8624, -0.2362, -0.0435,  0.3615, -0.1966,  0.3351,  1.0338, -0.9096,\n",
            "        -0.5964, -1.3161,  0.5980,  0.3095, -2.5176,  0.4821, -0.1782, -0.2620,\n",
            "         0.8563, -0.3539,  0.2446, -1.2188, -1.5219,  1.6681,  0.0096,  0.2402,\n",
            "        -0.0443,  1.3287, -0.2599, -0.2079, -0.5609, -0.5653, -0.5744,  0.1842,\n",
            "        -0.3361, -0.1355, -0.0399, -0.0376, -0.5307, -1.0603,  0.6563, -0.5025],\n",
            "       device='cuda:0', grad_fn=<SqueezeBackward1>)\n",
            "Word: 가격\n",
            "tensor([-0.4642,  0.4470,  0.4666,  0.3311, -1.4282, -0.2567, -0.8372, -1.7467,\n",
            "         0.8091,  0.7253, -0.5149,  1.3378,  1.1875, -1.9308,  0.0612,  0.2770,\n",
            "        -0.1394, -0.3660, -0.6881,  0.1251, -0.8605,  1.7612, -0.0081, -0.6865,\n",
            "         0.9434,  0.5016, -0.1097, -0.6525,  2.0584,  0.7458,  0.7933, -0.8937,\n",
            "        -1.4068, -0.2851,  0.5793,  0.0332, -0.1528,  0.2557, -0.4470,  1.2906,\n",
            "         1.8424,  0.4236, -1.4776,  0.2780,  0.6268,  0.2195,  1.5002,  0.6658,\n",
            "         1.5593,  1.0826,  0.8829,  1.7983, -1.2569, -0.9993,  0.2885, -1.3127,\n",
            "         0.2386,  0.4151, -0.0828, -1.0616, -0.7384, -0.9373, -1.1495, -1.1563,\n",
            "         2.9680,  1.0517, -0.4104,  0.3913, -1.1280, -0.0536, -1.5919,  0.0046,\n",
            "         1.1414, -1.2743, -0.6356, -0.1874, -0.0215, -0.0229, -0.0396, -1.2050,\n",
            "        -1.7820,  1.0151, -0.5514,  1.9012, -1.9592, -0.5223,  0.7853,  1.6162,\n",
            "         0.5800,  0.1104,  0.2753, -0.6750, -1.0057,  0.1556,  0.3604,  0.5211,\n",
            "        -0.4637,  0.3557, -0.8226,  1.1748, -0.1226,  1.1309,  1.6170, -0.1602,\n",
            "        -1.3719,  1.3006, -0.0330,  0.4934,  0.6410,  0.4737, -0.5590,  0.1944,\n",
            "         2.7161, -1.2950,  0.0307, -1.4237, -0.1121,  2.1685, -1.7921,  0.6145,\n",
            "         0.4343,  0.2854,  0.7769, -0.0997,  0.7497,  0.4023, -0.6242, -0.4939,\n",
            "        -0.7955,  0.5453,  0.5025,  0.9926,  0.5435,  1.5295,  0.2586, -0.7966,\n",
            "         0.1910,  0.4044,  0.1150, -2.5440,  2.9598,  1.2456,  0.9144, -2.1018,\n",
            "         0.3867, -1.2835,  0.8251, -1.6564, -0.3215, -0.3347, -0.6096,  0.2960,\n",
            "        -0.8837,  2.1859,  0.4867, -0.1824, -0.7194,  0.3707,  0.8847, -0.8547,\n",
            "        -0.6671,  0.0226,  2.0591, -0.5019,  1.0487, -0.4557,  1.0980,  0.6580,\n",
            "        -1.2504, -0.1298, -0.5863,  0.3555, -0.4235,  0.5612,  2.1058,  0.1058,\n",
            "        -0.9488, -0.5002,  0.4584, -0.6808,  2.3590, -0.3621, -0.5010, -1.3052,\n",
            "        -0.7863, -0.1928,  1.0465, -0.3403,  0.5751,  0.1569,  1.1497, -1.0942,\n",
            "         0.0629,  0.7560, -1.1187,  0.4936,  1.4125, -0.9154,  2.3301,  0.7406,\n",
            "         1.3606,  0.3304,  0.9296, -1.5013,  0.1933,  0.5963, -1.1065,  0.8753,\n",
            "        -0.6261, -1.0368,  0.0681, -0.5011,  0.1043,  0.0554,  0.8994, -1.3827,\n",
            "        -0.7077, -0.1740, -0.0286, -0.6915, -0.1447,  0.5866, -0.6989, -0.7743,\n",
            "        -0.4557, -0.5946, -0.9507, -0.1256, -1.9822, -2.4430,  0.0126,  0.8939,\n",
            "        -0.7151,  0.0147,  0.1282, -2.0690, -1.1167,  0.2499,  1.7368,  1.5703,\n",
            "        -0.6203, -0.5861,  0.2491,  1.4822,  0.2537, -0.6935,  0.1614, -1.7321,\n",
            "        -1.0212,  0.3166, -0.0821,  0.5711,  0.5748, -1.3633, -0.6115,  1.4073],\n",
            "       device='cuda:0', grad_fn=<SqueezeBackward1>)\n"
          ],
          "name": "stdout"
        }
      ]
    },
    {
      "cell_type": "code",
      "metadata": {
        "id": "_l5cPRZZe-R4",
        "colab": {
          "base_uri": "https://localhost:8080/"
        },
        "outputId": "d6fcef9f-c8f9-4725-8bd3-48f98f5fcd6f"
      },
      "source": [
        "for word in test_words:\r\n",
        "  input_id = torch.LongTensor([w2i[word]]).to(device)\r\n",
        "  emb = skipgram.embedding(input_id)\r\n",
        "\r\n",
        "  print(f\"Word: {word}\")\r\n",
        "  print(emb.squeeze(0))"
      ],
      "execution_count": 21,
      "outputs": [
        {
          "output_type": "stream",
          "text": [
            "Word: 음식\n",
            "tensor([ 1.8570e+00, -1.4394e+00, -1.1833e+00, -2.5421e+00, -1.9595e+00,\n",
            "        -3.5944e-01, -3.4530e-01, -1.1860e+00,  2.4947e-01, -6.1721e-01,\n",
            "         3.8400e-01,  5.0110e-01, -1.2098e+00, -2.9716e-01,  7.6627e-01,\n",
            "        -8.3425e-02,  8.4570e-01,  9.5548e-01,  2.1861e-01,  3.0166e-01,\n",
            "         1.2819e+00, -5.2614e-01,  1.1436e+00,  5.4008e-02, -7.4878e-01,\n",
            "         3.5178e-01,  1.2302e+00,  5.7593e-01,  1.9396e+00, -1.6141e+00,\n",
            "        -9.3632e-01, -1.2891e-01, -1.7853e+00, -1.1406e+00, -3.2449e+00,\n",
            "        -2.6642e+00,  1.5147e-01,  1.2784e+00, -3.8765e-01,  1.2116e-02,\n",
            "        -4.0217e-01,  8.0555e-01,  4.1635e-01, -5.0729e-01,  1.7464e-02,\n",
            "         3.2053e+00,  6.6062e-01, -8.1058e-01, -1.3059e+00,  8.8530e-01,\n",
            "         3.3934e-01,  1.3479e+00, -3.7349e-01, -2.1716e-01, -1.9377e-01,\n",
            "        -1.8388e+00, -4.5450e-01,  3.8593e-01, -1.9482e+00,  8.4301e-01,\n",
            "         8.9054e-01, -1.6179e+00, -5.3505e-01, -1.7304e-01, -6.8485e-03,\n",
            "        -5.8680e-01, -2.4607e-01,  3.9138e-01,  2.5147e-01,  5.9454e-01,\n",
            "         1.3185e+00,  6.4755e-01, -2.8949e+00,  4.9030e-01, -7.2560e-01,\n",
            "         3.8119e-01,  7.1779e-01, -7.2646e-01, -1.2423e+00, -4.4238e-02,\n",
            "        -7.1822e-01,  9.6057e-01, -4.4065e-01, -9.3160e-01,  1.3071e+00,\n",
            "        -5.2032e-01, -3.0761e-01,  1.3446e-01,  6.7509e-01, -9.3059e-01,\n",
            "         1.8362e+00, -1.9248e+00, -6.6497e-01, -1.3650e+00, -1.2393e+00,\n",
            "        -1.0253e+00,  2.8882e-01,  3.0887e-01, -1.5107e-01,  7.2196e-01,\n",
            "        -4.7823e-01,  8.1668e-01,  1.3202e+00,  8.3193e-01, -2.0289e+00,\n",
            "         1.0445e-01, -1.1499e+00,  3.3359e-02,  1.1461e+00, -6.7028e-02,\n",
            "        -8.9264e-01,  5.3608e-01,  1.6495e-01,  3.9129e-01,  4.0733e-01,\n",
            "        -1.4234e+00, -1.4761e+00, -1.2682e+00, -6.2701e-01,  1.4194e+00,\n",
            "         1.5286e-01, -5.0350e-02,  6.0890e-01,  5.4675e-01, -1.2149e+00,\n",
            "         4.1395e-01, -4.3442e-03, -9.4635e-01, -1.6627e+00,  9.6925e-01,\n",
            "         1.1801e+00, -5.2144e-01, -4.5743e-02,  8.1000e-05, -4.8640e-01,\n",
            "        -1.8331e+00, -4.7676e-01, -8.4064e-01,  1.1497e-01,  1.2722e+00,\n",
            "         1.1609e-01,  1.0031e+00,  5.6372e-01, -4.4381e-01, -8.6085e-01,\n",
            "        -3.9196e-01, -2.2051e-01, -6.2919e-01, -2.3761e-01,  3.8193e-01,\n",
            "         8.8717e-01, -1.2617e+00, -6.8944e-01,  5.1668e-03, -3.5639e-01,\n",
            "        -1.3197e+00, -5.8404e-01, -1.4332e-01,  5.2488e-01, -1.4051e+00,\n",
            "        -5.4328e-01,  6.1587e-01, -2.3317e-01,  3.1777e-01,  5.2726e-02,\n",
            "        -3.1532e-01, -2.6489e-01,  3.0159e-01,  3.2109e-01, -3.0710e-01,\n",
            "        -1.9773e+00, -3.9833e-01, -8.5893e-01, -3.3593e-01,  9.9162e-01,\n",
            "         5.6568e-01, -1.4126e-01, -7.3344e-01, -9.8559e-01,  1.4487e+00,\n",
            "         1.0704e+00, -3.0499e-01,  1.4225e+00,  4.6244e-01,  2.6179e-01,\n",
            "        -2.7146e-01, -1.0881e+00, -1.2511e+00,  1.2754e+00,  3.8095e-01,\n",
            "         4.0726e-01,  1.2233e+00,  8.5091e-01, -7.5839e-01,  1.9539e-01,\n",
            "         5.5492e-01, -1.7843e+00,  3.9845e-01, -1.2333e+00, -5.8505e-01,\n",
            "         1.5104e+00,  6.7830e-01,  4.3489e-01,  6.4742e-01, -3.3814e-01,\n",
            "         2.5123e+00, -1.0085e+00,  1.0651e+00,  1.4153e+00,  2.2154e+00,\n",
            "         4.3649e-01,  3.0373e-01, -9.2171e-01,  4.6204e-01,  1.0622e+00,\n",
            "        -1.0503e+00, -1.0935e+00,  1.1255e+00,  2.7472e+00, -1.2716e+00,\n",
            "        -3.2879e-01,  7.0569e-01, -3.0487e-02,  6.8199e-01,  6.2550e-01,\n",
            "         1.1303e+00, -5.2007e-02, -4.0000e-01,  5.6057e-01,  8.1112e-01,\n",
            "         1.7041e-01,  7.4351e-01,  4.1548e-01, -1.4075e+00,  2.5360e-02,\n",
            "         8.5396e-01, -1.1155e+00, -7.1529e-01, -1.3531e+00,  1.3730e-02,\n",
            "         2.9098e-02, -9.8386e-01,  1.5018e-01,  1.7445e+00, -1.1268e+00,\n",
            "        -1.5991e+00,  2.0393e+00, -7.3299e-02,  2.5307e-02,  1.5370e-01,\n",
            "        -6.2167e-02, -7.8682e-01,  6.1649e-01, -2.7107e+00,  1.4240e-01,\n",
            "         1.5566e+00], device='cuda:0', grad_fn=<SqueezeBackward1>)\n",
            "Word: 맛\n",
            "tensor([ 2.3177e-01,  5.2846e-01,  1.1782e+00, -1.5193e-01,  2.7780e-01,\n",
            "        -5.6764e-01, -1.1955e+00,  2.3742e+00, -4.6506e-01, -1.3418e+00,\n",
            "         1.6838e-01,  5.1822e-02,  3.8785e-01,  1.1147e+00, -1.1815e+00,\n",
            "         9.0938e-02,  1.7859e+00,  1.0407e+00,  5.4378e-02, -6.9228e-01,\n",
            "         4.7153e-01,  1.6719e+00, -1.2389e+00, -1.0755e+00, -1.7697e+00,\n",
            "        -6.7718e-01, -7.5601e-01,  9.4322e-01, -9.7955e-01, -1.0686e+00,\n",
            "        -4.9957e-01,  7.9868e-01, -1.0823e+00,  1.0049e+00, -7.4596e-01,\n",
            "         3.4005e-01, -1.0025e+00, -6.5306e-01, -4.6885e-01, -1.6232e+00,\n",
            "         3.4517e-01,  7.3833e-01, -5.7552e-01,  5.9442e-01, -8.3496e-01,\n",
            "         8.9569e-01, -2.1640e-01,  9.7776e-01,  8.8860e-02, -6.3333e-01,\n",
            "         1.2867e+00, -6.1740e-01,  1.5354e+00,  3.2287e-01,  1.1183e+00,\n",
            "         2.0192e+00,  3.3426e-01,  2.5484e-01, -4.8398e-01,  7.6963e-01,\n",
            "         1.1728e+00, -5.5190e-01, -6.6877e-01,  1.3481e-01,  7.1830e-01,\n",
            "        -2.5518e-01, -1.4527e+00,  5.2688e-01, -2.1613e+00,  7.8306e-01,\n",
            "         6.5599e-01,  3.8502e-01,  1.2901e+00,  3.4960e-01,  5.2757e-01,\n",
            "         6.5344e-01, -3.7871e-01, -4.6182e-01, -1.0425e+00,  1.5421e-01,\n",
            "         6.7858e-01, -9.4518e-01,  7.3436e-01,  1.0625e+00,  9.7242e-01,\n",
            "        -1.4153e-01,  1.6174e+00, -2.3377e-01,  9.0099e-01, -1.5759e-01,\n",
            "         1.1469e+00, -9.3312e-01,  8.5043e-02,  7.4352e-01,  6.1970e-01,\n",
            "        -7.0973e-01,  3.5556e-01, -1.0073e+00, -1.3981e+00, -2.7632e-01,\n",
            "        -1.0227e+00,  3.5115e-01, -3.2073e-01, -1.2807e+00,  4.6302e-01,\n",
            "         4.6061e-01,  1.4608e+00, -8.6580e-01,  3.9877e+00,  1.0053e+00,\n",
            "         2.5766e-01,  1.9356e-01, -1.1286e-01,  4.1584e-01,  1.1017e+00,\n",
            "         1.4826e+00,  5.0179e-01,  3.8658e-01,  9.4688e-01, -1.2391e+00,\n",
            "         7.8617e-01, -1.9906e-01, -1.7762e+00,  7.1908e-03, -5.0761e-01,\n",
            "        -7.2275e-01, -2.2929e-01,  3.4200e-01,  1.0785e+00, -2.2039e+00,\n",
            "         7.8888e-02, -9.9166e-02,  1.9971e+00, -7.0595e-02, -1.5270e+00,\n",
            "        -1.0179e+00, -6.1264e-01, -1.1176e+00, -1.9254e-01,  1.0463e+00,\n",
            "        -4.5832e-01, -9.3710e-01,  1.1354e+00, -2.9270e+00, -2.9844e-01,\n",
            "        -1.6295e-01,  4.5800e-01, -1.0202e+00, -8.2307e-01,  9.2241e-01,\n",
            "         2.1995e+00, -1.8969e-01,  7.4737e-01,  3.2364e-01, -1.8952e+00,\n",
            "        -1.1399e+00, -1.4257e+00,  5.6769e-01, -5.5617e-01,  1.2509e+00,\n",
            "         2.9109e-01,  1.6624e+00, -2.8488e-01,  2.9391e-01,  1.1022e+00,\n",
            "        -9.0965e-01,  1.0598e+00,  3.4978e-01, -1.5654e-01, -3.7882e-01,\n",
            "        -1.3624e+00, -1.7059e-02,  5.5843e-01, -2.0900e-01, -1.3514e-01,\n",
            "         6.6465e-01, -9.0423e-01,  4.3940e-01,  8.8778e-01,  2.6395e+00,\n",
            "         4.3550e-01, -7.1720e-01,  2.2593e-01,  4.4581e-01, -4.6466e-01,\n",
            "        -1.5325e+00,  2.9083e-01, -3.6777e-02,  1.0148e+00, -1.3064e+00,\n",
            "         2.4131e-01,  1.3235e+00,  2.2433e-01,  1.3906e-01, -3.3258e-01,\n",
            "         6.8259e-01, -1.2544e+00,  1.5342e-02,  1.9125e+00,  1.9012e-01,\n",
            "        -6.3502e-01, -1.4336e+00, -1.3768e+00,  4.6446e-01,  1.1583e+00,\n",
            "         5.8626e-01,  2.1638e+00,  1.2392e+00,  2.5114e-03,  9.8808e-02,\n",
            "         5.2153e-01, -1.4925e+00, -4.9581e-01,  1.2545e+00, -1.2227e+00,\n",
            "         2.4051e-01, -4.3598e-01,  5.5613e-01,  2.0684e-01,  7.7877e-01,\n",
            "         3.5940e-01,  8.9896e-01, -9.9728e-01,  2.0591e+00,  3.8204e-03,\n",
            "        -1.4776e+00, -9.4164e-01, -1.1924e-01, -1.6869e-01,  6.2989e-01,\n",
            "         2.0349e-01,  1.3797e+00,  5.2355e-01,  1.7024e+00,  1.9303e-01,\n",
            "         2.4592e-01,  5.6026e-01,  9.2643e-01, -1.2727e-01, -3.1634e-01,\n",
            "        -7.0739e-02,  4.6341e-01,  7.9440e-02,  2.0324e-01, -9.9720e-01,\n",
            "         1.0474e+00, -1.7741e+00,  1.3577e+00,  2.4927e-01,  5.4700e-01,\n",
            "        -1.0181e+00, -5.8069e-01,  1.1807e+00, -1.7102e+00, -6.2995e-01,\n",
            "        -6.3157e-01], device='cuda:0', grad_fn=<SqueezeBackward1>)\n",
            "Word: 서비스\n",
            "tensor([-6.0633e-01, -1.4126e+00, -1.1861e+00, -7.4867e-01,  4.2498e-01,\n",
            "         6.3705e-01, -7.2935e-01, -1.1346e+00,  4.6286e-01, -6.8728e-01,\n",
            "         5.3162e-01, -6.8492e-01, -1.4739e+00, -1.7154e+00, -8.8782e-01,\n",
            "        -2.9314e-01, -1.4162e+00, -7.0641e-01,  3.7881e-01, -1.7219e+00,\n",
            "        -7.0691e-01, -4.1138e-01,  9.7305e-01,  1.7230e+00,  1.4260e+00,\n",
            "         8.1907e-01, -2.6452e-01,  1.7441e+00, -5.8561e-01, -1.4038e+00,\n",
            "         2.0307e+00,  1.5136e+00, -6.1072e-01,  7.8062e-01, -1.0663e+00,\n",
            "        -9.6520e-02,  1.6844e+00,  1.0004e+00, -1.2769e+00, -1.2612e+00,\n",
            "        -2.3771e+00, -5.8978e-01,  2.0085e+00,  1.4866e+00,  8.6648e-01,\n",
            "        -6.7991e-01,  2.0385e-01, -1.8003e+00, -7.8563e-01, -2.0791e-01,\n",
            "        -1.3440e+00,  1.8588e+00,  1.0468e+00,  5.2755e-01, -8.2180e-01,\n",
            "        -1.1699e+00,  2.0929e-01,  9.3849e-01, -1.0019e+00, -7.4652e-01,\n",
            "         1.3296e-01, -1.3749e+00, -8.1111e-01, -9.2748e-02, -6.1659e-01,\n",
            "        -1.7296e-01,  1.8938e-01,  1.3051e-01, -1.6481e+00,  1.5899e+00,\n",
            "         1.1050e-01, -4.1182e-01,  2.4019e-01,  1.3259e+00, -2.3103e-01,\n",
            "        -9.4962e-01, -1.3638e+00,  1.4624e-01, -1.0289e+00, -1.1628e+00,\n",
            "         4.0768e-01,  4.5231e-01, -9.5336e-01, -1.4153e+00,  2.0035e-01,\n",
            "        -8.5437e-01,  5.4944e-01,  4.0071e-03, -4.7820e-01,  2.2035e-01,\n",
            "        -7.1178e-01,  6.7643e-01, -3.2705e-03,  2.4323e-01, -1.0556e-01,\n",
            "        -1.8487e+00,  1.1133e-01, -9.0767e-03,  8.5867e-01, -5.7953e-02,\n",
            "         3.9223e-01,  1.9248e+00,  2.2421e+00, -1.0575e+00,  5.3402e-01,\n",
            "        -4.2610e-02, -4.2753e-01,  7.5434e-01, -2.8442e-01,  7.0070e-01,\n",
            "        -9.1957e-01,  6.5502e-01,  1.2950e+00,  1.0559e+00,  6.7777e-01,\n",
            "        -4.4274e-01,  3.6895e-01, -9.9630e-02, -1.5476e+00, -1.4345e+00,\n",
            "        -5.7493e-01,  1.4866e+00,  2.5921e-02, -2.4667e-01,  1.2356e-01,\n",
            "        -1.4214e-01, -1.9592e-03,  7.1818e-01, -6.0938e-01,  2.3138e-01,\n",
            "        -4.5111e-01,  1.8874e-01, -8.7058e-01, -3.9613e-01,  3.8910e-01,\n",
            "        -4.3025e-02, -1.0777e+00, -1.2842e+00, -1.0759e+00, -4.3056e-02,\n",
            "         5.1704e-01,  8.3634e-01,  3.1298e-01, -8.6343e-01,  7.1692e-01,\n",
            "         1.4184e-01,  2.9633e-01,  3.5254e-01, -1.5324e+00, -3.3416e-01,\n",
            "        -1.0127e-02,  4.6502e-01, -8.4253e-01, -3.5413e-01,  1.0008e+00,\n",
            "         1.2438e+00, -4.5334e-01,  3.0777e+00,  1.3191e+00,  8.2042e-01,\n",
            "         7.4587e-01, -1.4774e-01,  1.4146e+00,  9.7558e-01,  5.3936e-01,\n",
            "         1.4393e+00,  1.0133e+00, -2.6027e+00, -1.0787e+00, -1.5024e+00,\n",
            "         7.0818e-01,  1.1587e+00,  4.5211e-02, -1.1515e+00,  8.4226e-01,\n",
            "        -6.3873e-01,  8.3282e-02, -9.8436e-01, -1.2331e+00,  8.9398e-01,\n",
            "        -4.9680e-01, -6.9677e-01, -3.2899e-02, -3.1191e-01, -2.0530e+00,\n",
            "        -7.3673e-01,  3.9033e-02, -4.0130e-01, -1.5251e-01, -2.7436e-01,\n",
            "         1.8114e-01,  2.9052e-01, -1.2516e+00, -7.3783e-01,  2.4309e+00,\n",
            "        -1.0039e+00, -4.3269e-01, -1.5113e+00, -1.1293e+00,  1.0818e+00,\n",
            "        -1.1218e+00,  1.2698e+00,  1.1561e+00,  4.3632e-01,  6.4280e-02,\n",
            "         5.8599e-01,  1.6825e-01, -5.7591e-02,  4.0496e-01, -1.3490e-03,\n",
            "        -3.9358e-01,  9.0052e-01,  1.3161e+00,  6.2240e-01,  8.8062e-01,\n",
            "         8.7821e-02,  3.7262e-01,  2.3476e-01, -6.1033e-01,  3.8995e-01,\n",
            "         1.6807e-01,  1.5601e+00,  1.6656e+00,  1.4784e+00, -1.3704e+00,\n",
            "        -5.0425e-01, -5.7999e-01, -6.7329e-01, -1.8884e-01,  1.5634e+00,\n",
            "         1.2858e+00,  1.0819e-01, -1.1190e+00, -8.2135e-01, -1.7743e+00,\n",
            "         4.8240e-01, -7.9080e-01, -2.1839e+00,  1.2622e+00, -1.1064e+00,\n",
            "         3.4447e-01,  1.7979e-01,  1.7782e+00,  9.0581e-01, -3.9453e-01,\n",
            "        -7.9759e-01,  8.0688e-01, -4.7314e-01,  5.8848e-01, -7.4211e-01,\n",
            "         8.0236e-01,  2.8097e-02, -6.6737e-01,  5.1902e-01,  5.1417e-01,\n",
            "         4.8752e-01], device='cuda:0', grad_fn=<SqueezeBackward1>)\n",
            "Word: 위생\n",
            "tensor([-4.6400e-01, -1.0160e+00,  8.2766e-01, -1.8185e+00,  7.7423e-01,\n",
            "        -1.6324e+00,  3.5260e-01,  7.1338e-01, -2.4239e-01,  1.0211e+00,\n",
            "         1.4837e+00, -1.4139e-01, -4.7006e-01,  9.1702e-01,  1.0036e+00,\n",
            "        -4.4802e-01,  1.1645e-01,  2.3149e+00, -1.2683e+00, -1.6970e+00,\n",
            "         3.2032e-01, -7.9391e-01,  2.0071e+00, -7.6777e-02, -1.1192e+00,\n",
            "        -3.0151e-01,  1.3031e+00, -7.7508e-01, -8.5785e-01, -3.3553e-03,\n",
            "         3.8021e-01, -1.4764e+00,  1.2867e+00, -9.0714e-01,  4.6796e-01,\n",
            "         7.0338e-01, -1.6296e-01,  3.3058e-01,  5.6742e-01,  7.5030e-01,\n",
            "        -1.2068e+00,  7.6777e-01, -2.3238e+00, -1.2024e+00,  1.6404e-01,\n",
            "         1.7300e-01,  8.6722e-01,  6.4062e-02, -2.9743e-01,  8.3508e-02,\n",
            "         9.9996e-01,  6.3323e-01, -3.1787e+00, -5.6240e-01, -6.4551e-01,\n",
            "         2.6967e-01,  2.1673e-01,  5.2550e-01, -1.9234e+00, -1.0325e+00,\n",
            "        -2.5562e-01,  1.1880e+00,  1.6643e+00, -1.4751e-01,  1.0218e+00,\n",
            "        -1.1819e+00, -2.3926e-01,  4.9910e-01, -1.8875e+00, -2.9979e-01,\n",
            "        -1.1994e+00,  9.8274e-01,  7.6649e-01,  4.2665e-02,  1.1763e+00,\n",
            "        -1.2663e+00,  4.0889e-01, -1.6108e+00,  8.8914e-01, -1.1616e-01,\n",
            "        -8.7783e-01, -1.6065e+00,  2.7052e-01, -1.1565e+00, -3.4152e-01,\n",
            "        -1.0638e+00, -7.4640e-01,  1.9802e+00,  1.3438e+00, -1.2047e+00,\n",
            "         3.7028e-01, -6.4029e-01, -5.5756e-01, -2.0044e+00, -9.9921e-01,\n",
            "        -1.4440e+00, -1.4404e+00,  1.0388e+00, -3.5698e-01, -1.8164e+00,\n",
            "         9.5146e-01, -6.6650e-01, -1.2156e+00,  1.1037e+00, -7.9341e-01,\n",
            "        -3.4559e-01, -5.2758e-01,  9.0379e-01, -7.2643e-01,  1.3780e-01,\n",
            "         9.0191e-01,  3.5365e-01,  4.0097e+00,  2.2370e+00,  6.7144e-01,\n",
            "         8.5769e-01, -2.0741e+00,  1.1530e+00,  1.5747e-01,  5.0138e-01,\n",
            "         5.6553e-01,  1.3794e+00, -8.3004e-01,  9.2963e-01, -2.3082e-01,\n",
            "         1.0192e+00,  1.1583e+00, -8.9230e-01, -6.9185e-02,  1.1784e+00,\n",
            "        -3.7567e-01,  1.0657e+00,  3.7595e-01,  5.5723e-01,  3.6599e-01,\n",
            "        -4.9223e-01, -1.1165e+00, -6.4744e-02, -1.9174e+00, -1.0081e+00,\n",
            "         3.6963e-01, -1.3234e+00,  4.3815e-01,  1.1024e+00,  2.9178e-01,\n",
            "        -3.3565e-01, -9.6278e-01,  4.8229e-01,  6.7592e-01, -9.0335e-01,\n",
            "        -1.1337e+00,  1.3199e+00,  4.1804e-01, -1.7421e-01, -1.1111e+00,\n",
            "        -6.7084e-01, -1.8434e-01, -9.7275e-01, -2.3269e-01,  1.1550e+00,\n",
            "         6.4961e-01, -9.8000e-01, -2.8186e-01,  1.9490e-01, -8.6685e-02,\n",
            "         1.5624e+00, -1.0301e+00, -1.9339e+00, -5.0855e-01, -7.4475e-01,\n",
            "        -1.6534e+00, -7.8318e-01,  1.4654e+00,  2.2512e+00,  8.6199e-01,\n",
            "         9.9723e-01, -6.0702e-01,  6.3782e-01,  6.8304e-01, -1.2521e+00,\n",
            "        -5.0657e-01, -8.8911e-01,  3.6197e-01, -2.9936e-01,  4.3388e-01,\n",
            "        -8.1009e-02, -6.6544e-01, -4.9718e-02, -5.3048e-02,  2.6462e-01,\n",
            "         1.0103e+00,  1.4246e-03,  1.5639e+00, -1.3666e+00, -9.9360e-01,\n",
            "         1.1558e+00,  2.2723e+00,  1.3005e+00,  7.1866e-02, -1.7454e+00,\n",
            "        -9.1011e-01, -9.5937e-01, -7.6598e-01, -8.7665e-01, -8.1769e-01,\n",
            "         1.4915e+00,  6.0120e-01, -1.0425e+00, -2.2147e-01,  1.1586e+00,\n",
            "         1.9126e+00,  3.3318e-01, -1.8519e-01, -3.3455e-01,  7.8866e-02,\n",
            "        -5.7584e-01,  2.8817e-01,  2.4067e+00, -4.6164e-01, -3.6527e-01,\n",
            "         2.7920e-01, -1.0809e-01, -4.6303e-02, -1.4824e-01, -5.2061e-03,\n",
            "        -1.9211e+00,  1.1064e+00, -1.0854e+00, -9.1218e-01,  2.2764e+00,\n",
            "         1.8447e+00, -3.3775e-01, -4.5619e-01,  1.3785e-02,  3.3033e-01,\n",
            "        -6.8282e-01, -1.2601e+00, -6.8625e-02, -5.9315e-01, -1.0602e+00,\n",
            "        -5.8853e-01, -7.5851e-01, -8.8963e-01,  1.0489e+00, -3.4096e-01,\n",
            "         2.4183e-01, -4.5165e-01, -1.0784e+00, -1.8865e+00,  1.0785e+00,\n",
            "         1.4088e+00,  2.5440e-01,  4.4486e-01, -9.4207e-01, -5.4290e-01,\n",
            "         1.8980e-01], device='cuda:0', grad_fn=<SqueezeBackward1>)\n",
            "Word: 가격\n",
            "tensor([-0.2029,  0.0045, -0.7126, -1.3130,  0.5792,  1.5534,  0.2029, -0.7938,\n",
            "        -0.4493,  0.7379,  1.0562, -0.2495,  0.2386, -0.3481,  1.4081,  0.5426,\n",
            "         0.8542,  0.8043, -1.2783, -0.5365, -1.5099,  1.0327, -0.0984, -0.6117,\n",
            "         0.9530,  0.7451,  1.2703, -0.8919, -0.7258,  0.9098,  2.5713,  2.1795,\n",
            "        -1.0046, -0.1380,  0.7186,  1.7922,  0.1999, -0.5572, -0.6820,  0.9484,\n",
            "        -0.6725,  0.8914, -0.3589, -0.6321,  1.1704, -1.4308,  0.1236,  1.2434,\n",
            "         0.0496, -0.8854, -0.9650, -0.5777, -1.8776,  1.1660,  0.1194, -0.6564,\n",
            "        -1.4980,  0.2258, -0.5621, -1.5402,  0.3676,  2.0894, -0.3407, -1.3235,\n",
            "         0.3471, -1.6781,  0.5528, -0.9726, -0.7961, -1.0307, -1.6538, -0.2196,\n",
            "        -0.6502,  1.1982,  0.9132,  0.7605, -0.2151, -0.7407, -0.1836,  1.2805,\n",
            "        -2.2911, -0.3871, -0.3851, -0.9113,  0.0179,  0.5575,  0.6098, -0.1499,\n",
            "        -1.5370,  1.4687,  0.9959, -0.0834,  1.9471,  1.5560, -1.5202,  0.3371,\n",
            "        -0.1604,  1.1521, -0.0820,  0.9845, -0.6323,  1.1048,  0.3831, -1.1943,\n",
            "        -0.6522,  2.3398,  1.1621, -1.0987, -1.2920, -0.9065,  1.1432, -0.8728,\n",
            "        -0.6895, -1.7011, -0.4794, -0.4506,  0.2500,  0.0730, -0.8644,  0.5999,\n",
            "         1.0422, -1.1512,  0.3014,  0.2827,  0.6334,  0.0566,  0.5330, -0.1543,\n",
            "        -0.4000, -1.1329,  0.2433,  1.7373,  0.2761,  1.2851,  0.1114,  0.6228,\n",
            "        -0.3512,  0.1954,  0.4387, -1.1448,  0.1725,  1.1116,  1.0669,  0.7544,\n",
            "        -0.2825,  1.9088,  0.2948,  1.0814,  0.8261, -0.3329,  0.2445,  0.6408,\n",
            "        -0.5279, -0.9680,  0.4224,  1.6568,  0.7971, -0.6850,  1.1736,  0.8569,\n",
            "        -0.1272, -0.2202, -2.0814, -0.6469,  0.5137, -0.2822, -0.2251, -0.3504,\n",
            "         0.6788,  0.7515,  1.1048,  0.4366,  1.0325, -0.0220,  1.0280, -0.0406,\n",
            "         0.7167,  0.7756, -1.4193, -0.9051,  1.3126,  1.2390,  0.4771,  1.0934,\n",
            "         1.2257,  1.8718,  0.3115, -0.3034,  1.2206,  1.0446, -1.8519,  2.0813,\n",
            "        -0.0724,  0.2024, -0.5913,  0.2709, -0.6170,  1.1566,  1.1648,  2.2073,\n",
            "         3.7531, -0.1223, -0.0602,  0.6690, -0.1904, -0.2634,  0.6668, -0.9757,\n",
            "         0.5788,  0.5083, -0.8830,  1.5585,  0.9062, -0.6705, -1.3287,  0.2584,\n",
            "        -0.6364,  0.6965, -0.0947,  0.5576, -0.9365, -0.7176, -0.5801, -0.2171,\n",
            "         1.7862, -1.1273, -0.9238,  0.8964,  0.4498, -1.6390, -0.5161, -1.1201,\n",
            "        -1.7541, -1.2051,  0.3530, -1.4036,  0.2953,  2.6668, -0.5430, -0.7570,\n",
            "         0.3707,  1.3105,  1.3895,  0.4094, -0.3791, -1.0201,  0.7243, -1.1263,\n",
            "        -0.6828,  0.2828,  0.5092, -1.1143, -0.8260, -0.2529, -0.4541, -1.8704],\n",
            "       device='cuda:0', grad_fn=<SqueezeBackward1>)\n"
          ],
          "name": "stdout"
        }
      ]
    }
  ]
}