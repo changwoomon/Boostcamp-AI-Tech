{
 "cells": [
  {
   "cell_type": "markdown",
   "metadata": {},
   "source": [
    "# Day 16"
   ]
  },
  {
   "cell_type": "markdown",
   "metadata": {},
   "source": [
    "> [NLP] Intro to NLP, Bag-of-Words"
   ]
  },
  {
   "cell_type": "markdown",
   "metadata": {},
   "source": [
    "## 1. Intro to Natural Language Processing(NLP)\n",
    "\n",
    "### Academic Disciplines related to NLP\n",
    "**Natural language processing (major conferences: ACL, EMNLP, NAACL)**\n",
    "- Includes state-of-the-art deep learning-based models and tasks\n",
    "- Low-level parsing\n",
    "    - tokenization, stemming\n",
    "- Word and Phrase level\n",
    "    - named entity recognition(NER), part-of-speech(POS) tagging, noun-phrase chunking, dependency parsing, coreference resolution\n",
    "- Sentence level\n",
    "    - sentiment analysis, machine translation\n",
    "- Multi-sentence and Paragraph level\n",
    "    - entailment prediction, question answering, dialog systems, summarization\n",
    "\n",
    "**Text mining (major conferences: KDD, The WebConf (formerly, WWW), WSDM,\n",
    "CIKM, ICWSM)**\n",
    "- Extract useful information and insights from text and document data\n",
    "    - ex. analyzing the trends of AI-related keywords from massive news data\n",
    "- Document clustering (ex. topic modeling)\n",
    "    - ex. clustering news data and grouping into different subjects\n",
    "- Highly related to computational social science\n",
    "    - ex. analyzing the evolution of people's political tendency based on social media data\n",
    "\n",
    "**Information retrieval (major conferences: SIGIR, WSDM, CIKM, RecSys)**\n",
    "- Highly related to computational social science\n",
    "    - This area is not actively studied now\n",
    "    - It has evolved into a recommendation system, which is still an active area of research\n",
    "\n",
    "### Trends of NLP\n",
    "- Text data can basically be viewed as a sequence of words, and each word can be represented as a vector through a technique such as Word2Vec or GloVe\n",
    "- RNN-family models (LSTMs and GRUs), which take the sequence of these vectors of words as input, are the main architecture of NLP tasks\n",
    "- Overall performance of NLP tasts has been improved since attention modules and Transformer models, which replaced RNNs with self-attention, have been introduced a few years ago\n",
    "- As is the case for Transformer models, most of the advanced NLP models have been originally developed for improving machine translation tasks\n",
    "- In the early days, customized models for different NLP tasks had developed separately\n",
    "- Since Transformer was introduced, huge models were released by stacking its basic module, self-attention, and these models are trained with large-size datasets through language modeling tasks, one of the self-supervised training setting that does not require additional labels for a particular task\n",
    "    - ex. BERT, GPT-3\n",
    "- Afterwards, above models were applied to other tasks through transfer learning, and they outperformed all other customized models in each task\n",
    "- Currently, these models has now become essential part in numerous NLP tasks, so NLP research become difficult with limited GPU resources, since they are too large to train"
   ]
  },
  {
   "cell_type": "markdown",
   "metadata": {},
   "source": [
    "> [NLP] Word Embedding"
   ]
  },
  {
   "cell_type": "markdown",
   "metadata": {},
   "source": [
    "> [Lab] Naive Bayes classifier 구현\n",
    "- https://github.com/changwoomon/Boostcamp-AI-Tech/blob/main/Week%204/Day%2016/1_naive_bayes.ipynb"
   ]
  },
  {
   "cell_type": "markdown",
   "metadata": {},
   "source": [
    "> [Lab] Word2Vec 구현\n",
    "- https://github.com/changwoomon/Boostcamp-AI-Tech/blob/main/Week%204/Day%2016/2_word2vec.ipynb"
   ]
  }
 ],
 "metadata": {
  "kernelspec": {
   "display_name": "Python 3",
   "language": "python",
   "name": "python3"
  },
  "language_info": {
   "codemirror_mode": {
    "name": "ipython",
    "version": 3
   },
   "file_extension": ".py",
   "mimetype": "text/x-python",
   "name": "python",
   "nbconvert_exporter": "python",
   "pygments_lexer": "ipython3",
   "version": "3.8.5"
  }
 },
 "nbformat": 4,
 "nbformat_minor": 4
}
