{
  "nbformat": 4,
  "nbformat_minor": 0,
  "metadata": {
    "accelerator": "GPU",
    "colab": {
      "name": "4_fancy_rnn.ipynb",
      "provenance": [],
      "collapsed_sections": []
    },
    "kernelspec": {
      "display_name": "Python 3",
      "name": "python3"
    }
  },
  "cells": [
    {
      "cell_type": "markdown",
      "metadata": {
        "id": "0M47aJDTXtbL"
      },
      "source": [
        "##**4. LSTM, GRU**\r\n",
        "1. 기존 RNN과 다른 부분에 대해서 배웁니다.\r\n",
        "2. 이전 실습에 이어 다양한 적용법을 배웁니다."
      ]
    },
    {
      "cell_type": "markdown",
      "metadata": {
        "id": "jBoAWPAJSI2D"
      },
      "source": [
        "### **필요 패키지 import**"
      ]
    },
    {
      "cell_type": "code",
      "metadata": {
        "id": "vEnlDHarWusL"
      },
      "source": [
        "from tqdm import tqdm\r\n",
        "from torch import nn\r\n",
        "from torch.nn.utils.rnn import pack_padded_sequence, pad_packed_sequence\r\n",
        "\r\n",
        "import torch"
      ],
      "execution_count": 1,
      "outputs": []
    },
    {
      "cell_type": "markdown",
      "metadata": {
        "id": "sze4MVwxSYPR"
      },
      "source": [
        "### **데이터 전처리**"
      ]
    },
    {
      "cell_type": "markdown",
      "metadata": {
        "id": "ugKWDpQrSY3o"
      },
      "source": [
        "아래의 sample data를 확인해봅시다.  \r\n",
        "이전 실습과 동일합니다."
      ]
    },
    {
      "cell_type": "code",
      "metadata": {
        "id": "IWjwZOmGYMhw"
      },
      "source": [
        "vocab_size = 100\r\n",
        "pad_id = 0\r\n",
        "\r\n",
        "data = [\r\n",
        "  [85,14,80,34,99,20,31,65,53,86,3,58,30,4,11,6,50,71,74,13],\r\n",
        "  [62,76,79,66,32],\r\n",
        "  [93,77,16,67,46,74,24,70],\r\n",
        "  [19,83,88,22,57,40,75,82,4,46],\r\n",
        "  [70,28,30,24,76,84,92,76,77,51,7,20,82,94,57],\r\n",
        "  [58,13,40,61,88,18,92,89,8,14,61,67,49,59,45,12,47,5],\r\n",
        "  [22,5,21,84,39,6,9,84,36,59,32,30,69,70,82,56,1],\r\n",
        "  [94,21,79,24,3,86],\r\n",
        "  [80,80,33,63,34,63],\r\n",
        "  [87,32,79,65,2,96,43,80,85,20,41,52,95,50,35,96,24,80]\r\n",
        "]"
      ],
      "execution_count": 2,
      "outputs": []
    },
    {
      "cell_type": "code",
      "metadata": {
        "id": "FmqlfxW_Tsfm",
        "colab": {
          "base_uri": "https://localhost:8080/"
        },
        "outputId": "2768337e-feab-42c9-9233-21e99cc5074f"
      },
      "source": [
        "max_len = len(max(data, key=len))\r\n",
        "print(f\"Maximum sequence length: {max_len}\")\r\n",
        "\r\n",
        "valid_lens = []\r\n",
        "for i, seq in enumerate(tqdm(data)):\r\n",
        "  valid_lens.append(len(seq))\r\n",
        "  if len(seq) < max_len:\r\n",
        "    data[i] = seq + [pad_id] * (max_len - len(seq))"
      ],
      "execution_count": 3,
      "outputs": [
        {
          "output_type": "stream",
          "text": [
            "100%|██████████| 10/10 [00:00<00:00, 4631.01it/s]"
          ],
          "name": "stderr"
        },
        {
          "output_type": "stream",
          "text": [
            "Maximum sequence length: 20\n"
          ],
          "name": "stdout"
        },
        {
          "output_type": "stream",
          "text": [
            "\n"
          ],
          "name": "stderr"
        }
      ]
    },
    {
      "cell_type": "code",
      "metadata": {
        "id": "znWCR7UbTvVE",
        "colab": {
          "base_uri": "https://localhost:8080/"
        },
        "outputId": "18dd2f23-b840-4da9-d5ac-7dc3e7f7d467"
      },
      "source": [
        "# B: batch size, L: maximum sequence length\r\n",
        "batch = torch.LongTensor(data)  # (B, L)\r\n",
        "batch_lens = torch.LongTensor(valid_lens)  # (B)\r\n",
        "\r\n",
        "batch_lens, sorted_idx = batch_lens.sort(descending=True)\r\n",
        "batch = batch[sorted_idx]\r\n",
        "\r\n",
        "print(batch)\r\n",
        "print(batch_lens)"
      ],
      "execution_count": 4,
      "outputs": [
        {
          "output_type": "stream",
          "text": [
            "tensor([[85, 14, 80, 34, 99, 20, 31, 65, 53, 86,  3, 58, 30,  4, 11,  6, 50, 71,\n",
            "         74, 13],\n",
            "        [58, 13, 40, 61, 88, 18, 92, 89,  8, 14, 61, 67, 49, 59, 45, 12, 47,  5,\n",
            "          0,  0],\n",
            "        [87, 32, 79, 65,  2, 96, 43, 80, 85, 20, 41, 52, 95, 50, 35, 96, 24, 80,\n",
            "          0,  0],\n",
            "        [22,  5, 21, 84, 39,  6,  9, 84, 36, 59, 32, 30, 69, 70, 82, 56,  1,  0,\n",
            "          0,  0],\n",
            "        [70, 28, 30, 24, 76, 84, 92, 76, 77, 51,  7, 20, 82, 94, 57,  0,  0,  0,\n",
            "          0,  0],\n",
            "        [19, 83, 88, 22, 57, 40, 75, 82,  4, 46,  0,  0,  0,  0,  0,  0,  0,  0,\n",
            "          0,  0],\n",
            "        [93, 77, 16, 67, 46, 74, 24, 70,  0,  0,  0,  0,  0,  0,  0,  0,  0,  0,\n",
            "          0,  0],\n",
            "        [94, 21, 79, 24,  3, 86,  0,  0,  0,  0,  0,  0,  0,  0,  0,  0,  0,  0,\n",
            "          0,  0],\n",
            "        [80, 80, 33, 63, 34, 63,  0,  0,  0,  0,  0,  0,  0,  0,  0,  0,  0,  0,\n",
            "          0,  0],\n",
            "        [62, 76, 79, 66, 32,  0,  0,  0,  0,  0,  0,  0,  0,  0,  0,  0,  0,  0,\n",
            "          0,  0]])\n",
            "tensor([20, 18, 18, 17, 15, 10,  8,  6,  6,  5])\n"
          ],
          "name": "stdout"
        }
      ]
    },
    {
      "cell_type": "markdown",
      "metadata": {
        "id": "mPRtdhHoUKhH"
      },
      "source": [
        "### **LSTM 사용**"
      ]
    },
    {
      "cell_type": "markdown",
      "metadata": {
        "id": "l1FvfENCUqYN"
      },
      "source": [
        "LSTM에선 cell state가 추가됩니다.  \r\n",
        "Cell state의 shape는 hidden state의 그것과 동일합니다."
      ]
    },
    {
      "cell_type": "code",
      "metadata": {
        "id": "Q76VGoCCUrcQ"
      },
      "source": [
        "embedding_size = 256\r\n",
        "hidden_size = 512\r\n",
        "num_layers = 1\r\n",
        "num_dirs = 1\r\n",
        "\r\n",
        "embedding = nn.Embedding(vocab_size, embedding_size)\r\n",
        "lstm = nn.LSTM(\r\n",
        "    input_size=embedding_size,\r\n",
        "    hidden_size=hidden_size,\r\n",
        "    num_layers=num_layers,\r\n",
        "    bidirectional=True if num_dirs > 1 else False\r\n",
        ")\r\n",
        "\r\n",
        "h_0 = torch.zeros((num_layers * num_dirs, batch.shape[0], hidden_size))  # (num_layers * num_dirs, B, d_h)\r\n",
        "c_0 = torch.zeros((num_layers * num_dirs, batch.shape[0], hidden_size))  # (num_layers * num_dirs, B, d_h)"
      ],
      "execution_count": 5,
      "outputs": []
    },
    {
      "cell_type": "code",
      "metadata": {
        "id": "uhS7qvIKWYYb",
        "colab": {
          "base_uri": "https://localhost:8080/"
        },
        "outputId": "fd2c906b-4f2d-457b-b285-a3431e65df7b"
      },
      "source": [
        "# d_w: word embedding size\r\n",
        "batch_emb = embedding(batch)  # (B, L, d_w)\r\n",
        "\r\n",
        "packed_batch = pack_padded_sequence(batch_emb.transpose(0, 1), batch_lens)\r\n",
        "\r\n",
        "packed_outputs, (h_n, c_n) = lstm(packed_batch, (h_0, c_0))\r\n",
        "print(packed_outputs)\r\n",
        "print(packed_outputs[0].shape)\r\n",
        "print(h_n.shape)\r\n",
        "print(c_n.shape)"
      ],
      "execution_count": 6,
      "outputs": [
        {
          "output_type": "stream",
          "text": [
            "PackedSequence(data=tensor([[ 0.1833,  0.0959,  0.0065,  ...,  0.0031,  0.1035,  0.1818],\n",
            "        [-0.1504,  0.0328,  0.0508,  ...,  0.0703,  0.1884,  0.0199],\n",
            "        [ 0.0487, -0.0719, -0.0097,  ...,  0.1752,  0.0431,  0.0213],\n",
            "        ...,\n",
            "        [-0.1470, -0.1228,  0.0147,  ...,  0.0906,  0.1090,  0.1094],\n",
            "        [ 0.0066, -0.0186,  0.2649,  ...,  0.0244,  0.0505,  0.0413],\n",
            "        [ 0.0815,  0.0689,  0.2499,  ...,  0.1181,  0.0440,  0.0105]],\n",
            "       grad_fn=<CatBackward>), batch_sizes=tensor([10, 10, 10, 10, 10,  9,  7,  7,  6,  6,  5,  5,  5,  5,  5,  4,  4,  3,\n",
            "         1,  1]), sorted_indices=None, unsorted_indices=None)\n",
            "torch.Size([123, 512])\n",
            "torch.Size([1, 10, 512])\n",
            "torch.Size([1, 10, 512])\n"
          ],
          "name": "stdout"
        }
      ]
    },
    {
      "cell_type": "code",
      "metadata": {
        "id": "ArOrgjHjZqAa",
        "colab": {
          "base_uri": "https://localhost:8080/"
        },
        "outputId": "2ac01237-5f26-4a7b-e2f5-1def50b887ac"
      },
      "source": [
        "outputs, output_lens = pad_packed_sequence(packed_outputs)\r\n",
        "print(outputs.shape)\r\n",
        "print(output_lens)"
      ],
      "execution_count": 7,
      "outputs": [
        {
          "output_type": "stream",
          "text": [
            "torch.Size([20, 10, 512])\n",
            "tensor([20, 18, 18, 17, 15, 10,  8,  6,  6,  5])\n"
          ],
          "name": "stdout"
        }
      ]
    },
    {
      "cell_type": "markdown",
      "metadata": {
        "id": "meuNwIIn-H-g"
      },
      "source": [
        "### **GRU 사용**"
      ]
    },
    {
      "cell_type": "markdown",
      "metadata": {
        "id": "kMUysrtLihqt"
      },
      "source": [
        "GRU는 cell state가 없어 RNN과 동일하게 사용 가능합니다.   \r\n",
        "GRU를 이용하여 LM task를 수행해봅시다."
      ]
    },
    {
      "cell_type": "code",
      "metadata": {
        "id": "ZHw8PSf--lVg"
      },
      "source": [
        "gru = nn.GRU(\r\n",
        "    input_size=embedding_size,\r\n",
        "    hidden_size=hidden_size,\r\n",
        "    num_layers=num_layers,\r\n",
        "    bidirectional=True if num_dirs > 1 else False\r\n",
        ")"
      ],
      "execution_count": 8,
      "outputs": []
    },
    {
      "cell_type": "code",
      "metadata": {
        "id": "GbMy2CkWzobD"
      },
      "source": [
        "output_layer = nn.Linear(hidden_size, vocab_size)"
      ],
      "execution_count": 9,
      "outputs": []
    },
    {
      "cell_type": "code",
      "metadata": {
        "id": "YavlcFZywCBK"
      },
      "source": [
        "input_id = batch.transpose(0, 1)[0, :]  # (B)\r\n",
        "hidden = torch.zeros((num_layers * num_dirs, batch.shape[0], hidden_size))  # (1, B, d_h)"
      ],
      "execution_count": 10,
      "outputs": []
    },
    {
      "cell_type": "markdown",
      "metadata": {
        "id": "e1tFGyvo-uHb"
      },
      "source": [
        "Teacher forcing 없이 이전에 얻은 결과를 다음 input으로 이용합니다."
      ]
    },
    {
      "cell_type": "code",
      "metadata": {
        "id": "J6HRC3TAxtGa",
        "colab": {
          "base_uri": "https://localhost:8080/"
        },
        "outputId": "8b114824-e93c-41a0-f490-8454dba059a5"
      },
      "source": [
        "for t in range(max_len):\r\n",
        "  input_emb = embedding(input_id).unsqueeze(0)  # (1, B, d_w)\r\n",
        "  output, hidden = gru(input_emb, hidden)  # output: (1, B, d_h), hidden: (1, B, d_h)\r\n",
        "\r\n",
        "  # V: vocab size\r\n",
        "  output = output_layer(output)  # (1, B, V)\r\n",
        "  probs, top_id = torch.max(output, dim=-1)  # probs: (1, B), top_id: (1, B)\r\n",
        "\r\n",
        "  print(\"*\" * 50)\r\n",
        "  print(f\"Time step: {t}\")\r\n",
        "  print(output.shape)\r\n",
        "  print(probs.shape)\r\n",
        "  print(top_id.shape)\r\n",
        "\r\n",
        "  input_id = top_id.squeeze(0)  # (B)"
      ],
      "execution_count": 11,
      "outputs": [
        {
          "output_type": "stream",
          "text": [
            "**************************************************\n",
            "Time step: 0\n",
            "torch.Size([1, 10, 100])\n",
            "torch.Size([1, 10])\n",
            "torch.Size([1, 10])\n",
            "**************************************************\n",
            "Time step: 1\n",
            "torch.Size([1, 10, 100])\n",
            "torch.Size([1, 10])\n",
            "torch.Size([1, 10])\n",
            "**************************************************\n",
            "Time step: 2\n",
            "torch.Size([1, 10, 100])\n",
            "torch.Size([1, 10])\n",
            "torch.Size([1, 10])\n",
            "**************************************************\n",
            "Time step: 3\n",
            "torch.Size([1, 10, 100])\n",
            "torch.Size([1, 10])\n",
            "torch.Size([1, 10])\n",
            "**************************************************\n",
            "Time step: 4\n",
            "torch.Size([1, 10, 100])\n",
            "torch.Size([1, 10])\n",
            "torch.Size([1, 10])\n",
            "**************************************************\n",
            "Time step: 5\n",
            "torch.Size([1, 10, 100])\n",
            "torch.Size([1, 10])\n",
            "torch.Size([1, 10])\n",
            "**************************************************\n",
            "Time step: 6\n",
            "torch.Size([1, 10, 100])\n",
            "torch.Size([1, 10])\n",
            "torch.Size([1, 10])\n",
            "**************************************************\n",
            "Time step: 7\n",
            "torch.Size([1, 10, 100])\n",
            "torch.Size([1, 10])\n",
            "torch.Size([1, 10])\n",
            "**************************************************\n",
            "Time step: 8\n",
            "torch.Size([1, 10, 100])\n",
            "torch.Size([1, 10])\n",
            "torch.Size([1, 10])\n",
            "**************************************************\n",
            "Time step: 9\n",
            "torch.Size([1, 10, 100])\n",
            "torch.Size([1, 10])\n",
            "torch.Size([1, 10])\n",
            "**************************************************\n",
            "Time step: 10\n",
            "torch.Size([1, 10, 100])\n",
            "torch.Size([1, 10])\n",
            "torch.Size([1, 10])\n",
            "**************************************************\n",
            "Time step: 11\n",
            "torch.Size([1, 10, 100])\n",
            "torch.Size([1, 10])\n",
            "torch.Size([1, 10])\n",
            "**************************************************\n",
            "Time step: 12\n",
            "torch.Size([1, 10, 100])\n",
            "torch.Size([1, 10])\n",
            "torch.Size([1, 10])\n",
            "**************************************************\n",
            "Time step: 13\n",
            "torch.Size([1, 10, 100])\n",
            "torch.Size([1, 10])\n",
            "torch.Size([1, 10])\n",
            "**************************************************\n",
            "Time step: 14\n",
            "torch.Size([1, 10, 100])\n",
            "torch.Size([1, 10])\n",
            "torch.Size([1, 10])\n",
            "**************************************************\n",
            "Time step: 15\n",
            "torch.Size([1, 10, 100])\n",
            "torch.Size([1, 10])\n",
            "torch.Size([1, 10])\n",
            "**************************************************\n",
            "Time step: 16\n",
            "torch.Size([1, 10, 100])\n",
            "torch.Size([1, 10])\n",
            "torch.Size([1, 10])\n",
            "**************************************************\n",
            "Time step: 17\n",
            "torch.Size([1, 10, 100])\n",
            "torch.Size([1, 10])\n",
            "torch.Size([1, 10])\n",
            "**************************************************\n",
            "Time step: 18\n",
            "torch.Size([1, 10, 100])\n",
            "torch.Size([1, 10])\n",
            "torch.Size([1, 10])\n",
            "**************************************************\n",
            "Time step: 19\n",
            "torch.Size([1, 10, 100])\n",
            "torch.Size([1, 10])\n",
            "torch.Size([1, 10])\n"
          ],
          "name": "stdout"
        }
      ]
    },
    {
      "cell_type": "markdown",
      "metadata": {
        "id": "WY3vh9Cm4KaH"
      },
      "source": [
        "`max_len`만큼의 for 문을 돌면서 모든 결과물의 모양을 확인했지만 만약 종료 조건(예를 들어 문장의 끝을 나타내는 end token 등)이 되면 중간에 생성을 그만둘 수도 있습니다."
      ]
    },
    {
      "cell_type": "markdown",
      "metadata": {
        "id": "l07L_QncemE7"
      },
      "source": [
        "### **양방향 및 여러 layer 사용**"
      ]
    },
    {
      "cell_type": "markdown",
      "metadata": {
        "id": "lasjjz-teohw"
      },
      "source": [
        "이번엔 양방향 + 2개 이상의 layer를 쓸 때 얻을 수 있는 결과에 대해 알아봅니다."
      ]
    },
    {
      "cell_type": "code",
      "metadata": {
        "id": "JEy00WX3ghsb"
      },
      "source": [
        "num_layers = 2\r\n",
        "num_dirs = 2\r\n",
        "dropout=0.1\r\n",
        "\r\n",
        "gru = nn.GRU(\r\n",
        "    input_size=embedding_size,\r\n",
        "    hidden_size=hidden_size,\r\n",
        "    num_layers=num_layers,\r\n",
        "    dropout=dropout,\r\n",
        "    bidirectional=True if num_dirs > 1 else False\r\n",
        ")"
      ],
      "execution_count": 12,
      "outputs": []
    },
    {
      "cell_type": "markdown",
      "metadata": {
        "id": "QX4LVL_Ag4kK"
      },
      "source": [
        "Bidirectional이 되었고 layer의 개수가 $2$로 늘었기 때문에 hidden state의 shape도 `(4, B, d_h)`가 됩니다."
      ]
    },
    {
      "cell_type": "code",
      "metadata": {
        "id": "Q8aBk8yrfOHU",
        "colab": {
          "base_uri": "https://localhost:8080/"
        },
        "outputId": "ed52fc50-a919-46dc-e8fe-778c5d74e07b"
      },
      "source": [
        "# d_w: word embedding size, num_layers: layer의 개수, num_dirs: 방향의 개수\r\n",
        "batch_emb = embedding(batch)  # (B, L, d_w)\r\n",
        "h_0 = torch.zeros((num_layers * num_dirs, batch.shape[0], hidden_size))  # (num_layers * num_dirs, B, d_h) = (4, B, d_h)\r\n",
        "\r\n",
        "packed_batch = pack_padded_sequence(batch_emb.transpose(0, 1), batch_lens)\r\n",
        "\r\n",
        "packed_outputs, h_n = gru(packed_batch, h_0)\r\n",
        "print(packed_outputs)\r\n",
        "print(packed_outputs[0].shape)\r\n",
        "print(h_n.shape)"
      ],
      "execution_count": 13,
      "outputs": [
        {
          "output_type": "stream",
          "text": [
            "PackedSequence(data=tensor([[ 0.0324,  0.0029, -0.0500,  ..., -0.0436,  0.1297,  0.1519],\n",
            "        [-0.0244, -0.0050,  0.0795,  ..., -0.0964, -0.0678, -0.1416],\n",
            "        [ 0.0741,  0.0886,  0.0252,  ...,  0.0900, -0.2536,  0.0982],\n",
            "        ...,\n",
            "        [ 0.0626, -0.0927,  0.0319,  ..., -0.1381, -0.1785, -0.0152],\n",
            "        [-0.2140, -0.0321,  0.0284,  ..., -0.0721, -0.2002,  0.1962],\n",
            "        [-0.1498, -0.0123, -0.1050,  ..., -0.1227, -0.0775,  0.0560]],\n",
            "       grad_fn=<CatBackward>), batch_sizes=tensor([10, 10, 10, 10, 10,  9,  7,  7,  6,  6,  5,  5,  5,  5,  5,  4,  4,  3,\n",
            "         1,  1]), sorted_indices=None, unsorted_indices=None)\n",
            "torch.Size([123, 1024])\n",
            "torch.Size([4, 10, 512])\n"
          ],
          "name": "stdout"
        }
      ]
    },
    {
      "cell_type": "code",
      "metadata": {
        "id": "VQdVtMcehndm",
        "colab": {
          "base_uri": "https://localhost:8080/"
        },
        "outputId": "65cabe3d-7455-4613-b936-c0ca54974bb7"
      },
      "source": [
        "outputs, output_lens = pad_packed_sequence(packed_outputs)\r\n",
        "\r\n",
        "print(outputs.shape)  # (L, B, num_dirs*d_h)\r\n",
        "print(output_lens)"
      ],
      "execution_count": 14,
      "outputs": [
        {
          "output_type": "stream",
          "text": [
            "torch.Size([20, 10, 1024])\n",
            "tensor([20, 18, 18, 17, 15, 10,  8,  6,  6,  5])\n"
          ],
          "name": "stdout"
        }
      ]
    },
    {
      "cell_type": "markdown",
      "metadata": {
        "id": "byuggMjekUxS"
      },
      "source": [
        "각각의 결과물의 shape는 다음과 같습니다.\r\n",
        "\r\n",
        "`outputs`: `(max_len, batch_size, num_dir * hidden_size)`  \r\n",
        "`h_n`: `(num_layers*num_dirs, batch_size, hidden_size)`"
      ]
    },
    {
      "cell_type": "code",
      "metadata": {
        "id": "HaXhvyHjmFR3",
        "colab": {
          "base_uri": "https://localhost:8080/"
        },
        "outputId": "8e267723-5f4b-4b61-a0dd-de21a2ee1d67"
      },
      "source": [
        "batch_size = h_n.shape[1]\r\n",
        "print(h_n.view(num_layers, num_dirs, batch_size, hidden_size))\r\n",
        "print(h_n.view(num_layers, num_dirs, batch_size, hidden_size).shape)"
      ],
      "execution_count": 15,
      "outputs": [
        {
          "output_type": "stream",
          "text": [
            "tensor([[[[ 0.0393, -0.0289,  0.1536,  ...,  0.0399, -0.1131,  0.2914],\n",
            "          [ 0.1009,  0.0759, -0.0229,  ...,  0.3158,  0.2770, -0.2247],\n",
            "          [-0.2162, -0.2218, -0.3338,  ...,  0.1184, -0.0212,  0.1168],\n",
            "          ...,\n",
            "          [-0.0510,  0.0910, -0.0697,  ..., -0.1460, -0.3451,  0.3062],\n",
            "          [-0.4143,  0.3729, -0.0121,  ...,  0.0227, -0.4336,  0.0141],\n",
            "          [ 0.0462, -0.1687, -0.0443,  ...,  0.1635,  0.1382,  0.0740]],\n",
            "\n",
            "         [[ 0.2657,  0.2457, -0.2000,  ...,  0.2888, -0.1110, -0.0117],\n",
            "          [-0.0478,  0.1684,  0.0817,  ..., -0.3521,  0.3682,  0.0086],\n",
            "          [-0.3880, -0.1514, -0.1865,  ...,  0.3145, -0.1174,  0.0455],\n",
            "          ...,\n",
            "          [ 0.3000, -0.2250, -0.3417,  ..., -0.2670, -0.1123,  0.4133],\n",
            "          [-0.1229,  0.0221,  0.6896,  ...,  0.3146,  0.1707, -0.4982],\n",
            "          [-0.3055,  0.0799,  0.1642,  ..., -0.0189, -0.2486,  0.2924]]],\n",
            "\n",
            "\n",
            "        [[[-0.1498, -0.0123, -0.1050,  ...,  0.0566,  0.1782,  0.1466],\n",
            "          [-0.0028,  0.0123,  0.2060,  ...,  0.0054,  0.0059, -0.0376],\n",
            "          [ 0.0626, -0.0927,  0.0319,  ...,  0.0175, -0.0167, -0.2161],\n",
            "          ...,\n",
            "          [ 0.1393,  0.1068, -0.1090,  ...,  0.1409,  0.2908, -0.0826],\n",
            "          [-0.1129, -0.0082, -0.2644,  ...,  0.0994, -0.0335, -0.0149],\n",
            "          [ 0.2818,  0.1248,  0.0884,  ..., -0.0583,  0.0160, -0.1139]],\n",
            "\n",
            "         [[-0.2184,  0.1613, -0.0628,  ..., -0.0436,  0.1297,  0.1519],\n",
            "          [ 0.0025,  0.3030,  0.1013,  ..., -0.0964, -0.0678, -0.1416],\n",
            "          [ 0.0285, -0.0971, -0.0720,  ...,  0.0900, -0.2536,  0.0982],\n",
            "          ...,\n",
            "          [-0.1516,  0.0814,  0.0391,  ...,  0.0802, -0.0207, -0.1271],\n",
            "          [ 0.0171, -0.2231, -0.3669,  ..., -0.1930, -0.2691, -0.1123],\n",
            "          [-0.1006,  0.1252, -0.1300,  ...,  0.1301, -0.1360,  0.0396]]]],\n",
            "       grad_fn=<ViewBackward>)\n",
            "torch.Size([2, 2, 10, 512])\n"
          ],
          "name": "stdout"
        }
      ]
    }
  ]
}