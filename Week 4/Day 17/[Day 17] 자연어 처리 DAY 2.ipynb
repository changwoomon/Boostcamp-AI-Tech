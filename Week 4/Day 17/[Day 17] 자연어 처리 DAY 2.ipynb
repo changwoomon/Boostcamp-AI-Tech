{
 "cells": [
  {
   "cell_type": "markdown",
   "metadata": {},
   "source": [
    "# Day 17"
   ]
  },
  {
   "cell_type": "markdown",
   "metadata": {},
   "source": [
    "> [NLP] Recurrent Neural Network and Language Modeling"
   ]
  },
  {
   "cell_type": "markdown",
   "metadata": {},
   "source": [
    "## 1. Basics of Recurrent Neural Networks (RNNs)\n",
    "<img src=\"https://colah.github.io/posts/2015-08-Understanding-LSTMs/img/RNN-unrolled.png\" width=\"500\" height=\"300\">\n",
    "\n",
    "## 2. Types of RNNs\n",
    "<img src=\"http://karpathy.github.io/assets/rnn/diags.jpeg\" width=\"500\" height=\"300\">\n",
    "\n",
    "- One-to-One\n",
    "    - Standard Neural Networks\n",
    "- One-to-Many\n",
    "    - Image Captioning\n",
    "- Many-to-One\n",
    "    - Sentiment Classification\n",
    "- Many-to-Many (Sequence-to-Sequence)\n",
    "    - Machine Translation\n",
    "    - Video classification on frame level\n",
    "\n",
    "## 3. Character-level Language Model\n",
    "### Backpropagation through time (BPTT)\n",
    "[Training - BPTT / RTRL / EKF](https://hororolol.tistory.com/194)\n",
    "### Vanishing/Exploding Gradient Problem in RNN"
   ]
  },
  {
   "cell_type": "markdown",
   "metadata": {},
   "source": [
    "> [NLP] LSTM and GRU\n",
    "## 4. Long Short-Term Memory (LSTM) / Gated Recurrent Unit (GRU)\n",
    "- LSTM\n",
    "\n",
    "<img src=\"http://colah.github.io/posts/2015-08-Understanding-LSTMs/img/LSTM3-chain.png\" width=\"500\" height=\"300\">\n",
    "<br><br>\n",
    "\n",
    "- GRU\n",
    "\n",
    "<img src=\"http://colah.github.io/posts/2015-08-Understanding-LSTMs/img/LSTM3-var-GRU.png\" width=\"500\" height=\"300\">\n",
    "\n",
    "### Summary on RNN / LSTM / GRU\n",
    "- RNNs allow a lot of flexibility in architecture design\n",
    "- Vanilla RNNs are simple but don't work very well\n",
    "- Backward flow of gradients in RNN can explode or vanish\n",
    "- Common to use LSTM or GLU: their additive interactions improve gradient flow"
   ]
  },
  {
   "cell_type": "markdown",
   "metadata": {},
   "source": [
    "> [Lab] Basic RNN 실습\n",
    "- https://github.com/changwoomon/Boostcamp-AI-Tech/blob/main/Week%204/Day%2017/3_basic_rnn.ipynb"
   ]
  },
  {
   "cell_type": "markdown",
   "metadata": {},
   "source": [
    "> [Lab] LSTM, GRU 실습\n",
    "- https://github.com/changwoomon/Boostcamp-AI-Tech/blob/main/Week%204/Day%2017/4_fancy_rnn.ipynb"
   ]
  }
 ],
 "metadata": {
  "kernelspec": {
   "display_name": "Python 3",
   "language": "python",
   "name": "python3"
  },
  "language_info": {
   "codemirror_mode": {
    "name": "ipython",
    "version": 3
   },
   "file_extension": ".py",
   "mimetype": "text/x-python",
   "name": "python",
   "nbconvert_exporter": "python",
   "pygments_lexer": "ipython3",
   "version": "3.8.5"
  }
 },
 "nbformat": 4,
 "nbformat_minor": 4
}
