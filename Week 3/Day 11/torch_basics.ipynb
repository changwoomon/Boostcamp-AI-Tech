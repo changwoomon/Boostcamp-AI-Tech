{
  "nbformat": 4,
  "nbformat_minor": 0,
  "metadata": {
    "kernelspec": {
      "display_name": "Python 3.6 CONDA (NGC/PyTorch 20.06) on Backend.AI",
      "language": "python",
      "name": "python3"
    },
    "language_info": {
      "codemirror_mode": {
        "name": "ipython",
        "version": 3
      },
      "file_extension": ".py",
      "mimetype": "text/x-python",
      "name": "python",
      "nbconvert_exporter": "python",
      "pygments_lexer": "ipython3",
      "version": "3.6.10"
    },
    "colab": {
      "name": "torch_basics.ipynb",
      "provenance": [],
      "collapsed_sections": []
    },
    "accelerator": "GPU"
  },
  "cells": [
    {
      "cell_type": "markdown",
      "metadata": {
        "id": "8vUiKYPuiHgK"
      },
      "source": [
        "# Pytorch basics for DL newbies\n",
        "\n",
        "\n",
        "[![Open In Colab](https://colab.research.google.com/assets/colab-badge.svg)](https://colab.research.google.com/github/BoostcampAITech/lecture-note-python-basics-for-ai/blob/main/codes/pytorch/torch_basics.ipynb)"
      ]
    },
    {
      "cell_type": "markdown",
      "metadata": {
        "id": "xRwMCNbniHgS"
      },
      "source": [
        "\n",
        "## numpy to tensor"
      ]
    },
    {
      "cell_type": "code",
      "metadata": {
        "colab": {
          "base_uri": "https://localhost:8080/"
        },
        "id": "4gWk6CAliHgT",
        "outputId": "a37b3b7e-acc9-435d-97cd-5990c1d97849"
      },
      "source": [
        "import numpy as np\n",
        "n_array = np.arange(10).reshape(2,5)\n",
        "n_array"
      ],
      "execution_count": 1,
      "outputs": [
        {
          "output_type": "execute_result",
          "data": {
            "text/plain": [
              "array([[0, 1, 2, 3, 4],\n",
              "       [5, 6, 7, 8, 9]])"
            ]
          },
          "metadata": {
            "tags": []
          },
          "execution_count": 1
        }
      ]
    },
    {
      "cell_type": "code",
      "metadata": {
        "colab": {
          "base_uri": "https://localhost:8080/"
        },
        "id": "2fA34xISiHgT",
        "outputId": "bbb072ce-abd6-482d-f1ba-75e78aaf1ba4"
      },
      "source": [
        "n_array.ndim"
      ],
      "execution_count": 2,
      "outputs": [
        {
          "output_type": "execute_result",
          "data": {
            "text/plain": [
              "2"
            ]
          },
          "metadata": {
            "tags": []
          },
          "execution_count": 2
        }
      ]
    },
    {
      "cell_type": "code",
      "metadata": {
        "colab": {
          "base_uri": "https://localhost:8080/"
        },
        "id": "PcB85LkbiYY-",
        "outputId": "ca46a099-c3d5-4cfb-b9d0-18d37d667171"
      },
      "source": [
        "n_array.shape"
      ],
      "execution_count": 3,
      "outputs": [
        {
          "output_type": "execute_result",
          "data": {
            "text/plain": [
              "(2, 5)"
            ]
          },
          "metadata": {
            "tags": []
          },
          "execution_count": 3
        }
      ]
    },
    {
      "cell_type": "code",
      "metadata": {
        "colab": {
          "base_uri": "https://localhost:8080/"
        },
        "id": "HYIEOt_piHgU",
        "outputId": "019d9508-7d62-45c6-ce22-9f7e2b1e28ce"
      },
      "source": [
        "import torch\n",
        "t_array = torch.FloatTensor(n_array)\n",
        "t_array"
      ],
      "execution_count": 4,
      "outputs": [
        {
          "output_type": "execute_result",
          "data": {
            "text/plain": [
              "tensor([[0., 1., 2., 3., 4.],\n",
              "        [5., 6., 7., 8., 9.]])"
            ]
          },
          "metadata": {
            "tags": []
          },
          "execution_count": 4
        }
      ]
    },
    {
      "cell_type": "code",
      "metadata": {
        "colab": {
          "base_uri": "https://localhost:8080/"
        },
        "id": "pFcj0OLeihFk",
        "outputId": "7e35782d-2d44-42e9-9306-eae3faaf7e6f"
      },
      "source": [
        "type(t_array)"
      ],
      "execution_count": 5,
      "outputs": [
        {
          "output_type": "execute_result",
          "data": {
            "text/plain": [
              "torch.Tensor"
            ]
          },
          "metadata": {
            "tags": []
          },
          "execution_count": 5
        }
      ]
    },
    {
      "cell_type": "code",
      "metadata": {
        "colab": {
          "base_uri": "https://localhost:8080/"
        },
        "id": "PxMWQTU8iHgU",
        "outputId": "b139f6bb-7009-4ec9-c72a-c05714166094"
      },
      "source": [
        "t_array.ndim"
      ],
      "execution_count": 6,
      "outputs": [
        {
          "output_type": "execute_result",
          "data": {
            "text/plain": [
              "2"
            ]
          },
          "metadata": {
            "tags": []
          },
          "execution_count": 6
        }
      ]
    },
    {
      "cell_type": "code",
      "metadata": {
        "colab": {
          "base_uri": "https://localhost:8080/"
        },
        "id": "s0Cw5802iHgU",
        "outputId": "86d2f7e0-2c15-4cbe-9e8a-7ef62fa21d42"
      },
      "source": [
        "print(t_array.shape)\n",
        "print(t_array.ndim)\n",
        "print(t_array.size()) # shape"
      ],
      "execution_count": 7,
      "outputs": [
        {
          "output_type": "stream",
          "text": [
            "torch.Size([2, 5])\n",
            "2\n",
            "torch.Size([2, 5])\n"
          ],
          "name": "stdout"
        }
      ]
    },
    {
      "cell_type": "code",
      "metadata": {
        "colab": {
          "base_uri": "https://localhost:8080/"
        },
        "id": "8Gz-iRfHiHgV",
        "outputId": "8d46f588-3566-456a-b077-212c39050de1"
      },
      "source": [
        "t_array[1:]"
      ],
      "execution_count": 8,
      "outputs": [
        {
          "output_type": "execute_result",
          "data": {
            "text/plain": [
              "tensor([[5., 6., 7., 8., 9.]])"
            ]
          },
          "metadata": {
            "tags": []
          },
          "execution_count": 8
        }
      ]
    },
    {
      "cell_type": "code",
      "metadata": {
        "colab": {
          "base_uri": "https://localhost:8080/"
        },
        "id": "nJZqbnJziHgV",
        "outputId": "701cc40a-9580-451a-e231-da7d39f5bb47"
      },
      "source": [
        "t_array[:2, :3]"
      ],
      "execution_count": 9,
      "outputs": [
        {
          "output_type": "execute_result",
          "data": {
            "text/plain": [
              "tensor([[0., 1., 2.],\n",
              "        [5., 6., 7.]])"
            ]
          },
          "metadata": {
            "tags": []
          },
          "execution_count": 9
        }
      ]
    },
    {
      "cell_type": "markdown",
      "metadata": {
        "id": "uWqSV7fSiHgV"
      },
      "source": [
        "## tensor operations"
      ]
    },
    {
      "cell_type": "code",
      "metadata": {
        "id": "0BVUWC6OiHgW"
      },
      "source": [
        "n1 = np.arange(10).reshape(2,5)\n",
        "n2 = np.arange(10).reshape(5,2)"
      ],
      "execution_count": 10,
      "outputs": []
    },
    {
      "cell_type": "code",
      "metadata": {
        "colab": {
          "base_uri": "https://localhost:8080/"
        },
        "id": "MO0DP1mkiHgW",
        "outputId": "b4418f0b-36c0-45c7-a725-fe55b6bd8c52"
      },
      "source": [
        "t1 = torch.FloatTensor(n1)\n",
        "t2 = torch.FloatTensor(n2)\n",
        "print('Shape of t1: ', t1.shape)\n",
        "print('Shape of t2: ', t2.shape)\n",
        "print(t1.matmul(t2))"
      ],
      "execution_count": 11,
      "outputs": [
        {
          "output_type": "stream",
          "text": [
            "Shape of t1:  torch.Size([2, 5])\n",
            "Shape of t2:  torch.Size([5, 2])\n",
            "tensor([[ 60.,  70.],\n",
            "        [160., 195.]])\n"
          ],
          "name": "stdout"
        }
      ]
    },
    {
      "cell_type": "code",
      "metadata": {
        "colab": {
          "base_uri": "https://localhost:8080/"
        },
        "id": "rhcwOuqsiHgX",
        "outputId": "c7be661b-5b22-4aa8-f561-31bd583f1ab5"
      },
      "source": [
        "n1.dot(n2)"
      ],
      "execution_count": 12,
      "outputs": [
        {
          "output_type": "execute_result",
          "data": {
            "text/plain": [
              "array([[ 60,  70],\n",
              "       [160, 195]])"
            ]
          },
          "metadata": {
            "tags": []
          },
          "execution_count": 12
        }
      ]
    },
    {
      "cell_type": "code",
      "metadata": {
        "colab": {
          "base_uri": "https://localhost:8080/"
        },
        "id": "3mHSyseQiHgX",
        "outputId": "75b4b86e-0c6c-46dc-f941-b2bd4d67ff82"
      },
      "source": [
        "n1 = np.arange(4).reshape(2,2)\n",
        "n2 = np.arange(4).reshape(2,2)\n",
        "t1 = torch.FloatTensor(n1)\n",
        "t2 = torch.FloatTensor(n2)\n",
        "\n",
        "t1 * t2"
      ],
      "execution_count": 13,
      "outputs": [
        {
          "output_type": "execute_result",
          "data": {
            "text/plain": [
              "tensor([[0., 1.],\n",
              "        [4., 9.]])"
            ]
          },
          "metadata": {
            "tags": []
          },
          "execution_count": 13
        }
      ]
    },
    {
      "cell_type": "code",
      "metadata": {
        "colab": {
          "base_uri": "https://localhost:8080/"
        },
        "id": "u-0sMkxpiHgX",
        "outputId": "3ffef53f-416e-4f85-e796-4644b7bd28d7"
      },
      "source": [
        "t1.mul(t2)"
      ],
      "execution_count": 14,
      "outputs": [
        {
          "output_type": "execute_result",
          "data": {
            "text/plain": [
              "tensor([[0., 1.],\n",
              "        [4., 9.]])"
            ]
          },
          "metadata": {
            "tags": []
          },
          "execution_count": 14
        }
      ]
    },
    {
      "cell_type": "code",
      "metadata": {
        "colab": {
          "base_uri": "https://localhost:8080/"
        },
        "id": "Cguvhk0piHgX",
        "outputId": "76a6e347-0087-4a73-d1a6-0f4d4974d4d1"
      },
      "source": [
        "t1 * 5"
      ],
      "execution_count": 15,
      "outputs": [
        {
          "output_type": "execute_result",
          "data": {
            "text/plain": [
              "tensor([[ 0.,  5.],\n",
              "        [10., 15.]])"
            ]
          },
          "metadata": {
            "tags": []
          },
          "execution_count": 15
        }
      ]
    },
    {
      "cell_type": "code",
      "metadata": {
        "colab": {
          "base_uri": "https://localhost:8080/"
        },
        "id": "rEDTnX-piHgX",
        "outputId": "5437fdb3-4354-4ea2-dccb-91be76b94e30"
      },
      "source": [
        "n1 = np.arange(10)\n",
        "t1 = torch.FloatTensor(n1)\n",
        "t1.mean()"
      ],
      "execution_count": 16,
      "outputs": [
        {
          "output_type": "execute_result",
          "data": {
            "text/plain": [
              "tensor(4.5000)"
            ]
          },
          "metadata": {
            "tags": []
          },
          "execution_count": 16
        }
      ]
    },
    {
      "cell_type": "code",
      "metadata": {
        "colab": {
          "base_uri": "https://localhost:8080/"
        },
        "id": "xeTZruMYiHgY",
        "outputId": "2246d782-4b15-4f3b-858b-092f1d29d10b"
      },
      "source": [
        "n1 = np.arange(10).reshape(5,2)\n",
        "t1 = torch.FloatTensor(n1)\n",
        "t1.mean(dim=0) # axis"
      ],
      "execution_count": 17,
      "outputs": [
        {
          "output_type": "execute_result",
          "data": {
            "text/plain": [
              "tensor([4., 5.])"
            ]
          },
          "metadata": {
            "tags": []
          },
          "execution_count": 17
        }
      ]
    },
    {
      "cell_type": "code",
      "metadata": {
        "colab": {
          "base_uri": "https://localhost:8080/"
        },
        "id": "sIQlvkpRiHgY",
        "outputId": "353fa7c1-57a6-4f34-b571-462e0b2c2e41"
      },
      "source": [
        "t1.mean(dim=1)"
      ],
      "execution_count": 18,
      "outputs": [
        {
          "output_type": "execute_result",
          "data": {
            "text/plain": [
              "tensor([0.5000, 2.5000, 4.5000, 6.5000, 8.5000])"
            ]
          },
          "metadata": {
            "tags": []
          },
          "execution_count": 18
        }
      ]
    },
    {
      "cell_type": "code",
      "metadata": {
        "colab": {
          "base_uri": "https://localhost:8080/"
        },
        "id": "OTt7X5-kiHgY",
        "outputId": "e007cec5-4935-410a-a9b3-42b9f0ae9942"
      },
      "source": [
        "n1 = np.arange(10)\n",
        "t1 = torch.FloatTensor(n1)\n",
        "t1.view(-1, 2) # reshape"
      ],
      "execution_count": 19,
      "outputs": [
        {
          "output_type": "execute_result",
          "data": {
            "text/plain": [
              "tensor([[0., 1.],\n",
              "        [2., 3.],\n",
              "        [4., 5.],\n",
              "        [6., 7.],\n",
              "        [8., 9.]])"
            ]
          },
          "metadata": {
            "tags": []
          },
          "execution_count": 19
        }
      ]
    },
    {
      "cell_type": "code",
      "metadata": {
        "colab": {
          "base_uri": "https://localhost:8080/"
        },
        "id": "7z4NndAKiHgZ",
        "outputId": "e8e7ada0-d938-4e35-e8f4-16d39c55c5dc"
      },
      "source": [
        "n1.reshape(-1, 2)"
      ],
      "execution_count": 20,
      "outputs": [
        {
          "output_type": "execute_result",
          "data": {
            "text/plain": [
              "array([[0, 1],\n",
              "       [2, 3],\n",
              "       [4, 5],\n",
              "       [6, 7],\n",
              "       [8, 9]])"
            ]
          },
          "metadata": {
            "tags": []
          },
          "execution_count": 20
        }
      ]
    },
    {
      "cell_type": "code",
      "metadata": {
        "colab": {
          "base_uri": "https://localhost:8080/"
        },
        "id": "bBYL9hg-juOG",
        "outputId": "aaca1b34-3c57-4c33-c1cc-5698ab61b078"
      },
      "source": [
        "t1.view(-1, 10)"
      ],
      "execution_count": 21,
      "outputs": [
        {
          "output_type": "execute_result",
          "data": {
            "text/plain": [
              "tensor([[0., 1., 2., 3., 4., 5., 6., 7., 8., 9.]])"
            ]
          },
          "metadata": {
            "tags": []
          },
          "execution_count": 21
        }
      ]
    },
    {
      "cell_type": "code",
      "metadata": {
        "colab": {
          "base_uri": "https://localhost:8080/"
        },
        "id": "cbW260pbiHgZ",
        "outputId": "d393cadc-3972-45e1-af84-71f7bd012a3d"
      },
      "source": [
        "t1.view(-1, 10).shape"
      ],
      "execution_count": 22,
      "outputs": [
        {
          "output_type": "execute_result",
          "data": {
            "text/plain": [
              "torch.Size([1, 10])"
            ]
          },
          "metadata": {
            "tags": []
          },
          "execution_count": 22
        }
      ]
    },
    {
      "cell_type": "code",
      "metadata": {
        "colab": {
          "base_uri": "https://localhost:8080/"
        },
        "id": "A-QC7D0qiHgZ",
        "outputId": "d674f4a6-34db-4c7f-db5d-3b87f8824b95"
      },
      "source": [
        "t1.view(-1, 10).squeeze() # [ ] 하나 없애줌"
      ],
      "execution_count": 23,
      "outputs": [
        {
          "output_type": "execute_result",
          "data": {
            "text/plain": [
              "tensor([0., 1., 2., 3., 4., 5., 6., 7., 8., 9.])"
            ]
          },
          "metadata": {
            "tags": []
          },
          "execution_count": 23
        }
      ]
    },
    {
      "cell_type": "code",
      "metadata": {
        "colab": {
          "base_uri": "https://localhost:8080/"
        },
        "id": "xzBwaV9Rjyfj",
        "outputId": "958185c8-c0cc-411a-f1e9-048f34a3f86e"
      },
      "source": [
        "t1.view(-1, 10).squeeze().shape"
      ],
      "execution_count": 24,
      "outputs": [
        {
          "output_type": "execute_result",
          "data": {
            "text/plain": [
              "torch.Size([10])"
            ]
          },
          "metadata": {
            "tags": []
          },
          "execution_count": 24
        }
      ]
    },
    {
      "cell_type": "code",
      "metadata": {
        "colab": {
          "base_uri": "https://localhost:8080/"
        },
        "id": "4szpbEyLiHgZ",
        "outputId": "7ac8193a-c78f-4f2c-f53c-6ebc58949ea4"
      },
      "source": [
        "t1.view(-1, 10).squeeze().unsqueeze(dim=0)"
      ],
      "execution_count": 25,
      "outputs": [
        {
          "output_type": "execute_result",
          "data": {
            "text/plain": [
              "tensor([[0., 1., 2., 3., 4., 5., 6., 7., 8., 9.]])"
            ]
          },
          "metadata": {
            "tags": []
          },
          "execution_count": 25
        }
      ]
    },
    {
      "cell_type": "code",
      "metadata": {
        "colab": {
          "base_uri": "https://localhost:8080/"
        },
        "id": "JDeNjLmUj4BO",
        "outputId": "78e5aa5f-47c1-404a-a676-e2efab99035a"
      },
      "source": [
        "t1.view(-1, 10).squeeze().unsqueeze(dim=1)"
      ],
      "execution_count": 26,
      "outputs": [
        {
          "output_type": "execute_result",
          "data": {
            "text/plain": [
              "tensor([[0.],\n",
              "        [1.],\n",
              "        [2.],\n",
              "        [3.],\n",
              "        [4.],\n",
              "        [5.],\n",
              "        [6.],\n",
              "        [7.],\n",
              "        [8.],\n",
              "        [9.]])"
            ]
          },
          "metadata": {
            "tags": []
          },
          "execution_count": 26
        }
      ]
    },
    {
      "cell_type": "markdown",
      "metadata": {
        "id": "J7mcln91iHgZ"
      },
      "source": [
        "## tensor operations for ML/DL formula"
      ]
    },
    {
      "cell_type": "code",
      "metadata": {
        "id": "GRdzWYO4iHga"
      },
      "source": [
        "import torch\n",
        "import torch.nn.functional as F"
      ],
      "execution_count": 27,
      "outputs": []
    },
    {
      "cell_type": "code",
      "metadata": {
        "colab": {
          "base_uri": "https://localhost:8080/"
        },
        "id": "62FMRe-SiHga",
        "outputId": "8744f76b-1349-4f3e-ea52-ffd840c139d0"
      },
      "source": [
        "tensor = torch.FloatTensor([0.5, 0.7, 0.1])\n",
        "h_tensor = F.softmax(tensor, dim=0)\n",
        "h_tensor"
      ],
      "execution_count": 28,
      "outputs": [
        {
          "output_type": "execute_result",
          "data": {
            "text/plain": [
              "tensor([0.3458, 0.4224, 0.2318])"
            ]
          },
          "metadata": {
            "tags": []
          },
          "execution_count": 28
        }
      ]
    },
    {
      "cell_type": "code",
      "metadata": {
        "colab": {
          "base_uri": "https://localhost:8080/"
        },
        "id": "eb9PJwOViHga",
        "outputId": "7ba629c1-9391-4e05-8b27-6d46f8e8f704"
      },
      "source": [
        "y = torch.randint(5, (10,5))\n",
        "y_label = y.argmax(dim=1)\n",
        "y_label"
      ],
      "execution_count": 29,
      "outputs": [
        {
          "output_type": "execute_result",
          "data": {
            "text/plain": [
              "tensor([2, 1, 1, 3, 4, 4, 0, 3, 0, 0])"
            ]
          },
          "metadata": {
            "tags": []
          },
          "execution_count": 29
        }
      ]
    },
    {
      "cell_type": "code",
      "metadata": {
        "colab": {
          "base_uri": "https://localhost:8080/"
        },
        "id": "mZMX8OZqiHgb",
        "outputId": "0fe1c70a-55e4-41c4-bf0f-4b766cd07947"
      },
      "source": [
        "F.one_hot(y_label)"
      ],
      "execution_count": 30,
      "outputs": [
        {
          "output_type": "execute_result",
          "data": {
            "text/plain": [
              "tensor([[0, 0, 1, 0, 0],\n",
              "        [0, 1, 0, 0, 0],\n",
              "        [0, 1, 0, 0, 0],\n",
              "        [0, 0, 0, 1, 0],\n",
              "        [0, 0, 0, 0, 1],\n",
              "        [0, 0, 0, 0, 1],\n",
              "        [1, 0, 0, 0, 0],\n",
              "        [0, 0, 0, 1, 0],\n",
              "        [1, 0, 0, 0, 0],\n",
              "        [1, 0, 0, 0, 0]])"
            ]
          },
          "metadata": {
            "tags": []
          },
          "execution_count": 30
        }
      ]
    },
    {
      "cell_type": "markdown",
      "metadata": {
        "id": "J3ojQq-xiHgb"
      },
      "source": [
        "## torch autogard"
      ]
    },
    {
      "cell_type": "markdown",
      "metadata": {
        "id": "T1rFxvdziHgb"
      },
      "source": [
        "$$\n",
        "y = w^2 \\\\ \n",
        "z = 2*y + 5 \\\\\n",
        "z = 2*w^2 + 5 \n",
        "$$"
      ]
    },
    {
      "cell_type": "code",
      "metadata": {
        "id": "hdBrVvuDiHgb"
      },
      "source": [
        "w = torch.tensor(2.0, requires_grad=True)\n",
        "y = w**2\n",
        "z = 2*y + 5"
      ],
      "execution_count": 31,
      "outputs": []
    },
    {
      "cell_type": "code",
      "metadata": {
        "id": "Pd9IpCQIiHgb"
      },
      "source": [
        "z.backward() # 미분"
      ],
      "execution_count": 32,
      "outputs": []
    },
    {
      "cell_type": "code",
      "metadata": {
        "colab": {
          "base_uri": "https://localhost:8080/"
        },
        "id": "Tlz1XFxxiHgc",
        "outputId": "1c2577b7-0957-4fe3-fc15-b0fa19059d5c"
      },
      "source": [
        "w.grad # 미분값 표시해라"
      ],
      "execution_count": 33,
      "outputs": [
        {
          "output_type": "execute_result",
          "data": {
            "text/plain": [
              "tensor(8.)"
            ]
          },
          "metadata": {
            "tags": []
          },
          "execution_count": 33
        }
      ]
    },
    {
      "cell_type": "markdown",
      "metadata": {
        "id": "Q9teHdyeiHgc"
      },
      "source": [
        "$$ Q = 3a^3 - b^2  $$"
      ]
    },
    {
      "cell_type": "code",
      "metadata": {
        "id": "UJjBpTgliHgc"
      },
      "source": [
        "a = torch.tensor([2., 3.], requires_grad=True)\n",
        "b = torch.tensor([6., 4.], requires_grad=True)"
      ],
      "execution_count": 34,
      "outputs": []
    },
    {
      "cell_type": "code",
      "metadata": {
        "id": "Ek0rIwvSiHgc"
      },
      "source": [
        "Q = 3*a**3 - b**2"
      ],
      "execution_count": 35,
      "outputs": []
    },
    {
      "cell_type": "code",
      "metadata": {
        "id": "wlJgq6y9iHgc"
      },
      "source": [
        "external_grad = torch.tensor([1., 1.])\n",
        "Q.backward(gradient=external_grad)"
      ],
      "execution_count": 36,
      "outputs": []
    },
    {
      "cell_type": "markdown",
      "metadata": {
        "id": "CJq87K_uiHgd"
      },
      "source": [
        "$$ \\frac{\\partial Q}{\\partial a} = 9a^2 $$  "
      ]
    },
    {
      "cell_type": "markdown",
      "metadata": {
        "id": "MKN2ZLgNiHgd"
      },
      "source": [
        "$$ \\frac{\\partial Q}{\\partial b} = -2b $$"
      ]
    },
    {
      "cell_type": "code",
      "metadata": {
        "colab": {
          "base_uri": "https://localhost:8080/"
        },
        "id": "FuHAI_3xiHgd",
        "outputId": "41316cd8-e2ff-434e-fb16-b7e3da2587bf"
      },
      "source": [
        "a.grad"
      ],
      "execution_count": 37,
      "outputs": [
        {
          "output_type": "execute_result",
          "data": {
            "text/plain": [
              "tensor([36., 81.])"
            ]
          },
          "metadata": {
            "tags": []
          },
          "execution_count": 37
        }
      ]
    },
    {
      "cell_type": "code",
      "metadata": {
        "colab": {
          "base_uri": "https://localhost:8080/"
        },
        "id": "AVIdchoYiHge",
        "outputId": "fc28ab52-c5a0-48f4-f6ad-0094af4bd9e4"
      },
      "source": [
        "b.grad"
      ],
      "execution_count": 38,
      "outputs": [
        {
          "output_type": "execute_result",
          "data": {
            "text/plain": [
              "tensor([-12.,  -8.])"
            ]
          },
          "metadata": {
            "tags": []
          },
          "execution_count": 38
        }
      ]
    },
    {
      "cell_type": "markdown",
      "metadata": {
        "id": "YBkeaZigiHge"
      },
      "source": [
        "## AutoGrad for Linear Regression\n",
        "https://towardsdatascience.com/linear-regression-with-pytorch-eb6dedead817"
      ]
    },
    {
      "cell_type": "markdown",
      "metadata": {
        "id": "HXXyNGBPiHgf"
      },
      "source": [
        "$$ y=2x+1 $$"
      ]
    },
    {
      "cell_type": "code",
      "metadata": {
        "id": "ZI27ZfJpiHgf"
      },
      "source": [
        "import numpy as np\n",
        "# create dummy data for training\n",
        "x_values = [i for i in range(11)]\n",
        "x_train = np.array(x_values, dtype=np.float32)\n",
        "x_train = x_train.reshape(-1, 1)\n",
        "\n",
        "y_values = [2*i + 1 for i in x_values]\n",
        "y_train = np.array(y_values, dtype=np.float32)\n",
        "y_train = y_train.reshape(-1, 1)"
      ],
      "execution_count": 39,
      "outputs": []
    },
    {
      "cell_type": "code",
      "metadata": {
        "colab": {
          "base_uri": "https://localhost:8080/"
        },
        "id": "2Tt7DNEJk-C0",
        "outputId": "176abe41-25c4-4a8f-8091-b3d3d95b7f2b"
      },
      "source": [
        "x_train"
      ],
      "execution_count": 40,
      "outputs": [
        {
          "output_type": "execute_result",
          "data": {
            "text/plain": [
              "array([[ 0.],\n",
              "       [ 1.],\n",
              "       [ 2.],\n",
              "       [ 3.],\n",
              "       [ 4.],\n",
              "       [ 5.],\n",
              "       [ 6.],\n",
              "       [ 7.],\n",
              "       [ 8.],\n",
              "       [ 9.],\n",
              "       [10.]], dtype=float32)"
            ]
          },
          "metadata": {
            "tags": []
          },
          "execution_count": 40
        }
      ]
    },
    {
      "cell_type": "code",
      "metadata": {
        "colab": {
          "base_uri": "https://localhost:8080/"
        },
        "id": "0jKCJjGWk--4",
        "outputId": "9f250df0-142e-403c-e424-5feb44c796f7"
      },
      "source": [
        "y_train"
      ],
      "execution_count": 41,
      "outputs": [
        {
          "output_type": "execute_result",
          "data": {
            "text/plain": [
              "array([[ 1.],\n",
              "       [ 3.],\n",
              "       [ 5.],\n",
              "       [ 7.],\n",
              "       [ 9.],\n",
              "       [11.],\n",
              "       [13.],\n",
              "       [15.],\n",
              "       [17.],\n",
              "       [19.],\n",
              "       [21.]], dtype=float32)"
            ]
          },
          "metadata": {
            "tags": []
          },
          "execution_count": 41
        }
      ]
    },
    {
      "cell_type": "code",
      "metadata": {
        "id": "8ZVNU_dYiHgf"
      },
      "source": [
        "import torch\n",
        "from torch.autograd import Variable\n",
        "class LinearRegression(torch.nn.Module):\n",
        "    def __init__(self, inputSize, outputSize):\n",
        "        super(LinearRegression, self).__init__()\n",
        "        self.linear = torch.nn.Linear(inputSize, outputSize)\n",
        "\n",
        "    def forward(self, x):\n",
        "        out = self.linear(x)\n",
        "        return out"
      ],
      "execution_count": 42,
      "outputs": []
    },
    {
      "cell_type": "code",
      "metadata": {
        "id": "16JXfaCciHgf"
      },
      "source": [
        "inputDim = 1        # takes variable 'x' \n",
        "outputDim = 1       # takes variable 'y'\n",
        "learningRate = 0.01 \n",
        "epochs = 100\n",
        "\n",
        "model = LinearRegression(inputDim, outputDim)\n",
        "##### For GPU #######\n",
        "if torch.cuda.is_available():\n",
        "    model.cuda()"
      ],
      "execution_count": 43,
      "outputs": []
    },
    {
      "cell_type": "code",
      "metadata": {
        "id": "L2PEGhz7iHgf"
      },
      "source": [
        "criterion = torch.nn.MSELoss() \n",
        "optimizer = torch.optim.SGD(model.parameters(), lr=learningRate)"
      ],
      "execution_count": 44,
      "outputs": []
    },
    {
      "cell_type": "code",
      "metadata": {
        "colab": {
          "base_uri": "https://localhost:8080/"
        },
        "id": "5WFf7-e4iHgg",
        "outputId": "da90aa50-4998-4493-b327-1366aaf9f443"
      },
      "source": [
        "for epoch in range(epochs):\n",
        "    # Converting inputs and labels to Variable\n",
        "    if torch.cuda.is_available():\n",
        "        inputs = Variable(torch.from_numpy(x_train).cuda())\n",
        "        labels = Variable(torch.from_numpy(y_train).cuda())\n",
        "    else:\n",
        "        inputs = Variable(torch.from_numpy(x_train))\n",
        "        labels = Variable(torch.from_numpy(y_train))\n",
        "\n",
        "    # Clear gradient buffers because we don't want any gradient from previous epoch to carry forward, dont want to cummulate gradients\n",
        "    optimizer.zero_grad() # 항상 적어줘야함\n",
        "\n",
        "    # get output from the model, given the inputs\n",
        "    outputs = model(inputs)\n",
        "\n",
        "    # get loss for the predicted output\n",
        "    loss = criterion(outputs, labels)\n",
        "    print(loss)\n",
        "    # get gradients w.r.t to parameters\n",
        "    loss.backward()\n",
        "\n",
        "    # update parameters\n",
        "    optimizer.step()\n",
        "\n",
        "    print('epoch {}, loss {}'.format(epoch, loss.item()))"
      ],
      "execution_count": 45,
      "outputs": [
        {
          "output_type": "stream",
          "text": [
            "tensor(112.5228, device='cuda:0', grad_fn=<MseLossBackward>)\n",
            "epoch 0, loss 112.52279663085938\n",
            "tensor(9.3575, device='cuda:0', grad_fn=<MseLossBackward>)\n",
            "epoch 1, loss 9.357502937316895\n",
            "tensor(0.9406, device='cuda:0', grad_fn=<MseLossBackward>)\n",
            "epoch 2, loss 0.9406320452690125\n",
            "tensor(0.2521, device='cuda:0', grad_fn=<MseLossBackward>)\n",
            "epoch 3, loss 0.2521142065525055\n",
            "tensor(0.1940, device='cuda:0', grad_fn=<MseLossBackward>)\n",
            "epoch 4, loss 0.19399531185626984\n",
            "tensor(0.1873, device='cuda:0', grad_fn=<MseLossBackward>)\n",
            "epoch 5, loss 0.18731798231601715\n",
            "tensor(0.1849, device='cuda:0', grad_fn=<MseLossBackward>)\n",
            "epoch 6, loss 0.1848582625389099\n",
            "tensor(0.1828, device='cuda:0', grad_fn=<MseLossBackward>)\n",
            "epoch 7, loss 0.1827639490365982\n",
            "tensor(0.1807, device='cuda:0', grad_fn=<MseLossBackward>)\n",
            "epoch 8, loss 0.18072061240673065\n",
            "tensor(0.1787, device='cuda:0', grad_fn=<MseLossBackward>)\n",
            "epoch 9, loss 0.17870230972766876\n",
            "tensor(0.1767, device='cuda:0', grad_fn=<MseLossBackward>)\n",
            "epoch 10, loss 0.17670683562755585\n",
            "tensor(0.1747, device='cuda:0', grad_fn=<MseLossBackward>)\n",
            "epoch 11, loss 0.17473337054252625\n",
            "tensor(0.1728, device='cuda:0', grad_fn=<MseLossBackward>)\n",
            "epoch 12, loss 0.17278225719928741\n",
            "tensor(0.1709, device='cuda:0', grad_fn=<MseLossBackward>)\n",
            "epoch 13, loss 0.17085285484790802\n",
            "tensor(0.1689, device='cuda:0', grad_fn=<MseLossBackward>)\n",
            "epoch 14, loss 0.16894491016864777\n",
            "tensor(0.1671, device='cuda:0', grad_fn=<MseLossBackward>)\n",
            "epoch 15, loss 0.16705842316150665\n",
            "tensor(0.1652, device='cuda:0', grad_fn=<MseLossBackward>)\n",
            "epoch 16, loss 0.1651928424835205\n",
            "tensor(0.1633, device='cuda:0', grad_fn=<MseLossBackward>)\n",
            "epoch 17, loss 0.16334810853004456\n",
            "tensor(0.1615, device='cuda:0', grad_fn=<MseLossBackward>)\n",
            "epoch 18, loss 0.1615242063999176\n",
            "tensor(0.1597, device='cuda:0', grad_fn=<MseLossBackward>)\n",
            "epoch 19, loss 0.15972043573856354\n",
            "tensor(0.1579, device='cuda:0', grad_fn=<MseLossBackward>)\n",
            "epoch 20, loss 0.15793682634830475\n",
            "tensor(0.1562, device='cuda:0', grad_fn=<MseLossBackward>)\n",
            "epoch 21, loss 0.15617313981056213\n",
            "tensor(0.1544, device='cuda:0', grad_fn=<MseLossBackward>)\n",
            "epoch 22, loss 0.15442925691604614\n",
            "tensor(0.1527, device='cuda:0', grad_fn=<MseLossBackward>)\n",
            "epoch 23, loss 0.15270467102527618\n",
            "tensor(0.1510, device='cuda:0', grad_fn=<MseLossBackward>)\n",
            "epoch 24, loss 0.15099956095218658\n",
            "tensor(0.1493, device='cuda:0', grad_fn=<MseLossBackward>)\n",
            "epoch 25, loss 0.149313285946846\n",
            "tensor(0.1476, device='cuda:0', grad_fn=<MseLossBackward>)\n",
            "epoch 26, loss 0.1476459950208664\n",
            "tensor(0.1460, device='cuda:0', grad_fn=<MseLossBackward>)\n",
            "epoch 27, loss 0.14599718153476715\n",
            "tensor(0.1444, device='cuda:0', grad_fn=<MseLossBackward>)\n",
            "epoch 28, loss 0.14436683058738708\n",
            "tensor(0.1428, device='cuda:0', grad_fn=<MseLossBackward>)\n",
            "epoch 29, loss 0.14275474846363068\n",
            "tensor(0.1412, device='cuda:0', grad_fn=<MseLossBackward>)\n",
            "epoch 30, loss 0.14116056263446808\n",
            "tensor(0.1396, device='cuda:0', grad_fn=<MseLossBackward>)\n",
            "epoch 31, loss 0.1395842432975769\n",
            "tensor(0.1380, device='cuda:0', grad_fn=<MseLossBackward>)\n",
            "epoch 32, loss 0.13802559673786163\n",
            "tensor(0.1365, device='cuda:0', grad_fn=<MseLossBackward>)\n",
            "epoch 33, loss 0.13648422062397003\n",
            "tensor(0.1350, device='cuda:0', grad_fn=<MseLossBackward>)\n",
            "epoch 34, loss 0.13496015965938568\n",
            "tensor(0.1335, device='cuda:0', grad_fn=<MseLossBackward>)\n",
            "epoch 35, loss 0.13345304131507874\n",
            "tensor(0.1320, device='cuda:0', grad_fn=<MseLossBackward>)\n",
            "epoch 36, loss 0.13196277618408203\n",
            "tensor(0.1305, device='cuda:0', grad_fn=<MseLossBackward>)\n",
            "epoch 37, loss 0.1304892748594284\n",
            "tensor(0.1290, device='cuda:0', grad_fn=<MseLossBackward>)\n",
            "epoch 38, loss 0.12903213500976562\n",
            "tensor(0.1276, device='cuda:0', grad_fn=<MseLossBackward>)\n",
            "epoch 39, loss 0.12759120762348175\n",
            "tensor(0.1262, device='cuda:0', grad_fn=<MseLossBackward>)\n",
            "epoch 40, loss 0.1261664628982544\n",
            "tensor(0.1248, device='cuda:0', grad_fn=<MseLossBackward>)\n",
            "epoch 41, loss 0.12475758790969849\n",
            "tensor(0.1234, device='cuda:0', grad_fn=<MseLossBackward>)\n",
            "epoch 42, loss 0.12336444854736328\n",
            "tensor(0.1220, device='cuda:0', grad_fn=<MseLossBackward>)\n",
            "epoch 43, loss 0.12198681384325027\n",
            "tensor(0.1206, device='cuda:0', grad_fn=<MseLossBackward>)\n",
            "epoch 44, loss 0.12062450498342514\n",
            "tensor(0.1193, device='cuda:0', grad_fn=<MseLossBackward>)\n",
            "epoch 45, loss 0.1192774698138237\n",
            "tensor(0.1179, device='cuda:0', grad_fn=<MseLossBackward>)\n",
            "epoch 46, loss 0.117945596575737\n",
            "tensor(0.1166, device='cuda:0', grad_fn=<MseLossBackward>)\n",
            "epoch 47, loss 0.11662856489419937\n",
            "tensor(0.1153, device='cuda:0', grad_fn=<MseLossBackward>)\n",
            "epoch 48, loss 0.1153261587023735\n",
            "tensor(0.1140, device='cuda:0', grad_fn=<MseLossBackward>)\n",
            "epoch 49, loss 0.11403833329677582\n",
            "tensor(0.1128, device='cuda:0', grad_fn=<MseLossBackward>)\n",
            "epoch 50, loss 0.11276495456695557\n",
            "tensor(0.1115, device='cuda:0', grad_fn=<MseLossBackward>)\n",
            "epoch 51, loss 0.1115056499838829\n",
            "tensor(0.1103, device='cuda:0', grad_fn=<MseLossBackward>)\n",
            "epoch 52, loss 0.11026045680046082\n",
            "tensor(0.1090, device='cuda:0', grad_fn=<MseLossBackward>)\n",
            "epoch 53, loss 0.10902928560972214\n",
            "tensor(0.1078, device='cuda:0', grad_fn=<MseLossBackward>)\n",
            "epoch 54, loss 0.10781180113554001\n",
            "tensor(0.1066, device='cuda:0', grad_fn=<MseLossBackward>)\n",
            "epoch 55, loss 0.10660774260759354\n",
            "tensor(0.1054, device='cuda:0', grad_fn=<MseLossBackward>)\n",
            "epoch 56, loss 0.10541735589504242\n",
            "tensor(0.1042, device='cuda:0', grad_fn=<MseLossBackward>)\n",
            "epoch 57, loss 0.10424007475376129\n",
            "tensor(0.1031, device='cuda:0', grad_fn=<MseLossBackward>)\n",
            "epoch 58, loss 0.10307612270116806\n",
            "tensor(0.1019, device='cuda:0', grad_fn=<MseLossBackward>)\n",
            "epoch 59, loss 0.1019250750541687\n",
            "tensor(0.1008, device='cuda:0', grad_fn=<MseLossBackward>)\n",
            "epoch 60, loss 0.10078686475753784\n",
            "tensor(0.0997, device='cuda:0', grad_fn=<MseLossBackward>)\n",
            "epoch 61, loss 0.0996614322066307\n",
            "tensor(0.0985, device='cuda:0', grad_fn=<MseLossBackward>)\n",
            "epoch 62, loss 0.09854854643344879\n",
            "tensor(0.0974, device='cuda:0', grad_fn=<MseLossBackward>)\n",
            "epoch 63, loss 0.09744807332754135\n",
            "tensor(0.0964, device='cuda:0', grad_fn=<MseLossBackward>)\n",
            "epoch 64, loss 0.09635988622903824\n",
            "tensor(0.0953, device='cuda:0', grad_fn=<MseLossBackward>)\n",
            "epoch 65, loss 0.09528374671936035\n",
            "tensor(0.0942, device='cuda:0', grad_fn=<MseLossBackward>)\n",
            "epoch 66, loss 0.09421978145837784\n",
            "tensor(0.0932, device='cuda:0', grad_fn=<MseLossBackward>)\n",
            "epoch 67, loss 0.09316763281822205\n",
            "tensor(0.0921, device='cuda:0', grad_fn=<MseLossBackward>)\n",
            "epoch 68, loss 0.09212728589773178\n",
            "tensor(0.0911, device='cuda:0', grad_fn=<MseLossBackward>)\n",
            "epoch 69, loss 0.09109854698181152\n",
            "tensor(0.0901, device='cuda:0', grad_fn=<MseLossBackward>)\n",
            "epoch 70, loss 0.09008119255304337\n",
            "tensor(0.0891, device='cuda:0', grad_fn=<MseLossBackward>)\n",
            "epoch 71, loss 0.0890752449631691\n",
            "tensor(0.0881, device='cuda:0', grad_fn=<MseLossBackward>)\n",
            "epoch 72, loss 0.08808055520057678\n",
            "tensor(0.0871, device='cuda:0', grad_fn=<MseLossBackward>)\n",
            "epoch 73, loss 0.08709694445133209\n",
            "tensor(0.0861, device='cuda:0', grad_fn=<MseLossBackward>)\n",
            "epoch 74, loss 0.08612442016601562\n",
            "tensor(0.0852, device='cuda:0', grad_fn=<MseLossBackward>)\n",
            "epoch 75, loss 0.0851626843214035\n",
            "tensor(0.0842, device='cuda:0', grad_fn=<MseLossBackward>)\n",
            "epoch 76, loss 0.08421170711517334\n",
            "tensor(0.0833, device='cuda:0', grad_fn=<MseLossBackward>)\n",
            "epoch 77, loss 0.08327127993106842\n",
            "tensor(0.0823, device='cuda:0', grad_fn=<MseLossBackward>)\n",
            "epoch 78, loss 0.08234137296676636\n",
            "tensor(0.0814, device='cuda:0', grad_fn=<MseLossBackward>)\n",
            "epoch 79, loss 0.0814218744635582\n",
            "tensor(0.0805, device='cuda:0', grad_fn=<MseLossBackward>)\n",
            "epoch 80, loss 0.08051272481679916\n",
            "tensor(0.0796, device='cuda:0', grad_fn=<MseLossBackward>)\n",
            "epoch 81, loss 0.07961367070674896\n",
            "tensor(0.0787, device='cuda:0', grad_fn=<MseLossBackward>)\n",
            "epoch 82, loss 0.07872466742992401\n",
            "tensor(0.0778, device='cuda:0', grad_fn=<MseLossBackward>)\n",
            "epoch 83, loss 0.0778454914689064\n",
            "tensor(0.0770, device='cuda:0', grad_fn=<MseLossBackward>)\n",
            "epoch 84, loss 0.07697615772485733\n",
            "tensor(0.0761, device='cuda:0', grad_fn=<MseLossBackward>)\n",
            "epoch 85, loss 0.07611659914255142\n",
            "tensor(0.0753, device='cuda:0', grad_fn=<MseLossBackward>)\n",
            "epoch 86, loss 0.07526667416095734\n",
            "tensor(0.0744, device='cuda:0', grad_fn=<MseLossBackward>)\n",
            "epoch 87, loss 0.07442623376846313\n",
            "tensor(0.0736, device='cuda:0', grad_fn=<MseLossBackward>)\n",
            "epoch 88, loss 0.07359503954648972\n",
            "tensor(0.0728, device='cuda:0', grad_fn=<MseLossBackward>)\n",
            "epoch 89, loss 0.07277324050664902\n",
            "tensor(0.0720, device='cuda:0', grad_fn=<MseLossBackward>)\n",
            "epoch 90, loss 0.07196059823036194\n",
            "tensor(0.0712, device='cuda:0', grad_fn=<MseLossBackward>)\n",
            "epoch 91, loss 0.0711570531129837\n",
            "tensor(0.0704, device='cuda:0', grad_fn=<MseLossBackward>)\n",
            "epoch 92, loss 0.070362389087677\n",
            "tensor(0.0696, device='cuda:0', grad_fn=<MseLossBackward>)\n",
            "epoch 93, loss 0.06957677006721497\n",
            "tensor(0.0688, device='cuda:0', grad_fn=<MseLossBackward>)\n",
            "epoch 94, loss 0.06879977136850357\n",
            "tensor(0.0680, device='cuda:0', grad_fn=<MseLossBackward>)\n",
            "epoch 95, loss 0.06803140044212341\n",
            "tensor(0.0673, device='cuda:0', grad_fn=<MseLossBackward>)\n",
            "epoch 96, loss 0.06727176159620285\n",
            "tensor(0.0665, device='cuda:0', grad_fn=<MseLossBackward>)\n",
            "epoch 97, loss 0.06652053445577621\n",
            "tensor(0.0658, device='cuda:0', grad_fn=<MseLossBackward>)\n",
            "epoch 98, loss 0.06577775627374649\n",
            "tensor(0.0650, device='cuda:0', grad_fn=<MseLossBackward>)\n",
            "epoch 99, loss 0.06504318863153458\n"
          ],
          "name": "stdout"
        }
      ]
    },
    {
      "cell_type": "code",
      "metadata": {
        "colab": {
          "base_uri": "https://localhost:8080/"
        },
        "id": "nXu_F0AQiHgg",
        "outputId": "5f30360e-ec57-4b51-c25a-d32b486735b5"
      },
      "source": [
        "with torch.no_grad(): # we don't need gradients in the testing phase\n",
        "    if torch.cuda.is_available():\n",
        "        predicted = model(Variable(torch.from_numpy(x_train).cuda())).cpu().data.numpy()\n",
        "    else:\n",
        "        predicted = model(Variable(torch.from_numpy(x_train))).data.numpy()\n",
        "    print(predicted)"
      ],
      "execution_count": 46,
      "outputs": [
        {
          "output_type": "stream",
          "text": [
            "[[ 0.52558196]\n",
            " [ 2.5939026 ]\n",
            " [ 4.662223  ]\n",
            " [ 6.7305436 ]\n",
            " [ 8.798864  ]\n",
            " [10.867185  ]\n",
            " [12.935505  ]\n",
            " [15.003825  ]\n",
            " [17.072145  ]\n",
            " [19.140467  ]\n",
            " [21.208788  ]]\n"
          ],
          "name": "stdout"
        }
      ]
    }
  ]
}