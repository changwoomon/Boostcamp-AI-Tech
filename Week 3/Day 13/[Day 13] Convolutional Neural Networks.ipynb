{
 "cells": [
  {
   "cell_type": "markdown",
   "metadata": {},
   "source": [
    "# Day 13"
   ]
  },
  {
   "cell_type": "markdown",
   "metadata": {},
   "source": [
    "> [DL Basic] [CNN - Convolution은 무엇인가?](https://github.com/changwoomon/Boostcamp-AI-Tech/blob/main/Week%203/Day%2013/cnn.ipynb)"
   ]
  },
  {
   "cell_type": "markdown",
   "metadata": {},
   "source": [
    "### Convolution\n",
    "- Continuous convolution\n",
    "$$(f*g)(t)=\\int f(\\tau)g(t-\\tau)d\\tau=\\int f(t-\\tau)g(t)d\\tau$$\n",
    "- Discrete convolution\n",
    "$$(f*g)(t)=\\sum_{i=-\\infty}^{\\infty}f(i)g(t-i)=\\sum_{i=-\\infty}^{\\infty}f(t-i)g(i)$$\n",
    "- 2D image convolution\n",
    "$$(I*K)(i,j)=\\sum_{m}\\sum_{n}I(m,n)K(i-m,j-n)=\\sum_{m}\\sum_{n}I(i-m,j-n)K(m,n)$$\n",
    "\n",
    "### Convolutional Neural Networks (CNN)\n",
    "- CNN consists of convolution layer, pooling layer, and fully connected layer\n",
    "    - Convolution and Pooling layers : feature extraction\n",
    "    - Fully connected layer : decision making (ex. classification)\n",
    "\n",
    "### 1x1 Convolution\n",
    "- Why?\n",
    "    - Dimension reduction\n",
    "    - To reduce the number of parameters while increasing the depth\n",
    "    - ex. bottleneck architecture"
   ]
  },
  {
   "cell_type": "markdown",
   "metadata": {},
   "source": [
    "> [DL Basic] Modern CNN - 1x1 convolution의 중요성"
   ]
  },
  {
   "cell_type": "markdown",
   "metadata": {},
   "source": [
    "### [AlexNet](https://proceedings.neurips.cc/paper/2012/file/c399862d3b9d6b76c8436e924a68c45b-Paper.pdf)\n",
    "- ILSVRC\n",
    "    - **I**mageNet **L**arge-**S**cale **V**isual **R**ecognition **C**hallenge\n",
    "        - Classification / Detection / Localization / Segmentation\n",
    "        - 1,000 different categories\n",
    "        - Over 1 million images\n",
    "        - Training set : 456,567 images        \n",
    "- Key ideas\n",
    "    - Rectified Linear Unit (ReLU) activation\n",
    "    - GPU implementation (2 GPUs)\n",
    "    - Local response normalization, Overlapping pooling\n",
    "    - Data augmentation\n",
    "    - Dropout\n",
    "- ReLU Activation\n",
    "    - Preserves properties of linear models\n",
    "    - Easy to optimize with gradient descent\n",
    "    - Good generalization\n",
    "    - Overcome the vanishing gradient problem\n",
    "\n",
    "### [VGGNet](https://arxiv.org/pdf/1409.1556.pdf)\n",
    "- Increasing depth with **3x3** convolution filters (with stride 1)\n",
    "- 1x1 convolution for fully connected layers\n",
    "- Dropout (p=0.5)\n",
    "- VGG16, VGG19\n",
    "\n",
    "### [GoogLeNet](https://arxiv.org/pdf/1409.4842.pdf)\n",
    "- GoogLeNet won the ILSVRC at 2014\n",
    "    - It combined network-in-network (NiN) with inception blocks\n",
    "- Inception blocks\n",
    "    - What are the benefits of the inception block?\n",
    "        - Reduce the number of parameter\n",
    "    - How?\n",
    "        - Recall how the number of parameters is computed\n",
    "        - 1x1 convolution can be seen as channel-wise dimension reduction\n",
    "    - Benefit of 1x1 convolution\n",
    "        - **1x1 convolution** enables about 30% reduce of the number of parameters\n",
    "\n",
    "### [ResNet](https://arxiv.org/pdf/1512.03385.pdf)\n",
    "- Deeper neural networks are hard to train\n",
    "    - Overfitting is usually caused by an excessive number of parameters\n",
    "    - But, not in this case\n",
    "- Add an identity map (skip connection)\n",
    "- Add an identity map after nonlinear activations \n",
    "- Batch normalization after convolutions\n",
    "- Bottleneck architecture\n",
    "- Performance increases while parameter size decreases\n",
    "\n",
    "### [DenseNet](https://arxiv.org/pdf/1608.06993.pdf)\n",
    "- DenseNet uses **concatenation** instead of **addition**\n",
    "- Dense Block\n",
    "    - Each layer concatenates the feature maps of all preceding layers\n",
    "    - The number of channels increases geometrically\n",
    "- Transition Block\n",
    "    - BatchNorm -> 1x1 Conv -> 2x2 AvgPooling\n",
    "    - Dimension reduction\n",
    "\n",
    "### Summary\n",
    "- VGG : repeated 3x3 blocks\n",
    "- GoogLeNet : 1x1 convolution\n",
    "- ResNet : skip-connection\n",
    "- DenseNet : concatenation"
   ]
  },
  {
   "cell_type": "markdown",
   "metadata": {},
   "source": [
    "> [DL Basic] Computer Vision Applications"
   ]
  },
  {
   "cell_type": "markdown",
   "metadata": {},
   "source": [
    "### Semantic Segmentation\n",
    "- Fully Convolutional Network\n",
    "- Deconvolution (conv transpose)\n",
    "\n",
    "### Detection\n",
    "- [R-CNN](https://arxiv.org/pdf/1311.2524.pdf)\n",
    "    1. takes an input image\n",
    "    2. extracts around 2,000 region proposals (using Selective search)\n",
    "    3. compute features for each proposal (using AlexNet)\n",
    "    4. classifies with linear SVMs\n",
    "\n",
    "- [SPPNet](https://arxiv.org/pdf/1406.4729.pdf)\n",
    "    - In R-CNN, the number of cop/warp is usually over 2,000 meaning that CNN must run more than 2,000 times (59s/image on CPU)\n",
    "    - However, in SPPNet, CNN runs once\n",
    "\n",
    "- [Fast R-CNN](https://arxiv.org/pdf/1504.08083.pdf)\n",
    "    1. Takes an input and a set of bounding boxes\n",
    "    2. Generated convolutional feature map\n",
    "    3. For each region, get a fixed length feature from ROI pooling\n",
    "    4. Two outputs : class and bounding-box regressor\n",
    "\n",
    "- [Faster R-CNN](https://arxiv.org/pdf/1506.01497.pdf)\n",
    "    - Faster R-CNN = <span style=\"color:red\">Region Proposal Network</span> + Fast R-CNN\n",
    "    - Region Proposal Network\n",
    "        - Anchor boxes : detection boxes with predefined sizes\n",
    "\n",
    "- [YOLO](https://arxiv.org/pdf/1506.02640.pdf)\n",
    "    - YOLO (v1) is an extremely fast object detection algorithm\n",
    "        - baseline : 45fps / smaller version : 155fps\n",
    "    - It **simultaneously** predicts multiple bounding boxes and class probabilities\n",
    "        - No explicit bounding box sampling (compared with Faster R-CNN)\n",
    "\n",
    "    1. Given an image, YOLO divides it into SxS grid\n",
    "        - If the center of an object falls into the grid cell, that grid cell is responsible for detection\n",
    "    2. Each cell predicts B bounding boxes (B=5)\n",
    "        - Each bounding box predicts\n",
    "            - box refinement (x,y,w,h)\n",
    "            - confidence (of objectness)\n",
    "    3. Each cell predicts C class probabilities\n",
    "    - In total, it becomes a tensor with SxSx(Bx5+c) size\n",
    "        - SxS : Number of cells of the grid\n",
    "        - Bx5 : B bounding boxes with offsets (x,y,w,h) and confidence\n",
    "        - C : Number of classes"
   ]
  },
  {
   "cell_type": "markdown",
   "metadata": {},
   "source": [
    "> [DL Basic] CNN - 강아지 종류 분류하기\n",
    "- [dataset](https://github.com/changwoomon/Boostcamp-AI-Tech/blob/main/Week%203/Day%2013/dog_breed_dataset.ipynb)\n",
    "- [cnn](https://github.com/changwoomon/Boostcamp-AI-Tech/blob/main/Week%203/Day%2013/dog_breed_CNN.ipynb)"
   ]
  },
  {
   "cell_type": "markdown",
   "metadata": {},
   "source": [
    "> [DL Basic] CNN - 나만의 데이터셋 만들기\n",
    "- [google-images-download](https://github.com/Joeclinton1/google-images-download.git)\n",
    "- [google images download 설치하기](https://github.com/BoostcampAITech/lecture-note-python-basics-for-ai/blob/main/codes/pytorch/00_utils/google%20images%20download.md)"
   ]
  }
 ],
 "metadata": {
  "kernelspec": {
   "display_name": "Python 3",
   "language": "python",
   "name": "python3"
  },
  "language_info": {
   "codemirror_mode": {
    "name": "ipython",
    "version": 3
   },
   "file_extension": ".py",
   "mimetype": "text/x-python",
   "name": "python",
   "nbconvert_exporter": "python",
   "pygments_lexer": "ipython3",
   "version": "3.8.5"
  }
 },
 "nbformat": 4,
 "nbformat_minor": 4
}
