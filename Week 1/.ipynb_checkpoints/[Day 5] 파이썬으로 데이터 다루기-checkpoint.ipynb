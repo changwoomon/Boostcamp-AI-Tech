{
 "cells": [
  {
   "cell_type": "markdown",
   "metadata": {},
   "source": [
    "# Day 5"
   ]
  },
  {
   "cell_type": "markdown",
   "metadata": {},
   "source": [
    "> Exception / File / Log Handling"
   ]
  },
  {
   "cell_type": "markdown",
   "metadata": {},
   "source": [
    "### Exception\n",
    "1. 예상 가능한 예외\n",
    "    - 발생 여부를 사전에 인지할 수 있는 예외\n",
    "    - 사용자의 잘못된 입력, 파일 호출 시 파일 없음\n",
    "    - 개발자가 반드시 명시적으로 정의 해야함\n",
    "2. 예상 불가능한 예외\n",
    "    - 인터프리터 과정에서 발생하는 예외, 개발자 실수\n",
    "    - 리스트의 범위를 넘어가는 값 호출, 정수 0으로 나눔\n",
    "    - 수행 불가시 인터프리터가 자동 호출"
   ]
  },
  {
   "cell_type": "code",
   "execution_count": 1,
   "metadata": {},
   "outputs": [
    {
     "name": "stdout",
     "output_type": "stream",
     "text": [
      "Not divided by 0\n",
      "1 10\n",
      "2 5\n",
      "3 3\n",
      "4 2\n",
      "5 2\n",
      "6 1\n",
      "7 1\n",
      "8 1\n",
      "9 1\n"
     ]
    }
   ],
   "source": [
    "for i in range(10):\n",
    "    try:\n",
    "        print(i, 10 // i)\n",
    "    except ZeroDivisionError:\n",
    "        print(\"Not divided by 0\")"
   ]
  },
  {
   "cell_type": "code",
   "execution_count": 6,
   "metadata": {},
   "outputs": [
    {
     "name": "stdout",
     "output_type": "stream",
     "text": [
      "Not divided by 0\n",
      "1 10\n",
      "2\n",
      "name 'v' is not defined\n",
      "2 5\n",
      "3\n",
      "name 'v' is not defined\n",
      "3 3\n",
      "4\n",
      "name 'v' is not defined\n",
      "4 2\n",
      "5\n",
      "name 'v' is not defined\n",
      "5 2\n",
      "list index out of range\n",
      "6 1\n",
      "list index out of range\n",
      "7 1\n",
      "list index out of range\n",
      "8 1\n",
      "list index out of range\n",
      "9 1\n",
      "list index out of range\n"
     ]
    }
   ],
   "source": [
    "a = [1, 2, 3, 4, 5]\n",
    "for i in range(10):\n",
    "    try:\n",
    "        print(i, 10 // i)\n",
    "        print(a[i])\n",
    "        print(v)\n",
    "    except ZeroDivisionError:\n",
    "        print(\"Not divided by 0\")\n",
    "    except IndexError as e:\n",
    "        print(e)\n",
    "    except Exception as e:\n",
    "        print(e)"
   ]
  },
  {
   "cell_type": "code",
   "execution_count": 7,
   "metadata": {},
   "outputs": [
    {
     "name": "stdout",
     "output_type": "stream",
     "text": [
      "Not divided by 0\n",
      "10\n",
      "5\n",
      "3\n",
      "2\n",
      "2\n",
      "1\n",
      "1\n",
      "1\n",
      "1\n"
     ]
    }
   ],
   "source": [
    "for i in range(10):\n",
    "    try:\n",
    "        result = 10 // i\n",
    "    except ZeroDivisionError:\n",
    "        print(\"Not divided by 0\")\n",
    "    else:\n",
    "        print(10 // i)"
   ]
  },
  {
   "cell_type": "code",
   "execution_count": 8,
   "metadata": {},
   "outputs": [
    {
     "name": "stdout",
     "output_type": "stream",
     "text": [
      "10\n",
      "5\n",
      "3\n",
      "2\n",
      "2\n",
      "1\n",
      "1\n",
      "1\n",
      "1\n",
      "종료되었습니다.\n"
     ]
    }
   ],
   "source": [
    "try:\n",
    "    for i in range(1, 10):\n",
    "        result = 10 // i\n",
    "        print(result)\n",
    "except ZeroDivisionError:\n",
    "    print(\"Not divided by 0\")\n",
    "finally:\n",
    "    print(\"종료되었습니다.\")"
   ]
  },
  {
   "cell_type": "code",
   "execution_count": 9,
   "metadata": {},
   "outputs": [
    {
     "name": "stdout",
     "output_type": "stream",
     "text": [
      "Not divided by 0\n",
      "0 ------ 1\n",
      "10\n",
      "1 ------ 10\n",
      "5\n",
      "2 ------ 5\n",
      "3\n",
      "3 ------ 3\n",
      "2\n",
      "4 ------ 2\n",
      "2\n",
      "5 ------ 2\n",
      "1\n",
      "6 ------ 1\n",
      "1\n",
      "7 ------ 1\n",
      "1\n",
      "8 ------ 1\n",
      "1\n",
      "9 ------ 1\n"
     ]
    }
   ],
   "source": [
    "for i in range(10):\n",
    "    try:\n",
    "        result = 10 // i\n",
    "    except ZeroDivisionError:\n",
    "        print(\"Not divided by 0\")\n",
    "    else:\n",
    "        print(10 // i)\n",
    "    finally:\n",
    "        print(i, \"------\", result)"
   ]
  },
  {
   "cell_type": "code",
   "execution_count": 10,
   "metadata": {},
   "outputs": [
    {
     "name": "stdin",
     "output_type": "stream",
     "text": [
      "변환할 정수 값을 입력해주세요 121\n"
     ]
    },
    {
     "name": "stdout",
     "output_type": "stream",
     "text": [
      "정수값으로 변환된 숫자 -  121\n"
     ]
    },
    {
     "name": "stdin",
     "output_type": "stream",
     "text": [
      "변환할 정수 값을 입력해주세요 a\n"
     ]
    },
    {
     "ename": "ValueError",
     "evalue": "숫자값을 입력하지 않으셨습니다",
     "output_type": "error",
     "traceback": [
      "\u001b[1;31m---------------------------------------------------------------------------\u001b[0m",
      "\u001b[1;31mValueError\u001b[0m                                Traceback (most recent call last)",
      "\u001b[1;32m<ipython-input-10-4e1accacf159>\u001b[0m in \u001b[0;36m<module>\u001b[1;34m\u001b[0m\n\u001b[0;32m      4\u001b[0m     \u001b[1;32mfor\u001b[0m \u001b[0mdigit\u001b[0m \u001b[1;32min\u001b[0m \u001b[0mvalue\u001b[0m\u001b[1;33m:\u001b[0m\u001b[1;33m\u001b[0m\u001b[1;33m\u001b[0m\u001b[0m\n\u001b[0;32m      5\u001b[0m         \u001b[1;32mif\u001b[0m \u001b[0mdigit\u001b[0m \u001b[1;32mnot\u001b[0m \u001b[1;32min\u001b[0m \u001b[1;34m\"0123456789\"\u001b[0m\u001b[1;33m:\u001b[0m\u001b[1;33m\u001b[0m\u001b[1;33m\u001b[0m\u001b[0m\n\u001b[1;32m----> 6\u001b[1;33m             \u001b[1;32mraise\u001b[0m \u001b[0mValueError\u001b[0m\u001b[1;33m(\u001b[0m\u001b[1;34m\"숫자값을 입력하지 않으셨습니다\"\u001b[0m\u001b[1;33m)\u001b[0m\u001b[1;33m\u001b[0m\u001b[1;33m\u001b[0m\u001b[0m\n\u001b[0m\u001b[0;32m      7\u001b[0m     \u001b[0mprint\u001b[0m\u001b[1;33m(\u001b[0m\u001b[1;34m\"정수값으로 변환된 숫자 - \"\u001b[0m\u001b[1;33m,\u001b[0m \u001b[0mint\u001b[0m\u001b[1;33m(\u001b[0m\u001b[0mvalue\u001b[0m\u001b[1;33m)\u001b[0m\u001b[1;33m)\u001b[0m\u001b[1;33m\u001b[0m\u001b[1;33m\u001b[0m\u001b[0m\n",
      "\u001b[1;31mValueError\u001b[0m: 숫자값을 입력하지 않으셨습니다"
     ]
    }
   ],
   "source": [
    "# raise 구문 - 필요에 따라 강제로 Exception을 발생\n",
    "while True:\n",
    "    value = input(\"변환할 정수 값을 입력해주세요\")\n",
    "    for digit in value:\n",
    "        if digit not in \"0123456789\":\n",
    "            raise ValueError(\"숫자값을 입력하지 않으셨습니다\")\n",
    "    print(\"정수값으로 변환된 숫자 - \", int(value))"
   ]
  },
  {
   "cell_type": "code",
   "execution_count": 11,
   "metadata": {},
   "outputs": [
    {
     "name": "stdout",
     "output_type": "stream",
     "text": [
      "0b1010\n"
     ]
    }
   ],
   "source": [
    "# assert 구문 - 특정 조건에 만족하지 않을 경우 예외 발생\n",
    "def get_binary_number(decimal_number):\n",
    "    assert isinstance(decimal_number, int) # False일때 Error 발생\n",
    "    return bin(decimal_number)\n",
    "\n",
    "print(get_binary_number(10))"
   ]
  },
  {
   "cell_type": "code",
   "execution_count": 12,
   "metadata": {},
   "outputs": [
    {
     "name": "stdout",
     "output_type": "stream",
     "text": [
      "I am happy to join with you today in what will go down in history as the greatest demonstration for freedom in the history of our nation.\n",
      "\n",
      "Five score years ago, a great American, in whose symbolic shadow we stand today, signed the Emancipation Proclamation. This momentous decree came as a great beacon light of hope to millions of Negro slaves who had been seared in the flames of withering injustice. It came as a joyous daybreak to end the long night of their captivity.\n",
      "\n",
      "But one hundred years later, the Negro still is not free. One hundred years later, the life of the Negro is still sadly crippled by the manacles of segregation and the chains of discrimination. One hundred years later, the Negro lives on a lonely island of poverty in the midst of a vast ocean of material prosperity. One hundred years later, the Negro is still languished in the corners of American society and finds himself an exile in his own land. And so we've come here today to dramatize a shameful condition.\n",
      "\n",
      "In a sense we've come to our nation's capital to cash a check. When the architects of our republic wrote the magnificent words of the Constitution and the Declaration of Independence, they were signing a promissory note to which every American was to fall heir. This note was a promise that all men, yes, black men as well as white men, would be guaranteed the \"unalienable Rights\" of \"Life, Liberty and the pursuit of Happiness.\" It is obvious today that America has defaulted on this promissory note, insofar as her citizens of color are concerned. Instead of honoring this sacred obligation, America has given the Negro people a bad check, a check which has come back marked \"insufficient funds.\"\n",
      "\n",
      "But we refuse to believe that the bank of justice is bankrupt. We refuse to believe that there are insufficient funds in the great vaults of opportunity of this nation. And so, we've come to cash this check, a check that will give us upon demand the riches of freedom and the security of justice.\n",
      "\n",
      "We have also come to this hallowed spot to remind America of the fierce urgency of Now. This is no time to engage in the luxury of cooling off or to take the tranquilizing drug of gradualism. Now is the time to make real the promises of democracy. Now is the time to rise from the dark and desolate valley of segregation to the sunlit path of racial justice. Now is the time to lift our nation from the quicksands of racial injustice to the solid rock of brotherhood. Now is the time to make justice a reality for all of God's children.\n",
      "\n",
      "It would be fatal for the nation to overlook the urgency of the moment. This sweltering summer of the Negro's legitimate discontent will not pass until there is an invigorating autumn of freedom and equality. Nineteen sixty-three is not an end, but a beginning. And those who hope that the Negro needed to blow off steam and will now be content will have a rude awakening if the nation returns to business as usual. And there will be neither rest nor tranquility in America until the Negro is granted his citizenship rights. The whirlwinds of revolt will continue to shake the foundations of our nation until the bright day of justice emerges.\n",
      "\n",
      "But there is something that I must say to my people, who stand on the warm threshold which leads into the palace of justice: In the process of gaining our rightful place, we must not be guilty of wrongful deeds. Let us not seek to satisfy our thirst for freedom by drinking from the cup of bitterness and hatred. We must forever conduct our struggle on the high plane of dignity and discipline. We must not allow our creative protest to degenerate into physical violence. Again and again, we must rise to the majestic heights of meeting physical force with soul force.\n",
      "\n",
      "The marvelous new militancy which has engulfed the Negro community must not lead us to a distrust of all white people, for many of our white brothers, as evidenced by their presence here today, have come to realize that their destiny is tied up with our destiny. And they have come to realize that their freedom is inextricably bound to our freedom.\n",
      "\n",
      "We cannot walk alone.\n",
      "\n",
      "And as we walk, we must make the pledge that we shall always march ahead.\n",
      "\n",
      "We cannot turn back.\n",
      "\n",
      "There are those who are asking the devotees of civil rights, \"When will you be satisfied?\" We can never be satisfied as long as the Negro is the victim of the unspeakable horrors of police brutality. We can never be satisfied as long as our bodies, heavy with the fatigue of travel, cannot gain lodging in the motels of the highways and the hotels of the cities. We cannot be satisfied as long as the negro's basic mobility is from a smaller ghetto to a larger one. We can never be satisfied as long as our children are stripped of their self-hood and robbed of their dignity by signs stating: \"For Whites Only.\" We cannot be satisfied as long as a Negro in Mississippi cannot vote and a Negro in New York believes he has nothing for which to vote. No, no, we are not satisfied, and we will not be satisfied until \"justice rolls down like waters, and righteousness like a mighty stream.\"쨔\n",
      "\n",
      "I am not unmindful that some of you have come here out of great trials and tribulations. Some of you have come fresh from narrow jail cells. And some of you have come from areas where your quest -- quest for freedom left you battered by the storms of persecution and staggered by the winds of police brutality. You have been the veterans of creative suffering. Continue to work with the faith that unearned suffering is redemptive. Go back to Mississippi, go back to Alabama, go back to South Carolina, go back to Georgia, go back to Louisiana, go back to the slums and ghettos of our northern cities, knowing that somehow this situation can and will be changed.\n",
      "\n",
      "Let us not wallow in the valley of despair, I say to you today, my friends.\n",
      "\n",
      "And so even though we face the difficulties of today and tomorrow, I still have a dream. It is a dream deeply rooted in the American dream.\n",
      "\n",
      "I have a dream that one day this nation will rise up and live out the true meaning of its creed: \"We hold these truths to be self-evident, that all men are created equal.\"\n",
      "\n",
      "I have a dream that one day on the red hills of Georgia, the sons of former slaves and the sons of former slave owners will be able to sit down together at the table of brotherhood.\n",
      "\n",
      "I have a dream that one day even the state of Mississippi, a state sweltering with the heat of injustice, sweltering with the heat of oppression, will be transformed into an oasis of freedom and justice.\n",
      "\n",
      "I have a dream that my four little children will one day live in a nation where they will not be judged by the color of their skin but by the content of their character.\n",
      "\n",
      "I have a dream today!\n",
      "\n",
      "I have a dream that one day, down in Alabama, with its vicious racists, with its governor having his lips dripping with the words of \"interposition\" and \"nullification\" -- one day right there in Alabama little black boys and black girls will be able to join hands with little white boys and white girls as sisters and brothers.\n",
      "\n",
      "I have a dream today!\n",
      "\n",
      "I have a dream that one day every valley shall be exalted, and every hill and mountain shall be made low, the rough places will be made plain, and the crooked places will be made straight; \"and the glory of the Lord shall be revealed and all flesh shall see it together.\"2\n",
      "\n",
      "This is our hope, and this is the faith that I go back to the South with.\n",
      "\n",
      "With this faith, we will be able to hew out of the mountain of despair a stone of hope. With this faith, we will be able to transform the jangling discords of our nation into a beautiful symphony of brotherhood. With this faith, we will be able to work together, to pray together, to struggle together, to go to jail together, to stand up for freedom together, knowing that we will be free one day.\n",
      "\n",
      "And this will be the day -- this will be the day when all of God's children will be able to sing with new meaning:\n",
      "\n",
      "My country 'tis of thee, sweet land of liberty, of thee I sing.\n",
      "\n",
      "Land where my fathers died, land of the Pilgrim's pride,\n",
      "\n",
      "From every mountainside, let freedom ring!\n",
      "\n",
      "And if America is to be a great nation, this must become true.\n",
      "\n",
      "And so let freedom ring from the prodigious hilltops of New Hampshire.\n",
      "\n",
      "Let freedom ring from the mighty mountains of New York.\n",
      "\n",
      "Let freedom ring from the heightening Alleghenies of Pennsylvania.\n",
      "\n",
      "Let freedom ring from the snow-capped Rockies of Colorado.\n",
      "\n",
      "Let freedom ring from the curvaceous slopes of California.\n",
      "\n",
      "But not only that:\n",
      "\n",
      "Let freedom ring from Stone Mountain of Georgia.\n",
      "\n",
      "Let freedom ring from Lookout Mountain of Tennessee.\n",
      "\n",
      "Let freedom ring from every hill and molehill of Mississippi.\n",
      "\n",
      "From every mountainside, let freedom ring.\n",
      "\n",
      "And when this happens, and when we allow freedom ring, when we let it ring from every village and every hamlet, from every state and every city, we will be able to speed up that day when all of God's children, black men and white men, Jews and Gentiles, Protestants and Catholics, will be able to join hands and sing in the words of the old Negro spiritual:\n",
      "\n",
      "                Free at last! Free at last!\n",
      "\n",
      "                Thank God Almighty, we are free at last!\n"
     ]
    }
   ],
   "source": [
    "f = open(\"i_have_a_dream.txt\", \"r\")\n",
    "contents = f.read()\n",
    "print(contents)\n",
    "f.close()"
   ]
  },
  {
   "cell_type": "code",
   "execution_count": 14,
   "metadata": {},
   "outputs": [
    {
     "name": "stdout",
     "output_type": "stream",
     "text": [
      "<class 'str'> I am happy to join with you today in what will go down in history as the greatest demonstration for freedom in the history of our nation.\n",
      "\n",
      "Five score years ago, a great American, in whose symbolic shadow we stand today, signed the Emancipation Proclamation. This momentous decree came as a great beacon light of hope to millions of Negro slaves who had been seared in the flames of withering injustice. It came as a joyous daybreak to end the long night of their captivity.\n",
      "\n",
      "But one hundred years later, the Negro still is not free. One hundred years later, the life of the Negro is still sadly crippled by the manacles of segregation and the chains of discrimination. One hundred years later, the Negro lives on a lonely island of poverty in the midst of a vast ocean of material prosperity. One hundred years later, the Negro is still languished in the corners of American society and finds himself an exile in his own land. And so we've come here today to dramatize a shameful condition.\n",
      "\n",
      "In a sense we've come to our nation's capital to cash a check. When the architects of our republic wrote the magnificent words of the Constitution and the Declaration of Independence, they were signing a promissory note to which every American was to fall heir. This note was a promise that all men, yes, black men as well as white men, would be guaranteed the \"unalienable Rights\" of \"Life, Liberty and the pursuit of Happiness.\" It is obvious today that America has defaulted on this promissory note, insofar as her citizens of color are concerned. Instead of honoring this sacred obligation, America has given the Negro people a bad check, a check which has come back marked \"insufficient funds.\"\n",
      "\n",
      "But we refuse to believe that the bank of justice is bankrupt. We refuse to believe that there are insufficient funds in the great vaults of opportunity of this nation. And so, we've come to cash this check, a check that will give us upon demand the riches of freedom and the security of justice.\n",
      "\n",
      "We have also come to this hallowed spot to remind America of the fierce urgency of Now. This is no time to engage in the luxury of cooling off or to take the tranquilizing drug of gradualism. Now is the time to make real the promises of democracy. Now is the time to rise from the dark and desolate valley of segregation to the sunlit path of racial justice. Now is the time to lift our nation from the quicksands of racial injustice to the solid rock of brotherhood. Now is the time to make justice a reality for all of God's children.\n",
      "\n",
      "It would be fatal for the nation to overlook the urgency of the moment. This sweltering summer of the Negro's legitimate discontent will not pass until there is an invigorating autumn of freedom and equality. Nineteen sixty-three is not an end, but a beginning. And those who hope that the Negro needed to blow off steam and will now be content will have a rude awakening if the nation returns to business as usual. And there will be neither rest nor tranquility in America until the Negro is granted his citizenship rights. The whirlwinds of revolt will continue to shake the foundations of our nation until the bright day of justice emerges.\n",
      "\n",
      "But there is something that I must say to my people, who stand on the warm threshold which leads into the palace of justice: In the process of gaining our rightful place, we must not be guilty of wrongful deeds. Let us not seek to satisfy our thirst for freedom by drinking from the cup of bitterness and hatred. We must forever conduct our struggle on the high plane of dignity and discipline. We must not allow our creative protest to degenerate into physical violence. Again and again, we must rise to the majestic heights of meeting physical force with soul force.\n",
      "\n",
      "The marvelous new militancy which has engulfed the Negro community must not lead us to a distrust of all white people, for many of our white brothers, as evidenced by their presence here today, have come to realize that their destiny is tied up with our destiny. And they have come to realize that their freedom is inextricably bound to our freedom.\n",
      "\n",
      "We cannot walk alone.\n",
      "\n",
      "And as we walk, we must make the pledge that we shall always march ahead.\n",
      "\n",
      "We cannot turn back.\n",
      "\n",
      "There are those who are asking the devotees of civil rights, \"When will you be satisfied?\" We can never be satisfied as long as the Negro is the victim of the unspeakable horrors of police brutality. We can never be satisfied as long as our bodies, heavy with the fatigue of travel, cannot gain lodging in the motels of the highways and the hotels of the cities. We cannot be satisfied as long as the negro's basic mobility is from a smaller ghetto to a larger one. We can never be satisfied as long as our children are stripped of their self-hood and robbed of their dignity by signs stating: \"For Whites Only.\" We cannot be satisfied as long as a Negro in Mississippi cannot vote and a Negro in New York believes he has nothing for which to vote. No, no, we are not satisfied, and we will not be satisfied until \"justice rolls down like waters, and righteousness like a mighty stream.\"쨔\n",
      "\n",
      "I am not unmindful that some of you have come here out of great trials and tribulations. Some of you have come fresh from narrow jail cells. And some of you have come from areas where your quest -- quest for freedom left you battered by the storms of persecution and staggered by the winds of police brutality. You have been the veterans of creative suffering. Continue to work with the faith that unearned suffering is redemptive. Go back to Mississippi, go back to Alabama, go back to South Carolina, go back to Georgia, go back to Louisiana, go back to the slums and ghettos of our northern cities, knowing that somehow this situation can and will be changed.\n",
      "\n",
      "Let us not wallow in the valley of despair, I say to you today, my friends.\n",
      "\n",
      "And so even though we face the difficulties of today and tomorrow, I still have a dream. It is a dream deeply rooted in the American dream.\n",
      "\n",
      "I have a dream that one day this nation will rise up and live out the true meaning of its creed: \"We hold these truths to be self-evident, that all men are created equal.\"\n",
      "\n",
      "I have a dream that one day on the red hills of Georgia, the sons of former slaves and the sons of former slave owners will be able to sit down together at the table of brotherhood.\n",
      "\n",
      "I have a dream that one day even the state of Mississippi, a state sweltering with the heat of injustice, sweltering with the heat of oppression, will be transformed into an oasis of freedom and justice.\n",
      "\n",
      "I have a dream that my four little children will one day live in a nation where they will not be judged by the color of their skin but by the content of their character.\n",
      "\n",
      "I have a dream today!\n",
      "\n",
      "I have a dream that one day, down in Alabama, with its vicious racists, with its governor having his lips dripping with the words of \"interposition\" and \"nullification\" -- one day right there in Alabama little black boys and black girls will be able to join hands with little white boys and white girls as sisters and brothers.\n",
      "\n",
      "I have a dream today!\n",
      "\n",
      "I have a dream that one day every valley shall be exalted, and every hill and mountain shall be made low, the rough places will be made plain, and the crooked places will be made straight; \"and the glory of the Lord shall be revealed and all flesh shall see it together.\"2\n",
      "\n",
      "This is our hope, and this is the faith that I go back to the South with.\n",
      "\n",
      "With this faith, we will be able to hew out of the mountain of despair a stone of hope. With this faith, we will be able to transform the jangling discords of our nation into a beautiful symphony of brotherhood. With this faith, we will be able to work together, to pray together, to struggle together, to go to jail together, to stand up for freedom together, knowing that we will be free one day.\n",
      "\n",
      "And this will be the day -- this will be the day when all of God's children will be able to sing with new meaning:\n",
      "\n",
      "My country 'tis of thee, sweet land of liberty, of thee I sing.\n",
      "\n",
      "Land where my fathers died, land of the Pilgrim's pride,\n",
      "\n",
      "From every mountainside, let freedom ring!\n",
      "\n",
      "And if America is to be a great nation, this must become true.\n",
      "\n",
      "And so let freedom ring from the prodigious hilltops of New Hampshire.\n",
      "\n",
      "Let freedom ring from the mighty mountains of New York.\n",
      "\n",
      "Let freedom ring from the heightening Alleghenies of Pennsylvania.\n",
      "\n",
      "Let freedom ring from the snow-capped Rockies of Colorado.\n",
      "\n",
      "Let freedom ring from the curvaceous slopes of California.\n",
      "\n",
      "But not only that:\n",
      "\n",
      "Let freedom ring from Stone Mountain of Georgia.\n",
      "\n",
      "Let freedom ring from Lookout Mountain of Tennessee.\n",
      "\n",
      "Let freedom ring from every hill and molehill of Mississippi.\n",
      "\n",
      "From every mountainside, let freedom ring.\n",
      "\n",
      "And when this happens, and when we allow freedom ring, when we let it ring from every village and every hamlet, from every state and every city, we will be able to speed up that day when all of God's children, black men and white men, Jews and Gentiles, Protestants and Catholics, will be able to join hands and sing in the words of the old Negro spiritual:\n",
      "\n",
      "                Free at last! Free at last!\n",
      "\n",
      "                Thank God Almighty, we are free at last!\n"
     ]
    }
   ],
   "source": [
    "with open(\"i_have_a_dream.txt\", \"r\") as f:\n",
    "    contents = f.read()\n",
    "    print(type(contents), contents)"
   ]
  },
  {
   "cell_type": "code",
   "execution_count": 16,
   "metadata": {},
   "outputs": [
    {
     "data": {
      "text/plain": [
       "'I am happy to join with you today in what will go down in history as the greatest demonstration for freedom in the history of our nation.\\n'"
      ]
     },
     "execution_count": 16,
     "metadata": {},
     "output_type": "execute_result"
    }
   ],
   "source": [
    "with open(\"i_have_a_dream.txt\", \"r\") as f:\n",
    "    content_list = f.readlines()\n",
    "content_list[0]"
   ]
  },
  {
   "cell_type": "code",
   "execution_count": 19,
   "metadata": {},
   "outputs": [
    {
     "name": "stdout",
     "output_type": "stream",
     "text": [
      "0===I am happy to join with you today in what will go down in history as the greatest demonstration for freedom in the history of our nation.\n",
      "1===\n",
      "2===Five score years ago, a great American, in whose symbolic shadow we stand today, signed the Emancipation Proclamation. This momentous decree came as a great beacon light of hope to millions of Negro slaves who had been seared in the flames of withering injustice. It came as a joyous daybreak to end the long night of their captivity.\n",
      "3===\n",
      "4===But one hundred years later, the Negro still is not free. One hundred years later, the life of the Negro is still sadly crippled by the manacles of segregation and the chains of discrimination. One hundred years later, the Negro lives on a lonely island of poverty in the midst of a vast ocean of material prosperity. One hundred years later, the Negro is still languished in the corners of American society and finds himself an exile in his own land. And so we've come here today to dramatize a shameful condition.\n"
     ]
    }
   ],
   "source": [
    "with open(\"i_have_a_dream.txt\", \"r\") as f:\n",
    "    i = 0\n",
    "    while True:\n",
    "        line = f.readline()\n",
    "        if i == 5:\n",
    "            break\n",
    "        print(str(i) + \"===\" + line.replace(\"\\n\", \"\"))\n",
    "        i  += 1"
   ]
  },
  {
   "cell_type": "code",
   "execution_count": 21,
   "metadata": {},
   "outputs": [
    {
     "name": "stdout",
     "output_type": "stream",
     "text": [
      "Total Number of Characters : 9198\n",
      "Total Number of Words : 1656\n",
      "Total Number of Lines : 87\n"
     ]
    }
   ],
   "source": [
    "with open(\"i_have_a_dream.txt\", \"r\") as f:\n",
    "    contents = f.read()\n",
    "    word_list = contents.split(\" \")\n",
    "    line_list = contents.split(\"\\n\")\n",
    "\n",
    "print(\"Total Number of Characters :\", len(contents))\n",
    "print(\"Total Number of Words :\", len(word_list))\n",
    "print(\"Total Number of Lines :\", len(line_list))"
   ]
  },
  {
   "cell_type": "code",
   "execution_count": 22,
   "metadata": {},
   "outputs": [],
   "source": [
    "f = open(\"count_log.txt\", mode=\"w\", encoding=\"utf8\") # w : write\n",
    "for i in range(1, 11):\n",
    "    data = \"{0}번째 줄입니다.\\n\".format(i)\n",
    "    f.write(data)\n",
    "f.close()"
   ]
  },
  {
   "cell_type": "code",
   "execution_count": 23,
   "metadata": {},
   "outputs": [],
   "source": [
    "with open(\"count_log.txt\", mode=\"a\", encoding=\"utf8\") as f: # a : append (덮어쓰기 됨)\n",
    "    for i in range(11, 21):\n",
    "        data = \"{0}번째 줄입니다.\\n\".format(i)\n",
    "        f.write(data)"
   ]
  },
  {
   "cell_type": "code",
   "execution_count": 24,
   "metadata": {},
   "outputs": [],
   "source": [
    "import os\n",
    "os.mkdir(\"log\")"
   ]
  },
  {
   "cell_type": "code",
   "execution_count": 26,
   "metadata": {},
   "outputs": [
    {
     "name": "stdout",
     "output_type": "stream",
     "text": [
      "Already created\n"
     ]
    }
   ],
   "source": [
    "try:\n",
    "    os.mkdir(\"abc\")\n",
    "except FileExistsError as e:\n",
    "    print(\"Already created\")"
   ]
  },
  {
   "cell_type": "code",
   "execution_count": 27,
   "metadata": {},
   "outputs": [
    {
     "data": {
      "text/plain": [
       "True"
      ]
     },
     "execution_count": 27,
     "metadata": {},
     "output_type": "execute_result"
    }
   ],
   "source": [
    "os.path.exists(\"abc\")"
   ]
  },
  {
   "cell_type": "code",
   "execution_count": 28,
   "metadata": {},
   "outputs": [
    {
     "data": {
      "text/plain": [
       "True"
      ]
     },
     "execution_count": 28,
     "metadata": {},
     "output_type": "execute_result"
    }
   ],
   "source": [
    "os.path.isfile(\"count_log.txt\")"
   ]
  },
  {
   "cell_type": "code",
   "execution_count": 30,
   "metadata": {},
   "outputs": [
    {
     "data": {
      "text/plain": [
       "'abc\\\\copy.txt'"
      ]
     },
     "execution_count": 30,
     "metadata": {},
     "output_type": "execute_result"
    }
   ],
   "source": [
    "import shutil\n",
    "\n",
    "source = \"i_have_a_dream.txt\"\n",
    "dest = os.path.join(\"abc\", \"copy.txt\")\n",
    "shutil.copy(source, dest)"
   ]
  },
  {
   "cell_type": "code",
   "execution_count": 33,
   "metadata": {},
   "outputs": [
    {
     "data": {
      "text/plain": [
       "WindowsPath('C:/Users/kamme/Boostcamp AI Tech/Week 1/Day 5')"
      ]
     },
     "execution_count": 33,
     "metadata": {},
     "output_type": "execute_result"
    }
   ],
   "source": [
    "import pathlib\n",
    "cwd = pathlib.Path.cwd()\n",
    "cwd"
   ]
  },
  {
   "cell_type": "code",
   "execution_count": 34,
   "metadata": {},
   "outputs": [
    {
     "data": {
      "text/plain": [
       "WindowsPath('C:/Users/kamme/Boostcamp AI Tech/Week 1')"
      ]
     },
     "execution_count": 34,
     "metadata": {},
     "output_type": "execute_result"
    }
   ],
   "source": [
    "cwd.parent"
   ]
  },
  {
   "cell_type": "code",
   "execution_count": 35,
   "metadata": {},
   "outputs": [
    {
     "data": {
      "text/plain": [
       "WindowsPath('C:/Users/kamme/Boostcamp AI Tech')"
      ]
     },
     "execution_count": 35,
     "metadata": {},
     "output_type": "execute_result"
    }
   ],
   "source": [
    "cwd.parent.parent"
   ]
  },
  {
   "cell_type": "code",
   "execution_count": 36,
   "metadata": {},
   "outputs": [
    {
     "data": {
      "text/plain": [
       "[WindowsPath('C:/Users/kamme/Boostcamp AI Tech/Week 1'),\n",
       " WindowsPath('C:/Users/kamme/Boostcamp AI Tech'),\n",
       " WindowsPath('C:/Users/kamme'),\n",
       " WindowsPath('C:/Users'),\n",
       " WindowsPath('C:/')]"
      ]
     },
     "execution_count": 36,
     "metadata": {},
     "output_type": "execute_result"
    }
   ],
   "source": [
    "list(cwd.parents)"
   ]
  },
  {
   "cell_type": "code",
   "execution_count": 37,
   "metadata": {},
   "outputs": [
    {
     "data": {
      "text/plain": [
       "[WindowsPath('C:/Users/kamme/Boostcamp AI Tech/Week 1/Day 5/.ipynb_checkpoints'),\n",
       " WindowsPath('C:/Users/kamme/Boostcamp AI Tech/Week 1/Day 5/abc'),\n",
       " WindowsPath('C:/Users/kamme/Boostcamp AI Tech/Week 1/Day 5/count_log.txt'),\n",
       " WindowsPath('C:/Users/kamme/Boostcamp AI Tech/Week 1/Day 5/i_have_a_dream.txt'),\n",
       " WindowsPath('C:/Users/kamme/Boostcamp AI Tech/Week 1/Day 5/log'),\n",
       " WindowsPath('C:/Users/kamme/Boostcamp AI Tech/Week 1/Day 5/[Day 5] 파이썬으로 데이터 다루기.ipynb')]"
      ]
     },
     "execution_count": 37,
     "metadata": {},
     "output_type": "execute_result"
    }
   ],
   "source": [
    "list(cwd.glob(\"*\"))"
   ]
  },
  {
   "cell_type": "code",
   "execution_count": 38,
   "metadata": {},
   "outputs": [],
   "source": [
    "import os\n",
    "if not os.path.isdir(\"log\"):\n",
    "    os.mkdir(\"log\")\n",
    "if not os.path.exists(\"log/count_log.txt\"):\n",
    "    f = open(\"log/count_log.txt\", 'w', encoding=\"utf8\")\n",
    "    f.write(\"기록이 시작됩니다\\n\")\n",
    "    f.close()\n",
    "\n",
    "with open(\"log/count_log.txt\", 'a', encoding=\"utf8\") as f:\n",
    "    import random, datetime\n",
    "    for i in range(1, 11):\n",
    "        stamp = str(datetime.datetime.now())\n",
    "        value = random.random() * 1000000\n",
    "        log_line = stamp + \"\\t\" + str(value) +\"값이 생성되었습니다\"\n",
    "        f.write(log_line)"
   ]
  },
  {
   "cell_type": "markdown",
   "metadata": {},
   "source": [
    "### pickle\n",
    "- 파이썬의 객체를 영속화(persistence)하는 built-in 객체\n",
    "- 데이터, object 등 실행 중 정보를 저장 -> 불러와서 사용\n",
    "- 저장해야하는 정보, 계산 결과(모델) 등 활용이 많음"
   ]
  },
  {
   "cell_type": "code",
   "execution_count": 39,
   "metadata": {},
   "outputs": [],
   "source": [
    "import pickle\n",
    "\n",
    "f = open(\"list.pickle\", \"wb\") # wb : write binary\n",
    "test = [1, 2, 3, 4, 5]\n",
    "pickle.dump(test, f)\n",
    "f.close()"
   ]
  },
  {
   "cell_type": "code",
   "execution_count": 40,
   "metadata": {},
   "outputs": [],
   "source": [
    "del test"
   ]
  },
  {
   "cell_type": "code",
   "execution_count": 41,
   "metadata": {},
   "outputs": [
    {
     "data": {
      "text/plain": [
       "[1, 2, 3, 4, 5]"
      ]
     },
     "execution_count": 41,
     "metadata": {},
     "output_type": "execute_result"
    }
   ],
   "source": [
    "f = open(\"list.pickle\", \"rb\") \n",
    "test_pickle = pickle.load(f)\n",
    "f.close()\n",
    "test_pickle"
   ]
  },
  {
   "cell_type": "code",
   "execution_count": 42,
   "metadata": {},
   "outputs": [],
   "source": [
    "class Multiply(object):\n",
    "    def __init__(self, multiplier):\n",
    "        self.multiplier = multiplier\n",
    "    \n",
    "    def multiply(self, number):\n",
    "        return number * self.multiplier"
   ]
  },
  {
   "cell_type": "code",
   "execution_count": 43,
   "metadata": {},
   "outputs": [
    {
     "data": {
      "text/plain": [
       "500"
      ]
     },
     "execution_count": 43,
     "metadata": {},
     "output_type": "execute_result"
    }
   ],
   "source": [
    "mul = Multiply(5)\n",
    "mul.multiply(100)"
   ]
  },
  {
   "cell_type": "code",
   "execution_count": 44,
   "metadata": {},
   "outputs": [],
   "source": [
    "f = open(\"multiply_object.pickle\", \"wb\")\n",
    "pickle.dump(mul, f)\n",
    "f.close()"
   ]
  },
  {
   "cell_type": "code",
   "execution_count": 45,
   "metadata": {},
   "outputs": [],
   "source": [
    "del mul"
   ]
  },
  {
   "cell_type": "code",
   "execution_count": 46,
   "metadata": {},
   "outputs": [],
   "source": [
    "f = open(\"multiply_object.pickle\", \"rb\")\n",
    "multiply_pickle = pickle.load(f)"
   ]
  },
  {
   "cell_type": "code",
   "execution_count": 47,
   "metadata": {},
   "outputs": [
    {
     "data": {
      "text/plain": [
       "<__main__.Multiply at 0x2652a812f70>"
      ]
     },
     "execution_count": 47,
     "metadata": {},
     "output_type": "execute_result"
    }
   ],
   "source": [
    "multiply_pickle"
   ]
  },
  {
   "cell_type": "code",
   "execution_count": 48,
   "metadata": {},
   "outputs": [
    {
     "data": {
      "text/plain": [
       "500"
      ]
     },
     "execution_count": 48,
     "metadata": {},
     "output_type": "execute_result"
    }
   ],
   "source": [
    "multiply_pickle.multiply(100)"
   ]
  },
  {
   "cell_type": "code",
   "execution_count": 1,
   "metadata": {},
   "outputs": [
    {
     "name": "stdout",
     "output_type": "stream",
     "text": [
      "Hi\n"
     ]
    }
   ],
   "source": [
    "print(\"Hi\")"
   ]
  },
  {
   "cell_type": "code",
   "execution_count": null,
   "metadata": {},
   "outputs": [],
   "source": []
  }
 ],
 "metadata": {
  "kernelspec": {
   "display_name": "Python 3",
   "language": "python",
   "name": "python3"
  },
  "language_info": {
   "codemirror_mode": {
    "name": "ipython",
    "version": 3
   },
   "file_extension": ".py",
   "mimetype": "text/x-python",
   "name": "python",
   "nbconvert_exporter": "python",
   "pygments_lexer": "ipython3",
   "version": "3.8.5"
  }
 },
 "nbformat": 4,
 "nbformat_minor": 4
}
