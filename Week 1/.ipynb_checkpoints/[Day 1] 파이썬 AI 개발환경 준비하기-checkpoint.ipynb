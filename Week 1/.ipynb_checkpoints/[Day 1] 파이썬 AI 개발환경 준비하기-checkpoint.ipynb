{
 "cells": [
  {
   "cell_type": "markdown",
   "metadata": {},
   "source": [
    "# Day 1"
   ]
  },
  {
   "cell_type": "markdown",
   "metadata": {},
   "source": [
    "> [Python] Hidden class - Basic computer class for newbies"
   ]
  },
  {
   "cell_type": "markdown",
   "metadata": {},
   "source": [
    "### OS(Operating System), 운영체제\n",
    "- 프로그램이 동작할 수 있는 구동 환경이다.\n",
    "- 프로그램은 OS에 의존적이기 때문에 OS에 맞춰서 프로그램 개발을 해야한다."
   ]
  },
  {
   "cell_type": "markdown",
   "metadata": {},
   "source": [
    "### File system, 파일 시스템\n",
    "- OS에서 파일을 저장하는 트리구조 저장 체계\n",
    "- 파일의 기본 체계 - 파일 vs 디렉토리\n",
    "    - 디렉토리(Directory) : 폴더라고도 불리며 파일과 다른 디렉토리를 포함할 수 있다.\n",
    "    - 파일(File) : 컴퓨터에서 정보를 저장하는 논리적인 단위이고 파일은 파일명과 확장자로 식별된다.\n",
    "- 파일 시스템은 root 디렉토리로부터 시작하는 트리구조로 되어있다.\n",
    "\n",
    "- 경로 : 컴퓨터 파일의 고유한 위치, 트리구조상 노드의 연결\n",
    "    - 절대 경로 : 루트 디렉토리부터 파일 위치까지의 경로\n",
    "        - ex) C:\\user\\docs\\somfile.exe\n",
    "    - 상대 경로 : 현재 있는 디렉토리부터 타깃 파일까지의 경로\n",
    "        - ex) ../../somfile.exe"
   ]
  },
  {
   "cell_type": "markdown",
   "metadata": {},
   "source": [
    "### Terminal, 터미널\n",
    "- Graphic User Interface (GUI)와 달리 text를 사용하여 컴퓨터에 명령을 입력하는 인터페이스 체계\n",
    "    - Windows - CMD window, Windows Terminal\n",
    "        - 윈도우 cmder (https://cmder.net/)\n",
    "    - Mac, Linux - Terminal"
   ]
  },
  {
   "cell_type": "markdown",
   "metadata": {},
   "source": [
    "> [Python] Python Overview"
   ]
  },
  {
   "cell_type": "markdown",
   "metadata": {},
   "source": [
    "### Python의 특징\n",
    "- 플랫폼 독립적 : 운영체제(플랫폼) 상관 없이 프로그램을 작성하면 사용 가능\n",
    "- 인터프리터 언어 : 소스코드를 바로 실행할 수 있게 지원하는 프로그램 실행 방법\n",
    "- 객체 지향 : 실행 순서가 아닌 단위 모듈(객체) 중심으로 프로그램을 작성\n",
    "- 동적 타이핑 언어 : 프로그램이 실행하는 시점에 프로그램이 사용해야할 데이터에 대한 타입을 결정함"
   ]
  },
  {
   "cell_type": "markdown",
   "metadata": {},
   "source": [
    "#### 파이썬은 쉽고 간단하며 다양하다.\n",
    "- 이해하기 쉬운 문법\n",
    "- 다양한 라이브러리 (특히 통계, 데이터 분석)\n",
    "- 이미 널리 쓰이는, 어디에든 쓸 수 있는 언어\n",
    "\n",
    "#### *Life is short. You need Python.*"
   ]
  },
  {
   "cell_type": "markdown",
   "metadata": {},
   "source": [
    "> [Python] Python Coding Environment"
   ]
  },
  {
   "cell_type": "markdown",
   "metadata": {},
   "source": [
    "### 개발 환경 설정\n",
    "1. 운영체제 (Operating System, OS)\n",
    "    - ex) Windows, Linux, Mac OS\n",
    "2. Python Interpreter\n",
    "    - Python vs Anaconda\n",
    "3. 코드 편집기 (Editor)\n",
    "    - 1) 설치된 어플리케이션\n",
    "        - ex) PyCharm, VS Code\n",
    "    - 2) 웹 기반 인터랙티브 편집기\n",
    "        - ex) Jupyter, Colab"
   ]
  },
  {
   "cell_type": "markdown",
   "metadata": {},
   "source": [
    "### Jupyter\n",
    "- IPython 커널을 기반으로 한 대화형 파이썬 셸\n",
    "- 일반적인 터미널 셸 + 웹 기반 데이터 분석 notebook 제공\n",
    "- 미디어, 텍스트, 코드, 수식 등을 하나의 문서로 표현 가능"
   ]
  },
  {
   "cell_type": "markdown",
   "metadata": {},
   "source": [
    "### Colab\n",
    "- 구글이 개발한 클라우드 기반의 jupyter notebook\n",
    "- 구글 드라이브 + GCP + jupyter 등이 합쳐져서 사용자가 손쉽게 접근\n",
    "- 초반 여러가지 모듈 설치의 장점을 가짐"
   ]
  }
 ],
 "metadata": {
  "kernelspec": {
   "display_name": "Python 3",
   "language": "python",
   "name": "python3"
  },
  "language_info": {
   "codemirror_mode": {
    "name": "ipython",
    "version": 3
   },
   "file_extension": ".py",
   "mimetype": "text/x-python",
   "name": "python",
   "nbconvert_exporter": "python",
   "pygments_lexer": "ipython3",
   "version": "3.8.5"
  }
 },
 "nbformat": 4,
 "nbformat_minor": 4
}
