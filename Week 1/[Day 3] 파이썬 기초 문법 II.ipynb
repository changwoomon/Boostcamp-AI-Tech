{
 "cells": [
  {
   "cell_type": "markdown",
   "metadata": {},
   "source": [
    "# Day 3"
   ]
  },
  {
   "cell_type": "markdown",
   "metadata": {},
   "source": [
    "> Python data structure"
   ]
  },
  {
   "cell_type": "markdown",
   "metadata": {},
   "source": [
    "### Stack (스택)\n",
    "- 나중에 넣은 데이터를 먼저 반환하도록 설계된 메모리 구조\n",
    "- Last In First Out (LIFO)\n",
    "- Data의 입력을 Push, 출력을 Pop이라고 함"
   ]
  },
  {
   "cell_type": "markdown",
   "metadata": {},
   "source": [
    "- 리스트를 사용하여 스택 구조를 구현 가능\n",
    "- push를 append(), pop을 pop()를 사용"
   ]
  },
  {
   "cell_type": "code",
   "execution_count": 4,
   "metadata": {},
   "outputs": [
    {
     "data": {
      "text/plain": [
       "[1, 2, 3, 4, 5]"
      ]
     },
     "execution_count": 4,
     "metadata": {},
     "output_type": "execute_result"
    }
   ],
   "source": [
    "a = [1, 2, 3, 4, 5]\n",
    "a"
   ]
  },
  {
   "cell_type": "code",
   "execution_count": 5,
   "metadata": {},
   "outputs": [
    {
     "data": {
      "text/plain": [
       "[1, 2, 3, 4, 5, 10]"
      ]
     },
     "execution_count": 5,
     "metadata": {},
     "output_type": "execute_result"
    }
   ],
   "source": [
    "a.append(10)\n",
    "a"
   ]
  },
  {
   "cell_type": "code",
   "execution_count": 6,
   "metadata": {},
   "outputs": [
    {
     "data": {
      "text/plain": [
       "[1, 2, 3, 4, 5, 10, 20]"
      ]
     },
     "execution_count": 6,
     "metadata": {},
     "output_type": "execute_result"
    }
   ],
   "source": [
    "a.append(20)\n",
    "a"
   ]
  },
  {
   "cell_type": "code",
   "execution_count": 7,
   "metadata": {},
   "outputs": [
    {
     "data": {
      "text/plain": [
       "20"
      ]
     },
     "execution_count": 7,
     "metadata": {},
     "output_type": "execute_result"
    }
   ],
   "source": [
    "a.pop()"
   ]
  },
  {
   "cell_type": "code",
   "execution_count": 8,
   "metadata": {},
   "outputs": [
    {
     "data": {
      "text/plain": [
       "10"
      ]
     },
     "execution_count": 8,
     "metadata": {},
     "output_type": "execute_result"
    }
   ],
   "source": [
    "a.pop()"
   ]
  },
  {
   "cell_type": "code",
   "execution_count": 9,
   "metadata": {},
   "outputs": [
    {
     "data": {
      "text/plain": [
       "[1, 2, 3, 4, 5]"
      ]
     },
     "execution_count": 9,
     "metadata": {},
     "output_type": "execute_result"
    }
   ],
   "source": [
    "a"
   ]
  },
  {
   "cell_type": "code",
   "execution_count": 10,
   "metadata": {},
   "outputs": [
    {
     "name": "stdin",
     "output_type": "stream",
     "text": [
      "Input a word :  Boostcamp AI Tech\n"
     ]
    },
    {
     "name": "stdout",
     "output_type": "stream",
     "text": [
      "['B', 'o', 'o', 's', 't', 'c', 'a', 'm', 'p', ' ', 'A', 'I', ' ', 'T', 'e', 'c', 'h']\n",
      "h\n",
      "['B', 'o', 'o', 's', 't', 'c', 'a', 'm', 'p', ' ', 'A', 'I', ' ', 'T', 'e', 'c']\n",
      "c\n",
      "['B', 'o', 'o', 's', 't', 'c', 'a', 'm', 'p', ' ', 'A', 'I', ' ', 'T', 'e']\n",
      "e\n",
      "['B', 'o', 'o', 's', 't', 'c', 'a', 'm', 'p', ' ', 'A', 'I', ' ', 'T']\n",
      "T\n",
      "['B', 'o', 'o', 's', 't', 'c', 'a', 'm', 'p', ' ', 'A', 'I', ' ']\n",
      " \n",
      "['B', 'o', 'o', 's', 't', 'c', 'a', 'm', 'p', ' ', 'A', 'I']\n",
      "I\n",
      "['B', 'o', 'o', 's', 't', 'c', 'a', 'm', 'p', ' ', 'A']\n",
      "A\n",
      "['B', 'o', 'o', 's', 't', 'c', 'a', 'm', 'p', ' ']\n",
      " \n",
      "['B', 'o', 'o', 's', 't', 'c', 'a', 'm', 'p']\n",
      "p\n",
      "['B', 'o', 'o', 's', 't', 'c', 'a', 'm']\n",
      "m\n",
      "['B', 'o', 'o', 's', 't', 'c', 'a']\n",
      "a\n",
      "['B', 'o', 'o', 's', 't', 'c']\n",
      "c\n",
      "['B', 'o', 'o', 's', 't']\n",
      "t\n",
      "['B', 'o', 'o', 's']\n",
      "s\n",
      "['B', 'o', 'o']\n",
      "o\n",
      "['B', 'o']\n",
      "o\n",
      "['B']\n",
      "B\n",
      "[]\n"
     ]
    }
   ],
   "source": [
    "word = input(\"Input a word : \")\n",
    "word_list = list(word)\n",
    "print(word_list)\n",
    "for _ in range(len(word_list)):\n",
    "    print(word_list.pop())\n",
    "    print(word_list)"
   ]
  },
  {
   "cell_type": "markdown",
   "metadata": {},
   "source": [
    "### Queue (큐)\n",
    "- 먼저 넣은 데이터를 먼저 반환하도록 설계된 메모리 구조\n",
    "- First In First Out (FIFO)\n",
    "- Stack과 반대되는 개념"
   ]
  },
  {
   "cell_type": "markdown",
   "metadata": {},
   "source": [
    "- 파이썬은 리스트를 사용하여 큐 구조를 활용\n",
    "- put을 append(), get을 pop(0)를 사용"
   ]
  },
  {
   "cell_type": "code",
   "execution_count": 15,
   "metadata": {},
   "outputs": [
    {
     "data": {
      "text/plain": [
       "[1, 2, 3, 4, 5]"
      ]
     },
     "execution_count": 15,
     "metadata": {},
     "output_type": "execute_result"
    }
   ],
   "source": [
    "a = [1, 2, 3, 4, 5]\n",
    "a"
   ]
  },
  {
   "cell_type": "code",
   "execution_count": 16,
   "metadata": {},
   "outputs": [
    {
     "data": {
      "text/plain": [
       "[1, 2, 3, 4, 5, 10]"
      ]
     },
     "execution_count": 16,
     "metadata": {},
     "output_type": "execute_result"
    }
   ],
   "source": [
    "a.append(10)\n",
    "a"
   ]
  },
  {
   "cell_type": "code",
   "execution_count": 17,
   "metadata": {},
   "outputs": [
    {
     "data": {
      "text/plain": [
       "[1, 2, 3, 4, 5, 10, 20]"
      ]
     },
     "execution_count": 17,
     "metadata": {},
     "output_type": "execute_result"
    }
   ],
   "source": [
    "a.append(20)\n",
    "a"
   ]
  },
  {
   "cell_type": "code",
   "execution_count": 18,
   "metadata": {},
   "outputs": [
    {
     "data": {
      "text/plain": [
       "[2, 3, 4, 5, 10, 20]"
      ]
     },
     "execution_count": 18,
     "metadata": {},
     "output_type": "execute_result"
    }
   ],
   "source": [
    "first = a.pop(0)\n",
    "a"
   ]
  },
  {
   "cell_type": "code",
   "execution_count": 19,
   "metadata": {},
   "outputs": [
    {
     "data": {
      "text/plain": [
       "1"
      ]
     },
     "execution_count": 19,
     "metadata": {},
     "output_type": "execute_result"
    }
   ],
   "source": [
    "first"
   ]
  },
  {
   "cell_type": "code",
   "execution_count": 20,
   "metadata": {},
   "outputs": [
    {
     "data": {
      "text/plain": [
       "2"
      ]
     },
     "execution_count": 20,
     "metadata": {},
     "output_type": "execute_result"
    }
   ],
   "source": [
    "a.pop(0)"
   ]
  },
  {
   "cell_type": "code",
   "execution_count": 21,
   "metadata": {},
   "outputs": [
    {
     "data": {
      "text/plain": [
       "3"
      ]
     },
     "execution_count": 21,
     "metadata": {},
     "output_type": "execute_result"
    }
   ],
   "source": [
    "a.pop(0)"
   ]
  },
  {
   "cell_type": "code",
   "execution_count": 22,
   "metadata": {},
   "outputs": [
    {
     "data": {
      "text/plain": [
       "[4, 5, 10, 20]"
      ]
     },
     "execution_count": 22,
     "metadata": {},
     "output_type": "execute_result"
    }
   ],
   "source": [
    "a"
   ]
  },
  {
   "cell_type": "markdown",
   "metadata": {},
   "source": [
    "### Tuple (튜플)\n",
    "- 리스트와 동일하나 값의 변경이 불가능한 리스트\n",
    "- 선언 시 \"[ ]\"가 아닌 \"( )\"를 사용\n",
    "- 리스트의 연산, 인덱싱, 슬라이싱 등을 동일하게 사용"
   ]
  },
  {
   "cell_type": "code",
   "execution_count": 23,
   "metadata": {},
   "outputs": [
    {
     "data": {
      "text/plain": [
       "tuple"
      ]
     },
     "execution_count": 23,
     "metadata": {},
     "output_type": "execute_result"
    }
   ],
   "source": [
    "t = (1, 2, 3)\n",
    "type(t)"
   ]
  },
  {
   "cell_type": "code",
   "execution_count": 24,
   "metadata": {},
   "outputs": [
    {
     "data": {
      "text/plain": [
       "(1, 2, 3, 1, 2, 3)"
      ]
     },
     "execution_count": 24,
     "metadata": {},
     "output_type": "execute_result"
    }
   ],
   "source": [
    "t + t"
   ]
  },
  {
   "cell_type": "code",
   "execution_count": 25,
   "metadata": {},
   "outputs": [
    {
     "data": {
      "text/plain": [
       "(1, 2, 3, 1, 2, 3)"
      ]
     },
     "execution_count": 25,
     "metadata": {},
     "output_type": "execute_result"
    }
   ],
   "source": [
    "t * 2"
   ]
  },
  {
   "cell_type": "code",
   "execution_count": 26,
   "metadata": {},
   "outputs": [
    {
     "data": {
      "text/plain": [
       "(1, 2, 3)"
      ]
     },
     "execution_count": 26,
     "metadata": {},
     "output_type": "execute_result"
    }
   ],
   "source": [
    "t"
   ]
  },
  {
   "cell_type": "code",
   "execution_count": 27,
   "metadata": {},
   "outputs": [
    {
     "data": {
      "text/plain": [
       "3"
      ]
     },
     "execution_count": 27,
     "metadata": {},
     "output_type": "execute_result"
    }
   ],
   "source": [
    "len(t)"
   ]
  },
  {
   "cell_type": "code",
   "execution_count": 28,
   "metadata": {},
   "outputs": [
    {
     "ename": "TypeError",
     "evalue": "'tuple' object does not support item assignment",
     "output_type": "error",
     "traceback": [
      "\u001b[1;31m---------------------------------------------------------------------------\u001b[0m",
      "\u001b[1;31mTypeError\u001b[0m                                 Traceback (most recent call last)",
      "\u001b[1;32m<ipython-input-28-4a20afb8c163>\u001b[0m in \u001b[0;36m<module>\u001b[1;34m\u001b[0m\n\u001b[1;32m----> 1\u001b[1;33m \u001b[0mt\u001b[0m\u001b[1;33m[\u001b[0m\u001b[1;36m1\u001b[0m\u001b[1;33m]\u001b[0m \u001b[1;33m=\u001b[0m \u001b[1;36m5\u001b[0m \u001b[1;31m# 데이터 변경 시 Error 발생\u001b[0m\u001b[1;33m\u001b[0m\u001b[1;33m\u001b[0m\u001b[0m\n\u001b[0m",
      "\u001b[1;31mTypeError\u001b[0m: 'tuple' object does not support item assignment"
     ]
    }
   ],
   "source": [
    "t[1] = 5 # 데이터 변경 시 Error 발생"
   ]
  },
  {
   "cell_type": "markdown",
   "metadata": {},
   "source": [
    "왜 쓸까?\n",
    "- 프로그램 작동하는 동안 변경되지 않는 데이터의 저장을 위해\n",
    "    - ex) 학번, 이름, 우편번호 등등\n",
    "- 함수의 반환 값 등 사용자의 실수에 의한 에러를 사전에 방지"
   ]
  },
  {
   "cell_type": "code",
   "execution_count": 29,
   "metadata": {},
   "outputs": [
    {
     "data": {
      "text/plain": [
       "int"
      ]
     },
     "execution_count": 29,
     "metadata": {},
     "output_type": "execute_result"
    }
   ],
   "source": [
    "t = (1) # 일반 정수로 인식\n",
    "type(t)"
   ]
  },
  {
   "cell_type": "code",
   "execution_count": 30,
   "metadata": {},
   "outputs": [
    {
     "data": {
      "text/plain": [
       "tuple"
      ]
     },
     "execution_count": 30,
     "metadata": {},
     "output_type": "execute_result"
    }
   ],
   "source": [
    "t = (1, ) # 값이 하나인 Tuple은 반드시 \",\"를 붙여야 함\n",
    "type(t)"
   ]
  },
  {
   "cell_type": "markdown",
   "metadata": {},
   "source": [
    "### Set (집합)\n",
    "- 값을 순서없이 저장, 중복 불허 하는 자료형\n",
    "- set 객체 선언을 이용하여 객체 생성"
   ]
  },
  {
   "cell_type": "code",
   "execution_count": 31,
   "metadata": {},
   "outputs": [
    {
     "data": {
      "text/plain": [
       "{1, 2, 3}"
      ]
     },
     "execution_count": 31,
     "metadata": {},
     "output_type": "execute_result"
    }
   ],
   "source": [
    "s = set([1, 2, 3, 1, 2, 3])\n",
    "s"
   ]
  },
  {
   "cell_type": "code",
   "execution_count": 32,
   "metadata": {},
   "outputs": [
    {
     "data": {
      "text/plain": [
       "set"
      ]
     },
     "execution_count": 32,
     "metadata": {},
     "output_type": "execute_result"
    }
   ],
   "source": [
    "type(s)"
   ]
  },
  {
   "cell_type": "code",
   "execution_count": 34,
   "metadata": {},
   "outputs": [
    {
     "data": {
      "text/plain": [
       "set"
      ]
     },
     "execution_count": 34,
     "metadata": {},
     "output_type": "execute_result"
    }
   ],
   "source": [
    "a = {1, 2, 3, 4, 5} # 이거도 가능\n",
    "type(a)"
   ]
  },
  {
   "cell_type": "code",
   "execution_count": 35,
   "metadata": {},
   "outputs": [
    {
     "data": {
      "text/plain": [
       "{2, 3}"
      ]
     },
     "execution_count": 35,
     "metadata": {},
     "output_type": "execute_result"
    }
   ],
   "source": [
    "s = {2, 3}\n",
    "s"
   ]
  },
  {
   "cell_type": "code",
   "execution_count": 36,
   "metadata": {},
   "outputs": [
    {
     "data": {
      "text/plain": [
       "{1, 2, 3}"
      ]
     },
     "execution_count": 36,
     "metadata": {},
     "output_type": "execute_result"
    }
   ],
   "source": [
    "s.add(1) # 한 원소 1만 추가\n",
    "s"
   ]
  },
  {
   "cell_type": "code",
   "execution_count": 37,
   "metadata": {},
   "outputs": [
    {
     "data": {
      "text/plain": [
       "{2, 3}"
      ]
     },
     "execution_count": 37,
     "metadata": {},
     "output_type": "execute_result"
    }
   ],
   "source": [
    "s.remove(1) # 1 삭제\n",
    "s"
   ]
  },
  {
   "cell_type": "code",
   "execution_count": 38,
   "metadata": {},
   "outputs": [
    {
     "data": {
      "text/plain": [
       "{1, 2, 3, 4, 5, 6, 7}"
      ]
     },
     "execution_count": 38,
     "metadata": {},
     "output_type": "execute_result"
    }
   ],
   "source": [
    "s.update([1, 4, 5, 6, 7]) # [1, 4, 5, 6, 7] 추가\n",
    "s"
   ]
  },
  {
   "cell_type": "code",
   "execution_count": 39,
   "metadata": {},
   "outputs": [
    {
     "data": {
      "text/plain": [
       "{1, 2, 4, 5, 6, 7}"
      ]
     },
     "execution_count": 39,
     "metadata": {},
     "output_type": "execute_result"
    }
   ],
   "source": [
    "s.discard(3) # 3 삭제\n",
    "s"
   ]
  },
  {
   "cell_type": "code",
   "execution_count": 41,
   "metadata": {},
   "outputs": [
    {
     "data": {
      "text/plain": [
       "set()"
      ]
     },
     "execution_count": 41,
     "metadata": {},
     "output_type": "execute_result"
    }
   ],
   "source": [
    "s.clear() # 모든 원소 삭제\n",
    "s"
   ]
  },
  {
   "cell_type": "markdown",
   "metadata": {},
   "source": [
    "- 수학에서 활용하는 다양한 집합연산 가능"
   ]
  },
  {
   "cell_type": "code",
   "execution_count": 43,
   "metadata": {},
   "outputs": [
    {
     "data": {
      "text/plain": [
       "(set, set)"
      ]
     },
     "execution_count": 43,
     "metadata": {},
     "output_type": "execute_result"
    }
   ],
   "source": [
    "s1 = set([1, 2, 3, 4, 5])\n",
    "s2 = set([3, 4, 5, 6, 7])\n",
    "type(s1), type(s2)"
   ]
  },
  {
   "cell_type": "code",
   "execution_count": 44,
   "metadata": {},
   "outputs": [
    {
     "data": {
      "text/plain": [
       "{1, 2, 3, 4, 5, 6, 7}"
      ]
     },
     "execution_count": 44,
     "metadata": {},
     "output_type": "execute_result"
    }
   ],
   "source": [
    "s1.union(s2) # s1과 s2의 합집합"
   ]
  },
  {
   "cell_type": "code",
   "execution_count": 45,
   "metadata": {},
   "outputs": [
    {
     "data": {
      "text/plain": [
       "{1, 2, 3, 4, 5, 6, 7}"
      ]
     },
     "execution_count": 45,
     "metadata": {},
     "output_type": "execute_result"
    }
   ],
   "source": [
    "s1 | s2 # s1과 s2의 합집합"
   ]
  },
  {
   "cell_type": "code",
   "execution_count": 46,
   "metadata": {},
   "outputs": [
    {
     "data": {
      "text/plain": [
       "{3, 4, 5}"
      ]
     },
     "execution_count": 46,
     "metadata": {},
     "output_type": "execute_result"
    }
   ],
   "source": [
    "s1.intersection(s2) # s1과 s2의 교집합"
   ]
  },
  {
   "cell_type": "code",
   "execution_count": 47,
   "metadata": {},
   "outputs": [
    {
     "data": {
      "text/plain": [
       "{3, 4, 5}"
      ]
     },
     "execution_count": 47,
     "metadata": {},
     "output_type": "execute_result"
    }
   ],
   "source": [
    "s1 & s2 # s1과 s2의 교집합"
   ]
  },
  {
   "cell_type": "code",
   "execution_count": 48,
   "metadata": {},
   "outputs": [
    {
     "data": {
      "text/plain": [
       "{1, 2}"
      ]
     },
     "execution_count": 48,
     "metadata": {},
     "output_type": "execute_result"
    }
   ],
   "source": [
    "s1.difference(s2) # s1과 s2의 차집합"
   ]
  },
  {
   "cell_type": "code",
   "execution_count": 49,
   "metadata": {},
   "outputs": [
    {
     "data": {
      "text/plain": [
       "{1, 2}"
      ]
     },
     "execution_count": 49,
     "metadata": {},
     "output_type": "execute_result"
    }
   ],
   "source": [
    "s1 - s2 # s1과 s2의 차집합"
   ]
  },
  {
   "cell_type": "markdown",
   "metadata": {},
   "source": [
    "### Dictionary (사전)\n",
    "- 데이터를 저장 할 때는 구분 지을 수 있는 값을 함께 저장\n",
    "    - ex) 주민등록번호, 제품 모델 번호\n",
    "- 구분을 위한 데이터 고유 값을 Identifier 또는 Key라고 함\n",
    "- Key 값을 활용하여, 데이터 값(Value)를 관리함\n",
    "- key와 value를 매칭하여 key로 value를 검색\n",
    "- 다른 언어에서는 Hash Table이라는 용어를 사용\n",
    "- {Key1:Value1, Key2:Value2, Key3:Value3 ...} 형태"
   ]
  },
  {
   "cell_type": "code",
   "execution_count": 50,
   "metadata": {},
   "outputs": [
    {
     "data": {
      "text/plain": [
       "{'America': 1, 'Korea': 82, 'China': 86, 'Japan': 81}"
      ]
     },
     "execution_count": 50,
     "metadata": {},
     "output_type": "execute_result"
    }
   ],
   "source": [
    "country_code = {} # Dict 생성, country_code = dict() 도 가능\n",
    "country_code = {\"America\": 1, \"Korea\": 82, \"China\": 86, \"Japan\": 81}\n",
    "country_code"
   ]
  },
  {
   "cell_type": "code",
   "execution_count": 51,
   "metadata": {},
   "outputs": [
    {
     "data": {
      "text/plain": [
       "dict_items([('America', 1), ('Korea', 82), ('China', 86), ('Japan', 81)])"
      ]
     },
     "execution_count": 51,
     "metadata": {},
     "output_type": "execute_result"
    }
   ],
   "source": [
    "country_code.items() # Dict 데이터 출력"
   ]
  },
  {
   "cell_type": "code",
   "execution_count": 52,
   "metadata": {},
   "outputs": [
    {
     "data": {
      "text/plain": [
       "dict_keys(['America', 'Korea', 'China', 'Japan'])"
      ]
     },
     "execution_count": 52,
     "metadata": {},
     "output_type": "execute_result"
    }
   ],
   "source": [
    "country_code.keys() # Dict 키 값만 출력"
   ]
  },
  {
   "cell_type": "code",
   "execution_count": 53,
   "metadata": {},
   "outputs": [
    {
     "data": {
      "text/plain": [
       "{'America': 1, 'Korea': 82, 'China': 86, 'Japan': 81, 'German': 49}"
      ]
     },
     "execution_count": 53,
     "metadata": {},
     "output_type": "execute_result"
    }
   ],
   "source": [
    "country_code[\"German\"] = 49 # Dict 추가\n",
    "country_code"
   ]
  },
  {
   "cell_type": "code",
   "execution_count": 55,
   "metadata": {},
   "outputs": [
    {
     "data": {
      "text/plain": [
       "{'America': 1, 'Korea': 82, 'China': 86, 'Japan': 81, 'German': 55}"
      ]
     },
     "execution_count": 55,
     "metadata": {},
     "output_type": "execute_result"
    }
   ],
   "source": [
    "country_code[\"German\"] = 55 # 값 변경 가능\n",
    "country_code"
   ]
  },
  {
   "cell_type": "code",
   "execution_count": 56,
   "metadata": {},
   "outputs": [
    {
     "data": {
      "text/plain": [
       "dict_values([1, 82, 86, 81, 55])"
      ]
     },
     "execution_count": 56,
     "metadata": {},
     "output_type": "execute_result"
    }
   ],
   "source": [
    "country_code.values() # Dict Value만 출력"
   ]
  },
  {
   "cell_type": "code",
   "execution_count": 57,
   "metadata": {},
   "outputs": [
    {
     "name": "stdout",
     "output_type": "stream",
     "text": [
      "Key :  America\n",
      "Value :  1\n",
      "Key :  Korea\n",
      "Value :  82\n",
      "Key :  China\n",
      "Value :  86\n",
      "Key :  Japan\n",
      "Value :  81\n",
      "Key :  German\n",
      "Value :  55\n"
     ]
    }
   ],
   "source": [
    "for k, v in country_code.items(): # k, v로 unpacking\n",
    "    print(\"Key : \", k)\n",
    "    print(\"Value : \", v)"
   ]
  },
  {
   "cell_type": "code",
   "execution_count": 58,
   "metadata": {},
   "outputs": [
    {
     "data": {
      "text/plain": [
       "True"
      ]
     },
     "execution_count": 58,
     "metadata": {},
     "output_type": "execute_result"
    }
   ],
   "source": [
    "\"Korea\" in country_code.keys() # Key값에 \"Korea\"가 있는지 확인"
   ]
  },
  {
   "cell_type": "code",
   "execution_count": 59,
   "metadata": {},
   "outputs": [
    {
     "data": {
      "text/plain": [
       "True"
      ]
     },
     "execution_count": 59,
     "metadata": {},
     "output_type": "execute_result"
    }
   ],
   "source": [
    "82 in country_code.values() # Value값에 82가 있는지 확인"
   ]
  },
  {
   "cell_type": "markdown",
   "metadata": {},
   "source": [
    "### collections\n",
    "- List, Tuple, Dict에 대한 Python Built-in 확장 자료 구조(모듈)\n",
    "- 편의성, 실행 효율 등을 사용자에게 제공함"
   ]
  },
  {
   "cell_type": "markdown",
   "metadata": {},
   "source": [
    "### deque\n",
    "- Stack과 Queue를 지원하는 모듈\n",
    "- List에 비해 효율적인 = 빠른 자료 저장 방식을 지원함"
   ]
  },
  {
   "cell_type": "code",
   "execution_count": 61,
   "metadata": {},
   "outputs": [
    {
     "name": "stdout",
     "output_type": "stream",
     "text": [
      "deque([0, 1, 2, 3, 4])\n"
     ]
    },
    {
     "data": {
      "text/plain": [
       "deque([10, 0, 1, 2, 3, 4])"
      ]
     },
     "execution_count": 61,
     "metadata": {},
     "output_type": "execute_result"
    }
   ],
   "source": [
    "from collections import deque\n",
    "\n",
    "deque_list = deque()\n",
    "for i in range(5):\n",
    "    deque_list.append(i)\n",
    "print(deque_list)\n",
    "\n",
    "deque_list.appendleft(10)\n",
    "deque_list"
   ]
  },
  {
   "cell_type": "markdown",
   "metadata": {},
   "source": [
    "- rotate, reverse 등 Linked List의 특성을 지원함\n",
    "- 기존 list 형태의 함수를 모두 지원함"
   ]
  },
  {
   "cell_type": "code",
   "execution_count": 62,
   "metadata": {},
   "outputs": [
    {
     "data": {
      "text/plain": [
       "deque([10, 0, 1, 2, 3, 4, 100])"
      ]
     },
     "execution_count": 62,
     "metadata": {},
     "output_type": "execute_result"
    }
   ],
   "source": [
    "deque_list.append(100)\n",
    "deque_list"
   ]
  },
  {
   "cell_type": "code",
   "execution_count": 63,
   "metadata": {},
   "outputs": [
    {
     "data": {
      "text/plain": [
       "deque([200, 10, 0, 1, 2, 3, 4, 100])"
      ]
     },
     "execution_count": 63,
     "metadata": {},
     "output_type": "execute_result"
    }
   ],
   "source": [
    "deque_list.appendleft(200)\n",
    "deque_list"
   ]
  },
  {
   "cell_type": "code",
   "execution_count": 64,
   "metadata": {},
   "outputs": [
    {
     "data": {
      "text/plain": [
       "deque([100, 200, 10, 0, 1, 2, 3, 4])"
      ]
     },
     "execution_count": 64,
     "metadata": {},
     "output_type": "execute_result"
    }
   ],
   "source": [
    "deque_list.rotate(1)\n",
    "deque_list"
   ]
  },
  {
   "cell_type": "code",
   "execution_count": 66,
   "metadata": {},
   "outputs": [
    {
     "data": {
      "text/plain": [
       "deque([100, 200, 10, 0, 1, 2, 3, 4, 5, 6, 7])"
      ]
     },
     "execution_count": 66,
     "metadata": {},
     "output_type": "execute_result"
    }
   ],
   "source": [
    "deque_list.extend([5, 6, 7])\n",
    "deque_list"
   ]
  },
  {
   "cell_type": "code",
   "execution_count": 67,
   "metadata": {},
   "outputs": [
    {
     "data": {
      "text/plain": [
       "deque([7, 6, 5, 100, 200, 10, 0, 1, 2, 3, 4, 5, 6, 7])"
      ]
     },
     "execution_count": 67,
     "metadata": {},
     "output_type": "execute_result"
    }
   ],
   "source": [
    "deque_list.extendleft([5, 6, 7])\n",
    "deque_list"
   ]
  },
  {
   "cell_type": "markdown",
   "metadata": {},
   "source": [
    "#### deque를 쓰는 이유?\n",
    "- deque는 기존 list보다 효율적인 자료구조를 제공\n",
    "- 효율적 메모리 구조로 처리 속도 향상"
   ]
  },
  {
   "cell_type": "code",
   "execution_count": 70,
   "metadata": {},
   "outputs": [
    {
     "name": "stdout",
     "output_type": "stream",
     "text": [
      "26.61182951927185 seconds\n"
     ]
    }
   ],
   "source": [
    "# deque\n",
    "from collections import deque\n",
    "import time\n",
    "\n",
    "start_time = time.time()\n",
    "deque_list = deque()\n",
    "# Stack\n",
    "for i in range(10000):\n",
    "    for i in range(10000):\n",
    "        deque_list.append(i)\n",
    "        deque_list.pop()\n",
    "print(time.time() - start_time, \"seconds\")"
   ]
  },
  {
   "cell_type": "code",
   "execution_count": 75,
   "metadata": {},
   "outputs": [
    {
     "name": "stdout",
     "output_type": "stream",
     "text": [
      "54.38345241546631 seconds\n"
     ]
    }
   ],
   "source": [
    "# general list\n",
    "import time\n",
    "\n",
    "start_time = time.time()\n",
    "just_list = []\n",
    "for i in range(10000):\n",
    "    for i in range(10000):\n",
    "        just_list.append(i)\n",
    "        just_list.pop()\n",
    "print(time.time() - start_time, \"seconds\")"
   ]
  },
  {
   "cell_type": "markdown",
   "metadata": {},
   "source": [
    "### OrderedDict\n",
    "- Dict와 달리, 데이터를 입력한 순서대로 dict를 반환함\n",
    "- 이전 파이썬 버전에서는 dict가 이를 만족하지 않아 사용했었음\n",
    "- python 3.6 부터 입력한 순서를 보장하여 출력하기 때문에 별로 의미가 없어졌다"
   ]
  },
  {
   "cell_type": "markdown",
   "metadata": {},
   "source": [
    "### defaultdict\n",
    "- Dict type의 값에 기본 값을 지정, 신규값 생성시 사용하는 방법"
   ]
  },
  {
   "cell_type": "code",
   "execution_count": 77,
   "metadata": {},
   "outputs": [
    {
     "ename": "KeyError",
     "evalue": "'first'",
     "output_type": "error",
     "traceback": [
      "\u001b[1;31m---------------------------------------------------------------------------\u001b[0m",
      "\u001b[1;31mKeyError\u001b[0m                                  Traceback (most recent call last)",
      "\u001b[1;32m<ipython-input-77-3b4ee8f5b4c3>\u001b[0m in \u001b[0;36m<module>\u001b[1;34m\u001b[0m\n\u001b[0;32m      1\u001b[0m \u001b[0md\u001b[0m \u001b[1;33m=\u001b[0m \u001b[0mdict\u001b[0m\u001b[1;33m(\u001b[0m\u001b[1;33m)\u001b[0m\u001b[1;33m\u001b[0m\u001b[1;33m\u001b[0m\u001b[0m\n\u001b[1;32m----> 2\u001b[1;33m \u001b[0mprint\u001b[0m\u001b[1;33m(\u001b[0m\u001b[0md\u001b[0m\u001b[1;33m[\u001b[0m\u001b[1;34m\"first\"\u001b[0m\u001b[1;33m]\u001b[0m\u001b[1;33m)\u001b[0m\u001b[1;33m\u001b[0m\u001b[1;33m\u001b[0m\u001b[0m\n\u001b[0m",
      "\u001b[1;31mKeyError\u001b[0m: 'first'"
     ]
    }
   ],
   "source": [
    "d = dict()\n",
    "print(d[\"first\"])"
   ]
  },
  {
   "cell_type": "code",
   "execution_count": 78,
   "metadata": {},
   "outputs": [
    {
     "data": {
      "text/plain": [
       "defaultdict(<function __main__.<lambda>()>, {})"
      ]
     },
     "execution_count": 78,
     "metadata": {},
     "output_type": "execute_result"
    }
   ],
   "source": [
    "from collections import defaultdict\n",
    "d = defaultdict(lambda : 0)\n",
    "d"
   ]
  },
  {
   "cell_type": "code",
   "execution_count": 79,
   "metadata": {},
   "outputs": [
    {
     "data": {
      "text/plain": [
       "0"
      ]
     },
     "execution_count": 79,
     "metadata": {},
     "output_type": "execute_result"
    }
   ],
   "source": [
    "d[\"first\"]"
   ]
  },
  {
   "cell_type": "markdown",
   "metadata": {},
   "source": [
    "- 하나의 지문에 각 단어들이 몇 개나 있는지 세고 싶을경우?\n",
    "- Text-mining 접근법 - Vector Space Model"
   ]
  },
  {
   "cell_type": "code",
   "execution_count": 80,
   "metadata": {},
   "outputs": [],
   "source": [
    "text = \"\"\"A press release is the quickest and easiest way to get free publicity. If well written, a press release can result in multiple published articles about your firm and its products. And that can mean new prospects contacting you asking you to sell to them. Talk about low-hanging fruit!\n",
    "What's more, press releases are cost effective. If the release results in an article that (for instance) appears to recommend your firm or your product, that article is more likely to drive prospects to contact you than a comparable paid advertisement.\n",
    "However, most press releases never accomplish that. Most press releases are just spray and pray. Nobody reads them, least of all the reporters and editors for whom they're intended. Worst case, a badly-written press release simply makes your firm look clueless and stupid.\n",
    "For example, a while back I received a press release containing the following sentence: \"Release 6.0 doubles the level of functionality available, providing organizations of all sizes with a fast-to-deploy, highly robust, and easy-to-use solution to better acquire, retain, and serve customers.\"\n",
    "Translation: \"The new release does more stuff.\" Why the extra verbiage? As I explained in the post \"Why Marketers Speak Biz Blab\", the BS words are simply a way to try to make something unimportant seem important. And, let's face it, a 6.0 release of a product probably isn't all that important.\n",
    "As a reporter, my immediate response to that press release was that it's not important because it expended an entire sentence saying absolutely nothing. And I assumed (probably rightly) that the company's marketing team was a bunch of idiots.\"\"\".lower().split()"
   ]
  },
  {
   "cell_type": "code",
   "execution_count": 85,
   "metadata": {},
   "outputs": [
    {
     "data": {
      "text/plain": [
       "['a',\n",
       " 'press',\n",
       " 'release',\n",
       " 'is',\n",
       " 'the',\n",
       " 'quickest',\n",
       " 'and',\n",
       " 'easiest',\n",
       " 'way',\n",
       " 'to',\n",
       " 'get',\n",
       " 'free',\n",
       " 'publicity.',\n",
       " 'if',\n",
       " 'well',\n",
       " 'written,',\n",
       " 'a',\n",
       " 'press',\n",
       " 'release',\n",
       " 'can',\n",
       " 'result',\n",
       " 'in',\n",
       " 'multiple',\n",
       " 'published',\n",
       " 'articles',\n",
       " 'about',\n",
       " 'your',\n",
       " 'firm',\n",
       " 'and',\n",
       " 'its',\n",
       " 'products.',\n",
       " 'and',\n",
       " 'that',\n",
       " 'can',\n",
       " 'mean',\n",
       " 'new',\n",
       " 'prospects',\n",
       " 'contacting',\n",
       " 'you',\n",
       " 'asking',\n",
       " 'you',\n",
       " 'to',\n",
       " 'sell',\n",
       " 'to',\n",
       " 'them.',\n",
       " 'talk',\n",
       " 'about',\n",
       " 'low-hanging',\n",
       " 'fruit!',\n",
       " \"what's\",\n",
       " 'more,',\n",
       " 'press',\n",
       " 'releases',\n",
       " 'are',\n",
       " 'cost',\n",
       " 'effective.',\n",
       " 'if',\n",
       " 'the',\n",
       " 'release',\n",
       " 'results',\n",
       " 'in',\n",
       " 'an',\n",
       " 'article',\n",
       " 'that',\n",
       " '(for',\n",
       " 'instance)',\n",
       " 'appears',\n",
       " 'to',\n",
       " 'recommend',\n",
       " 'your',\n",
       " 'firm',\n",
       " 'or',\n",
       " 'your',\n",
       " 'product,',\n",
       " 'that',\n",
       " 'article',\n",
       " 'is',\n",
       " 'more',\n",
       " 'likely',\n",
       " 'to',\n",
       " 'drive',\n",
       " 'prospects',\n",
       " 'to',\n",
       " 'contact',\n",
       " 'you',\n",
       " 'than',\n",
       " 'a',\n",
       " 'comparable',\n",
       " 'paid',\n",
       " 'advertisement.',\n",
       " 'however,',\n",
       " 'most',\n",
       " 'press',\n",
       " 'releases',\n",
       " 'never',\n",
       " 'accomplish',\n",
       " 'that.',\n",
       " 'most',\n",
       " 'press',\n",
       " 'releases',\n",
       " 'are',\n",
       " 'just',\n",
       " 'spray',\n",
       " 'and',\n",
       " 'pray.',\n",
       " 'nobody',\n",
       " 'reads',\n",
       " 'them,',\n",
       " 'least',\n",
       " 'of',\n",
       " 'all',\n",
       " 'the',\n",
       " 'reporters',\n",
       " 'and',\n",
       " 'editors',\n",
       " 'for',\n",
       " 'whom',\n",
       " \"they're\",\n",
       " 'intended.',\n",
       " 'worst',\n",
       " 'case,',\n",
       " 'a',\n",
       " 'badly-written',\n",
       " 'press',\n",
       " 'release',\n",
       " 'simply',\n",
       " 'makes',\n",
       " 'your',\n",
       " 'firm',\n",
       " 'look',\n",
       " 'clueless',\n",
       " 'and',\n",
       " 'stupid.',\n",
       " 'for',\n",
       " 'example,',\n",
       " 'a',\n",
       " 'while',\n",
       " 'back',\n",
       " 'i',\n",
       " 'received',\n",
       " 'a',\n",
       " 'press',\n",
       " 'release',\n",
       " 'containing',\n",
       " 'the',\n",
       " 'following',\n",
       " 'sentence:',\n",
       " '\"release',\n",
       " '6.0',\n",
       " 'doubles',\n",
       " 'the',\n",
       " 'level',\n",
       " 'of',\n",
       " 'functionality',\n",
       " 'available,',\n",
       " 'providing',\n",
       " 'organizations',\n",
       " 'of',\n",
       " 'all',\n",
       " 'sizes',\n",
       " 'with',\n",
       " 'a',\n",
       " 'fast-to-deploy,',\n",
       " 'highly',\n",
       " 'robust,',\n",
       " 'and',\n",
       " 'easy-to-use',\n",
       " 'solution',\n",
       " 'to',\n",
       " 'better',\n",
       " 'acquire,',\n",
       " 'retain,',\n",
       " 'and',\n",
       " 'serve',\n",
       " 'customers.\"',\n",
       " 'translation:',\n",
       " '\"the',\n",
       " 'new',\n",
       " 'release',\n",
       " 'does',\n",
       " 'more',\n",
       " 'stuff.\"',\n",
       " 'why',\n",
       " 'the',\n",
       " 'extra',\n",
       " 'verbiage?',\n",
       " 'as',\n",
       " 'i',\n",
       " 'explained',\n",
       " 'in',\n",
       " 'the',\n",
       " 'post',\n",
       " '\"why',\n",
       " 'marketers',\n",
       " 'speak',\n",
       " 'biz',\n",
       " 'blab\",',\n",
       " 'the',\n",
       " 'bs',\n",
       " 'words',\n",
       " 'are',\n",
       " 'simply',\n",
       " 'a',\n",
       " 'way',\n",
       " 'to',\n",
       " 'try',\n",
       " 'to',\n",
       " 'make',\n",
       " 'something',\n",
       " 'unimportant',\n",
       " 'seem',\n",
       " 'important.',\n",
       " 'and,',\n",
       " \"let's\",\n",
       " 'face',\n",
       " 'it,',\n",
       " 'a',\n",
       " '6.0',\n",
       " 'release',\n",
       " 'of',\n",
       " 'a',\n",
       " 'product',\n",
       " 'probably',\n",
       " \"isn't\",\n",
       " 'all',\n",
       " 'that',\n",
       " 'important.',\n",
       " 'as',\n",
       " 'a',\n",
       " 'reporter,',\n",
       " 'my',\n",
       " 'immediate',\n",
       " 'response',\n",
       " 'to',\n",
       " 'that',\n",
       " 'press',\n",
       " 'release',\n",
       " 'was',\n",
       " 'that',\n",
       " \"it's\",\n",
       " 'not',\n",
       " 'important',\n",
       " 'because',\n",
       " 'it',\n",
       " 'expended',\n",
       " 'an',\n",
       " 'entire',\n",
       " 'sentence',\n",
       " 'saying',\n",
       " 'absolutely',\n",
       " 'nothing.',\n",
       " 'and',\n",
       " 'i',\n",
       " 'assumed',\n",
       " '(probably',\n",
       " 'rightly)',\n",
       " 'that',\n",
       " 'the',\n",
       " \"company's\",\n",
       " 'marketing',\n",
       " 'team',\n",
       " 'was',\n",
       " 'a',\n",
       " 'bunch',\n",
       " 'of',\n",
       " 'idiots.']"
      ]
     },
     "execution_count": 85,
     "metadata": {},
     "output_type": "execute_result"
    }
   ],
   "source": [
    "text"
   ]
  },
  {
   "cell_type": "code",
   "execution_count": 82,
   "metadata": {},
   "outputs": [
    {
     "data": {
      "text/plain": [
       "defaultdict(<function __main__.<lambda>()>, {})"
      ]
     },
     "execution_count": 82,
     "metadata": {},
     "output_type": "execute_result"
    }
   ],
   "source": [
    "d = defaultdict(lambda : 0)\n",
    "d"
   ]
  },
  {
   "cell_type": "code",
   "execution_count": 83,
   "metadata": {},
   "outputs": [],
   "source": [
    "for word in text:\n",
    "    d[word] += 1"
   ]
  },
  {
   "cell_type": "code",
   "execution_count": 84,
   "metadata": {},
   "outputs": [
    {
     "data": {
      "text/plain": [
       "defaultdict(<function __main__.<lambda>()>,\n",
       "            {'a': 12,\n",
       "             'press': 8,\n",
       "             'release': 8,\n",
       "             'is': 2,\n",
       "             'the': 9,\n",
       "             'quickest': 1,\n",
       "             'and': 9,\n",
       "             'easiest': 1,\n",
       "             'way': 2,\n",
       "             'to': 10,\n",
       "             'get': 1,\n",
       "             'free': 1,\n",
       "             'publicity.': 1,\n",
       "             'if': 2,\n",
       "             'well': 1,\n",
       "             'written,': 1,\n",
       "             'can': 2,\n",
       "             'result': 1,\n",
       "             'in': 3,\n",
       "             'multiple': 1,\n",
       "             'published': 1,\n",
       "             'articles': 1,\n",
       "             'about': 2,\n",
       "             'your': 4,\n",
       "             'firm': 3,\n",
       "             'its': 1,\n",
       "             'products.': 1,\n",
       "             'that': 7,\n",
       "             'mean': 1,\n",
       "             'new': 2,\n",
       "             'prospects': 2,\n",
       "             'contacting': 1,\n",
       "             'you': 3,\n",
       "             'asking': 1,\n",
       "             'sell': 1,\n",
       "             'them.': 1,\n",
       "             'talk': 1,\n",
       "             'low-hanging': 1,\n",
       "             'fruit!': 1,\n",
       "             \"what's\": 1,\n",
       "             'more,': 1,\n",
       "             'releases': 3,\n",
       "             'are': 3,\n",
       "             'cost': 1,\n",
       "             'effective.': 1,\n",
       "             'results': 1,\n",
       "             'an': 2,\n",
       "             'article': 2,\n",
       "             '(for': 1,\n",
       "             'instance)': 1,\n",
       "             'appears': 1,\n",
       "             'recommend': 1,\n",
       "             'or': 1,\n",
       "             'product,': 1,\n",
       "             'more': 2,\n",
       "             'likely': 1,\n",
       "             'drive': 1,\n",
       "             'contact': 1,\n",
       "             'than': 1,\n",
       "             'comparable': 1,\n",
       "             'paid': 1,\n",
       "             'advertisement.': 1,\n",
       "             'however,': 1,\n",
       "             'most': 2,\n",
       "             'never': 1,\n",
       "             'accomplish': 1,\n",
       "             'that.': 1,\n",
       "             'just': 1,\n",
       "             'spray': 1,\n",
       "             'pray.': 1,\n",
       "             'nobody': 1,\n",
       "             'reads': 1,\n",
       "             'them,': 1,\n",
       "             'least': 1,\n",
       "             'of': 5,\n",
       "             'all': 3,\n",
       "             'reporters': 1,\n",
       "             'editors': 1,\n",
       "             'for': 2,\n",
       "             'whom': 1,\n",
       "             \"they're\": 1,\n",
       "             'intended.': 1,\n",
       "             'worst': 1,\n",
       "             'case,': 1,\n",
       "             'badly-written': 1,\n",
       "             'simply': 2,\n",
       "             'makes': 1,\n",
       "             'look': 1,\n",
       "             'clueless': 1,\n",
       "             'stupid.': 1,\n",
       "             'example,': 1,\n",
       "             'while': 1,\n",
       "             'back': 1,\n",
       "             'i': 3,\n",
       "             'received': 1,\n",
       "             'containing': 1,\n",
       "             'following': 1,\n",
       "             'sentence:': 1,\n",
       "             '\"release': 1,\n",
       "             '6.0': 2,\n",
       "             'doubles': 1,\n",
       "             'level': 1,\n",
       "             'functionality': 1,\n",
       "             'available,': 1,\n",
       "             'providing': 1,\n",
       "             'organizations': 1,\n",
       "             'sizes': 1,\n",
       "             'with': 1,\n",
       "             'fast-to-deploy,': 1,\n",
       "             'highly': 1,\n",
       "             'robust,': 1,\n",
       "             'easy-to-use': 1,\n",
       "             'solution': 1,\n",
       "             'better': 1,\n",
       "             'acquire,': 1,\n",
       "             'retain,': 1,\n",
       "             'serve': 1,\n",
       "             'customers.\"': 1,\n",
       "             'translation:': 1,\n",
       "             '\"the': 1,\n",
       "             'does': 1,\n",
       "             'stuff.\"': 1,\n",
       "             'why': 1,\n",
       "             'extra': 1,\n",
       "             'verbiage?': 1,\n",
       "             'as': 2,\n",
       "             'explained': 1,\n",
       "             'post': 1,\n",
       "             '\"why': 1,\n",
       "             'marketers': 1,\n",
       "             'speak': 1,\n",
       "             'biz': 1,\n",
       "             'blab\",': 1,\n",
       "             'bs': 1,\n",
       "             'words': 1,\n",
       "             'try': 1,\n",
       "             'make': 1,\n",
       "             'something': 1,\n",
       "             'unimportant': 1,\n",
       "             'seem': 1,\n",
       "             'important.': 2,\n",
       "             'and,': 1,\n",
       "             \"let's\": 1,\n",
       "             'face': 1,\n",
       "             'it,': 1,\n",
       "             'product': 1,\n",
       "             'probably': 1,\n",
       "             \"isn't\": 1,\n",
       "             'reporter,': 1,\n",
       "             'my': 1,\n",
       "             'immediate': 1,\n",
       "             'response': 1,\n",
       "             'was': 2,\n",
       "             \"it's\": 1,\n",
       "             'not': 1,\n",
       "             'important': 1,\n",
       "             'because': 1,\n",
       "             'it': 1,\n",
       "             'expended': 1,\n",
       "             'entire': 1,\n",
       "             'sentence': 1,\n",
       "             'saying': 1,\n",
       "             'absolutely': 1,\n",
       "             'nothing.': 1,\n",
       "             'assumed': 1,\n",
       "             '(probably': 1,\n",
       "             'rightly)': 1,\n",
       "             \"company's\": 1,\n",
       "             'marketing': 1,\n",
       "             'team': 1,\n",
       "             'bunch': 1,\n",
       "             'idiots.': 1})"
      ]
     },
     "execution_count": 84,
     "metadata": {},
     "output_type": "execute_result"
    }
   ],
   "source": [
    "d"
   ]
  },
  {
   "cell_type": "markdown",
   "metadata": {},
   "source": [
    "### Counter\n",
    "- Sequence type의 data element들의 갯수를 dict 형태로 반환"
   ]
  },
  {
   "cell_type": "code",
   "execution_count": 88,
   "metadata": {},
   "outputs": [],
   "source": [
    "from collections import Counter\n",
    "ball_or_strike_list = [\"B\", \"S\", \"S\", \"S\", \"S\", \"B\", \"B\"]"
   ]
  },
  {
   "cell_type": "code",
   "execution_count": 89,
   "metadata": {},
   "outputs": [
    {
     "data": {
      "text/plain": [
       "Counter({'B': 3, 'S': 4})"
      ]
     },
     "execution_count": 89,
     "metadata": {},
     "output_type": "execute_result"
    }
   ],
   "source": [
    "c = Counter(ball_or_strike_list)\n",
    "c"
   ]
  },
  {
   "cell_type": "code",
   "execution_count": 90,
   "metadata": {},
   "outputs": [
    {
     "name": "stdout",
     "output_type": "stream",
     "text": [
      "['red', 'red', 'red', 'red', 'blue', 'blue']\n"
     ]
    }
   ],
   "source": [
    "c = Counter({'red': 4, 'blue': 2})\n",
    "print(list(c.elements()))"
   ]
  },
  {
   "cell_type": "code",
   "execution_count": 91,
   "metadata": {},
   "outputs": [
    {
     "name": "stdout",
     "output_type": "stream",
     "text": [
      "['cats', 'cats', 'cats', 'cats', 'dogs', 'dogs', 'dogs', 'dogs', 'dogs', 'dogs', 'dogs', 'dogs']\n"
     ]
    }
   ],
   "source": [
    "c = Counter(cats=4, dogs=8)\n",
    "print(list(c.elements()))"
   ]
  },
  {
   "cell_type": "markdown",
   "metadata": {},
   "source": [
    "- set의 연산들을 지원함"
   ]
  },
  {
   "cell_type": "code",
   "execution_count": 92,
   "metadata": {},
   "outputs": [
    {
     "name": "stdout",
     "output_type": "stream",
     "text": [
      "Counter({'a': 3, 'b': 0, 'c': -3, 'd': -6})\n"
     ]
    }
   ],
   "source": [
    "c = Counter(a=4, b=2, c=0, d=-2)\n",
    "d = Counter(a=1, b=2, c=3, d=4)\n",
    "c.subtract(d)\n",
    "print(c)"
   ]
  },
  {
   "cell_type": "code",
   "execution_count": 93,
   "metadata": {},
   "outputs": [
    {
     "name": "stdout",
     "output_type": "stream",
     "text": [
      "Counter({'a': 5, 'b': 4, 'c': 3, 'd': 2})\n"
     ]
    }
   ],
   "source": [
    "c = Counter(a=4, b=2, c=0, d=-2)\n",
    "d = Counter(a=1, b=2, c=3, d=4)\n",
    "print(c + d)"
   ]
  },
  {
   "cell_type": "code",
   "execution_count": 94,
   "metadata": {},
   "outputs": [
    {
     "name": "stdout",
     "output_type": "stream",
     "text": [
      "Counter({'b': 2, 'a': 1})\n"
     ]
    }
   ],
   "source": [
    "c = Counter(a=4, b=2, c=0, d=-2)\n",
    "d = Counter(a=1, b=2, c=3, d=4)\n",
    "print(c & d)"
   ]
  },
  {
   "cell_type": "code",
   "execution_count": 95,
   "metadata": {},
   "outputs": [
    {
     "name": "stdout",
     "output_type": "stream",
     "text": [
      "Counter({'a': 4, 'd': 4, 'c': 3, 'b': 2})\n"
     ]
    }
   ],
   "source": [
    "c = Counter(a=4, b=2, c=0, d=-2)\n",
    "d = Counter(a=1, b=2, c=3, d=4)\n",
    "print(c | d)"
   ]
  },
  {
   "cell_type": "code",
   "execution_count": 96,
   "metadata": {},
   "outputs": [
    {
     "data": {
      "text/plain": [
       "[('a', 12),\n",
       " ('to', 10),\n",
       " ('the', 9),\n",
       " ('and', 9),\n",
       " ('press', 8),\n",
       " ('release', 8),\n",
       " ('that', 7),\n",
       " ('of', 5),\n",
       " ('your', 4),\n",
       " ('in', 3),\n",
       " ('firm', 3),\n",
       " ('you', 3),\n",
       " ('releases', 3),\n",
       " ('are', 3),\n",
       " ('all', 3),\n",
       " ('i', 3),\n",
       " ('is', 2),\n",
       " ('way', 2),\n",
       " ('if', 2),\n",
       " ('can', 2),\n",
       " ('about', 2),\n",
       " ('new', 2),\n",
       " ('prospects', 2),\n",
       " ('an', 2),\n",
       " ('article', 2),\n",
       " ('more', 2),\n",
       " ('most', 2),\n",
       " ('for', 2),\n",
       " ('simply', 2),\n",
       " ('6.0', 2),\n",
       " ('as', 2),\n",
       " ('important.', 2),\n",
       " ('was', 2),\n",
       " ('quickest', 1),\n",
       " ('easiest', 1),\n",
       " ('get', 1),\n",
       " ('free', 1),\n",
       " ('publicity.', 1),\n",
       " ('well', 1),\n",
       " ('written,', 1),\n",
       " ('result', 1),\n",
       " ('multiple', 1),\n",
       " ('published', 1),\n",
       " ('articles', 1),\n",
       " ('its', 1),\n",
       " ('products.', 1),\n",
       " ('mean', 1),\n",
       " ('contacting', 1),\n",
       " ('asking', 1),\n",
       " ('sell', 1),\n",
       " ('them.', 1),\n",
       " ('talk', 1),\n",
       " ('low-hanging', 1),\n",
       " ('fruit!', 1),\n",
       " (\"what's\", 1),\n",
       " ('more,', 1),\n",
       " ('cost', 1),\n",
       " ('effective.', 1),\n",
       " ('results', 1),\n",
       " ('(for', 1),\n",
       " ('instance)', 1),\n",
       " ('appears', 1),\n",
       " ('recommend', 1),\n",
       " ('or', 1),\n",
       " ('product,', 1),\n",
       " ('likely', 1),\n",
       " ('drive', 1),\n",
       " ('contact', 1),\n",
       " ('than', 1),\n",
       " ('comparable', 1),\n",
       " ('paid', 1),\n",
       " ('advertisement.', 1),\n",
       " ('however,', 1),\n",
       " ('never', 1),\n",
       " ('accomplish', 1),\n",
       " ('that.', 1),\n",
       " ('just', 1),\n",
       " ('spray', 1),\n",
       " ('pray.', 1),\n",
       " ('nobody', 1),\n",
       " ('reads', 1),\n",
       " ('them,', 1),\n",
       " ('least', 1),\n",
       " ('reporters', 1),\n",
       " ('editors', 1),\n",
       " ('whom', 1),\n",
       " (\"they're\", 1),\n",
       " ('intended.', 1),\n",
       " ('worst', 1),\n",
       " ('case,', 1),\n",
       " ('badly-written', 1),\n",
       " ('makes', 1),\n",
       " ('look', 1),\n",
       " ('clueless', 1),\n",
       " ('stupid.', 1),\n",
       " ('example,', 1),\n",
       " ('while', 1),\n",
       " ('back', 1),\n",
       " ('received', 1),\n",
       " ('containing', 1),\n",
       " ('following', 1),\n",
       " ('sentence:', 1),\n",
       " ('\"release', 1),\n",
       " ('doubles', 1),\n",
       " ('level', 1),\n",
       " ('functionality', 1),\n",
       " ('available,', 1),\n",
       " ('providing', 1),\n",
       " ('organizations', 1),\n",
       " ('sizes', 1),\n",
       " ('with', 1),\n",
       " ('fast-to-deploy,', 1),\n",
       " ('highly', 1),\n",
       " ('robust,', 1),\n",
       " ('easy-to-use', 1),\n",
       " ('solution', 1),\n",
       " ('better', 1),\n",
       " ('acquire,', 1),\n",
       " ('retain,', 1),\n",
       " ('serve', 1),\n",
       " ('customers.\"', 1),\n",
       " ('translation:', 1),\n",
       " ('\"the', 1),\n",
       " ('does', 1),\n",
       " ('stuff.\"', 1),\n",
       " ('why', 1),\n",
       " ('extra', 1),\n",
       " ('verbiage?', 1),\n",
       " ('explained', 1),\n",
       " ('post', 1),\n",
       " ('\"why', 1),\n",
       " ('marketers', 1),\n",
       " ('speak', 1),\n",
       " ('biz', 1),\n",
       " ('blab\",', 1),\n",
       " ('bs', 1),\n",
       " ('words', 1),\n",
       " ('try', 1),\n",
       " ('make', 1),\n",
       " ('something', 1),\n",
       " ('unimportant', 1),\n",
       " ('seem', 1),\n",
       " ('and,', 1),\n",
       " (\"let's\", 1),\n",
       " ('face', 1),\n",
       " ('it,', 1),\n",
       " ('product', 1),\n",
       " ('probably', 1),\n",
       " (\"isn't\", 1),\n",
       " ('reporter,', 1),\n",
       " ('my', 1),\n",
       " ('immediate', 1),\n",
       " ('response', 1),\n",
       " (\"it's\", 1),\n",
       " ('not', 1),\n",
       " ('important', 1),\n",
       " ('because', 1),\n",
       " ('it', 1),\n",
       " ('expended', 1),\n",
       " ('entire', 1),\n",
       " ('sentence', 1),\n",
       " ('saying', 1),\n",
       " ('absolutely', 1),\n",
       " ('nothing.', 1),\n",
       " ('assumed', 1),\n",
       " ('(probably', 1),\n",
       " ('rightly)', 1),\n",
       " (\"company's\", 1),\n",
       " ('marketing', 1),\n",
       " ('team', 1),\n",
       " ('bunch', 1),\n",
       " ('idiots.', 1)]"
      ]
     },
     "execution_count": 96,
     "metadata": {},
     "output_type": "execute_result"
    }
   ],
   "source": [
    "text = \"\"\"A press release is the quickest and easiest way to get free publicity. If well written, a press release can result in multiple published articles about your firm and its products. And that can mean new prospects contacting you asking you to sell to them. Talk about low-hanging fruit!\n",
    "What's more, press releases are cost effective. If the release results in an article that (for instance) appears to recommend your firm or your product, that article is more likely to drive prospects to contact you than a comparable paid advertisement.\n",
    "However, most press releases never accomplish that. Most press releases are just spray and pray. Nobody reads them, least of all the reporters and editors for whom they're intended. Worst case, a badly-written press release simply makes your firm look clueless and stupid.\n",
    "For example, a while back I received a press release containing the following sentence: \"Release 6.0 doubles the level of functionality available, providing organizations of all sizes with a fast-to-deploy, highly robust, and easy-to-use solution to better acquire, retain, and serve customers.\"\n",
    "Translation: \"The new release does more stuff.\" Why the extra verbiage? As I explained in the post \"Why Marketers Speak Biz Blab\", the BS words are simply a way to try to make something unimportant seem important. And, let's face it, a 6.0 release of a product probably isn't all that important.\n",
    "As a reporter, my immediate response to that press release was that it's not important because it expended an entire sentence saying absolutely nothing. And I assumed (probably rightly) that the company's marketing team was a bunch of idiots.\"\"\".lower().split()\n",
    "sorted(Counter(text).items(), key=lambda t: t[1], reverse=True)"
   ]
  },
  {
   "cell_type": "code",
   "execution_count": 97,
   "metadata": {},
   "outputs": [
    {
     "name": "stdout",
     "output_type": "stream",
     "text": [
      "12\n"
     ]
    }
   ],
   "source": [
    "print(Counter(text)[\"a\"])"
   ]
  },
  {
   "cell_type": "markdown",
   "metadata": {},
   "source": [
    "### namedtuple\n",
    "- Tuple 형태로 Data 구조체를 저장하는 방법\n",
    "- 저장되는 data의 variable을 사전에 지정해서 저장함"
   ]
  },
  {
   "cell_type": "code",
   "execution_count": 98,
   "metadata": {},
   "outputs": [
    {
     "data": {
      "text/plain": [
       "__main__.Point"
      ]
     },
     "execution_count": 98,
     "metadata": {},
     "output_type": "execute_result"
    }
   ],
   "source": [
    "from collections import namedtuple\n",
    "\n",
    "Point = namedtuple('Point', ['x', 'y'])\n",
    "Point"
   ]
  },
  {
   "cell_type": "code",
   "execution_count": 99,
   "metadata": {},
   "outputs": [
    {
     "data": {
      "text/plain": [
       "(11, 22)"
      ]
     },
     "execution_count": 99,
     "metadata": {},
     "output_type": "execute_result"
    }
   ],
   "source": [
    "p = Point(x=11, y=22)\n",
    "p[0], p[1]"
   ]
  },
  {
   "cell_type": "code",
   "execution_count": 100,
   "metadata": {},
   "outputs": [
    {
     "data": {
      "text/plain": [
       "Point(x=11, y=22)"
      ]
     },
     "execution_count": 100,
     "metadata": {},
     "output_type": "execute_result"
    }
   ],
   "source": [
    "p"
   ]
  },
  {
   "cell_type": "code",
   "execution_count": 101,
   "metadata": {},
   "outputs": [
    {
     "name": "stdout",
     "output_type": "stream",
     "text": [
      "11 22\n"
     ]
    }
   ],
   "source": [
    "x, y = p\n",
    "print(x, y)"
   ]
  },
  {
   "cell_type": "code",
   "execution_count": 102,
   "metadata": {},
   "outputs": [
    {
     "name": "stdout",
     "output_type": "stream",
     "text": [
      "33\n"
     ]
    }
   ],
   "source": [
    "print(p.x + p.y)"
   ]
  },
  {
   "cell_type": "markdown",
   "metadata": {},
   "source": [
    "> Pythonic code"
   ]
  },
  {
   "cell_type": "markdown",
   "metadata": {},
   "source": [
    "### Pythonic code\n",
    "파이썬 스타일의 코드"
   ]
  },
  {
   "cell_type": "markdown",
   "metadata": {},
   "source": [
    "### split & join\n",
    "- split : string type의 값을 \"기준값\"으로 나눠서 List 형태로 변환\n",
    "- join : string으로 구성된 list를 합쳐 하나의 string으로 반환"
   ]
  },
  {
   "cell_type": "code",
   "execution_count": 103,
   "metadata": {},
   "outputs": [
    {
     "name": "stdout",
     "output_type": "stream",
     "text": [
      "['zero', 'one', 'two', 'three']\n"
     ]
    }
   ],
   "source": [
    "items = 'zero one two three'.split() # 빈칸을 기준으로 문자열 나누기\n",
    "print(items)"
   ]
  },
  {
   "cell_type": "code",
   "execution_count": 104,
   "metadata": {},
   "outputs": [
    {
     "data": {
      "text/plain": [
       "['python', 'java', 'javascript']"
      ]
     },
     "execution_count": 104,
     "metadata": {},
     "output_type": "execute_result"
    }
   ],
   "source": [
    "example = 'python,java,javascript' # \",\"을 기준으로 문자열 나누기\n",
    "example.split(\",\")"
   ]
  },
  {
   "cell_type": "code",
   "execution_count": 107,
   "metadata": {},
   "outputs": [],
   "source": [
    "a, b, c = example.split(\",\") # 리스트에 있는 각 값을 a, b, c 변수로 unpacking"
   ]
  },
  {
   "cell_type": "code",
   "execution_count": 108,
   "metadata": {},
   "outputs": [
    {
     "data": {
      "text/plain": [
       "'red-blue-green-yellow'"
      ]
     },
     "execution_count": 108,
     "metadata": {},
     "output_type": "execute_result"
    }
   ],
   "source": [
    "colors = [\"red\", \"blue\", \"green\", \"yellow\"]\n",
    "\"-\".join(colors)"
   ]
  },
  {
   "cell_type": "code",
   "execution_count": 109,
   "metadata": {},
   "outputs": [
    {
     "data": {
      "text/plain": [
       "'red    blue    green    yellow'"
      ]
     },
     "execution_count": 109,
     "metadata": {},
     "output_type": "execute_result"
    }
   ],
   "source": [
    "\"    \".join(colors)"
   ]
  },
  {
   "cell_type": "markdown",
   "metadata": {},
   "source": [
    "### list comprehension\n",
    "- 기존 List를 사용하여 간단히 다른 List를 만드는 기법\n",
    "- 포괄적인 List, 포함되는 List라는 의미로 사용됨\n",
    "- 파이썬에서 가장 많이 사용되는 기법 중 하나\n",
    "- 일반적으로 for + append 보다 속도가 빠름"
   ]
  },
  {
   "cell_type": "code",
   "execution_count": 110,
   "metadata": {},
   "outputs": [
    {
     "data": {
      "text/plain": [
       "[0, 1, 2, 3, 4, 5, 6, 7, 8, 9]"
      ]
     },
     "execution_count": 110,
     "metadata": {},
     "output_type": "execute_result"
    }
   ],
   "source": [
    "# general style\n",
    "result = []\n",
    "for i in range(10):\n",
    "    result.append(i)\n",
    "result"
   ]
  },
  {
   "cell_type": "code",
   "execution_count": 111,
   "metadata": {},
   "outputs": [
    {
     "data": {
      "text/plain": [
       "[0, 1, 2, 3, 4, 5, 6, 7, 8, 9]"
      ]
     },
     "execution_count": 111,
     "metadata": {},
     "output_type": "execute_result"
    }
   ],
   "source": [
    "# list comprehension\n",
    "result = [i for i in range(10)]\n",
    "result"
   ]
  },
  {
   "cell_type": "code",
   "execution_count": 112,
   "metadata": {},
   "outputs": [
    {
     "data": {
      "text/plain": [
       "[0, 2, 4, 6, 8]"
      ]
     },
     "execution_count": 112,
     "metadata": {},
     "output_type": "execute_result"
    }
   ],
   "source": [
    "result = [i for i in range(10) if i % 2 == 0]\n",
    "result"
   ]
  },
  {
   "cell_type": "code",
   "execution_count": 113,
   "metadata": {},
   "outputs": [
    {
     "data": {
      "text/plain": [
       "['HW',\n",
       " 'Ho',\n",
       " 'Hr',\n",
       " 'Hd',\n",
       " 'eW',\n",
       " 'eo',\n",
       " 'er',\n",
       " 'ed',\n",
       " 'lW',\n",
       " 'lo',\n",
       " 'lr',\n",
       " 'ld',\n",
       " 'lW',\n",
       " 'lo',\n",
       " 'lr',\n",
       " 'ld',\n",
       " 'oW',\n",
       " 'oo',\n",
       " 'or',\n",
       " 'od']"
      ]
     },
     "execution_count": 113,
     "metadata": {},
     "output_type": "execute_result"
    }
   ],
   "source": [
    "word_1 = \"Hello\"\n",
    "word_2 = \"Word\"\n",
    "result = [i+j for i in word_1 for j in word_2] # Nested For loop\n",
    "result"
   ]
  },
  {
   "cell_type": "code",
   "execution_count": 114,
   "metadata": {},
   "outputs": [
    {
     "data": {
      "text/plain": [
       "['HW',\n",
       " 'Ho',\n",
       " 'Hr',\n",
       " 'Hd',\n",
       " 'eW',\n",
       " 'eo',\n",
       " 'er',\n",
       " 'ed',\n",
       " 'lW',\n",
       " 'lo',\n",
       " 'lr',\n",
       " 'ld',\n",
       " 'lW',\n",
       " 'lo',\n",
       " 'lr',\n",
       " 'ld',\n",
       " 'oW',\n",
       " 'oo',\n",
       " 'or',\n",
       " 'od']"
      ]
     },
     "execution_count": 114,
     "metadata": {},
     "output_type": "execute_result"
    }
   ],
   "source": [
    "result = []\n",
    "for i in word_1:\n",
    "    for j in word_2:\n",
    "        result.append(i + j)\n",
    "result"
   ]
  },
  {
   "cell_type": "code",
   "execution_count": 115,
   "metadata": {},
   "outputs": [
    {
     "data": {
      "text/plain": [
       "['AD', 'AE', 'AA', 'BD', 'BE', 'BA', 'CD', 'CE', 'CA']"
      ]
     },
     "execution_count": 115,
     "metadata": {},
     "output_type": "execute_result"
    }
   ],
   "source": [
    "case_1 = [\"A\", \"B\", \"C\"]\n",
    "case_2 = [\"D\", \"E\", \"A\"]\n",
    "result = [i+j for i in case_1 for j in case_2]\n",
    "result"
   ]
  },
  {
   "cell_type": "code",
   "execution_count": 116,
   "metadata": {},
   "outputs": [
    {
     "data": {
      "text/plain": [
       "['AD', 'AE', 'BD', 'BE', 'BA', 'CD', 'CE', 'CA']"
      ]
     },
     "execution_count": 116,
     "metadata": {},
     "output_type": "execute_result"
    }
   ],
   "source": [
    "result = [i+j for i in case_1 for j in case_2 if not(i==j)]\n",
    "# Filter: i랑 j가 같다면 List에 추가하지 않음\n",
    "result"
   ]
  },
  {
   "cell_type": "code",
   "execution_count": 118,
   "metadata": {},
   "outputs": [
    {
     "data": {
      "text/plain": [
       "['AD', 'AE', 'BEE', 'BD', 'BE', 'BA', 'CD', 'CE', 'CA']"
      ]
     },
     "execution_count": 118,
     "metadata": {},
     "output_type": "execute_result"
    }
   ],
   "source": [
    "[i+j if not(i==j) else \"BEE\" for i in case_1 for j in case_2]"
   ]
  },
  {
   "cell_type": "code",
   "execution_count": 120,
   "metadata": {},
   "outputs": [
    {
     "data": {
      "text/plain": [
       "['The', 'quick', 'born', 'fox', 'jumps', 'over', 'the', 'lazy', 'dog']"
      ]
     },
     "execution_count": 120,
     "metadata": {},
     "output_type": "execute_result"
    }
   ],
   "source": [
    "words = 'The quick born fox jumps over the lazy dog'.split()\n",
    "words"
   ]
  },
  {
   "cell_type": "code",
   "execution_count": 121,
   "metadata": {},
   "outputs": [
    {
     "data": {
      "text/plain": [
       "[['THE', 'the', 3],\n",
       " ['QUICK', 'quick', 5],\n",
       " ['BORN', 'born', 4],\n",
       " ['FOX', 'fox', 3],\n",
       " ['JUMPS', 'jumps', 5],\n",
       " ['OVER', 'over', 4],\n",
       " ['THE', 'the', 3],\n",
       " ['LAZY', 'lazy', 4],\n",
       " ['DOG', 'dog', 3]]"
      ]
     },
     "execution_count": 121,
     "metadata": {},
     "output_type": "execute_result"
    }
   ],
   "source": [
    "[[w.upper(), w.lower(), len(w)] for w in words]"
   ]
  },
  {
   "cell_type": "code",
   "execution_count": 122,
   "metadata": {},
   "outputs": [],
   "source": [
    "# Two dimensional vs One dimensional\n",
    "case_1 = [\"A\", \"B\", \"C\"]\n",
    "case_2 = [\"D\", \"E\", \"A\"]"
   ]
  },
  {
   "cell_type": "code",
   "execution_count": 123,
   "metadata": {},
   "outputs": [
    {
     "data": {
      "text/plain": [
       "['AD', 'AE', 'AA', 'BD', 'BE', 'BA', 'CD', 'CE', 'CA']"
      ]
     },
     "execution_count": 123,
     "metadata": {},
     "output_type": "execute_result"
    }
   ],
   "source": [
    "# One dimensional\n",
    "result = [i+j for i in case_1 for j in case_2]\n",
    "result"
   ]
  },
  {
   "cell_type": "code",
   "execution_count": 124,
   "metadata": {},
   "outputs": [
    {
     "data": {
      "text/plain": [
       "[['AD', 'BD', 'CD'], ['AE', 'BE', 'CE'], ['AA', 'BA', 'CA']]"
      ]
     },
     "execution_count": 124,
     "metadata": {},
     "output_type": "execute_result"
    }
   ],
   "source": [
    "# Two dimensional\n",
    "result = [[i+j for i in case_1] for j in case_2] # case_2부터 돌아감\n",
    "result"
   ]
  },
  {
   "cell_type": "code",
   "execution_count": 125,
   "metadata": {},
   "outputs": [
    {
     "data": {
      "text/plain": [
       "[['AD', 'BD', 'CD'], ['AE', 'BE', 'CE'], ['AA', 'BA', 'CA']]"
      ]
     },
     "execution_count": 125,
     "metadata": {},
     "output_type": "execute_result"
    }
   ],
   "source": [
    "result = []\n",
    "for j in case_2:\n",
    "    line = []\n",
    "    for i in case_1:\n",
    "        line.append(i+j)\n",
    "    result.append(line)\n",
    "result"
   ]
  },
  {
   "cell_type": "code",
   "execution_count": 126,
   "metadata": {},
   "outputs": [
    {
     "data": {
      "text/plain": [
       "[['DA', 'DB'], ['EA', 'EB'], ['AA', 'AB']]"
      ]
     },
     "execution_count": 126,
     "metadata": {},
     "output_type": "execute_result"
    }
   ],
   "source": [
    "[[j+i for i in case_1 if i != \"C\"] for j in case_2]"
   ]
  },
  {
   "cell_type": "markdown",
   "metadata": {},
   "source": [
    "### enumerate & zip\n",
    "- enumerate : list의 element를 추출할 때 번호를 붙여서 추출\n",
    "- zip : 두 개의 list의 값을 병렬적으로 추출함"
   ]
  },
  {
   "cell_type": "code",
   "execution_count": 127,
   "metadata": {},
   "outputs": [
    {
     "name": "stdout",
     "output_type": "stream",
     "text": [
      "0 tic\n",
      "1 tac\n",
      "2 toe\n"
     ]
    }
   ],
   "source": [
    "for i, v in enumerate(['tic', 'tac', 'toe']): # list에 있는 index와 값을 unpacking\n",
    "    print(i, v)"
   ]
  },
  {
   "cell_type": "code",
   "execution_count": 128,
   "metadata": {},
   "outputs": [
    {
     "name": "stdout",
     "output_type": "stream",
     "text": [
      "0 \t A\n",
      "1 \t B\n",
      "2 \t C\n"
     ]
    }
   ],
   "source": [
    "for i, v in enumerate(\"ABC\"):\n",
    "    print(\"{0} \\t {1}\".format(i, v))"
   ]
  },
  {
   "cell_type": "code",
   "execution_count": 129,
   "metadata": {},
   "outputs": [
    {
     "data": {
      "text/plain": [
       "{'A': 0, 'B': 1, 'C': 2, 'D': 3}"
      ]
     },
     "execution_count": 129,
     "metadata": {},
     "output_type": "execute_result"
    }
   ],
   "source": [
    "my_str = \"ABCD\"\n",
    "{v: i for i, v in enumerate(my_str)}"
   ]
  },
  {
   "cell_type": "code",
   "execution_count": 132,
   "metadata": {},
   "outputs": [
    {
     "data": {
      "text/plain": [
       "[['a1', 'b1'], ['a2', 'b2'], ['a3', 'b3']]"
      ]
     },
     "execution_count": 132,
     "metadata": {},
     "output_type": "execute_result"
    }
   ],
   "source": [
    "alist = [\"a1\", \"a2\", \"a3\"]\n",
    "blist = [\"b1\", \"b2\", \"b3\"]\n",
    "\n",
    "[[a, b] for a, b in zip(alist, blist)]"
   ]
  },
  {
   "cell_type": "code",
   "execution_count": 133,
   "metadata": {},
   "outputs": [
    {
     "data": {
      "text/plain": [
       "[('a1', 'b1'), ('a2', 'b2'), ('a3', 'b3')]"
      ]
     },
     "execution_count": 133,
     "metadata": {},
     "output_type": "execute_result"
    }
   ],
   "source": [
    "[c for c in zip(alist, blist)] # c: tuple 타입으로 묶여져서 나옴"
   ]
  },
  {
   "cell_type": "code",
   "execution_count": 134,
   "metadata": {},
   "outputs": [
    {
     "data": {
      "text/plain": [
       "[93.33333333333333, 86.66666666666667, 73.33333333333333]"
      ]
     },
     "execution_count": 134,
     "metadata": {},
     "output_type": "execute_result"
    }
   ],
   "source": [
    "math = (100, 90, 80)\n",
    "kor = (90, 90, 70)\n",
    "eng = (90, 80, 70)\n",
    "\n",
    "[sum(value)/3 for value in zip(math, kor, eng)]"
   ]
  },
  {
   "cell_type": "code",
   "execution_count": 135,
   "metadata": {},
   "outputs": [
    {
     "name": "stdout",
     "output_type": "stream",
     "text": [
      "0 ('a1', 'b1')\n",
      "1 ('a2', 'b2')\n",
      "2 ('a3', 'b3')\n"
     ]
    }
   ],
   "source": [
    "alist = [\"a1\", \"a2\", \"a3\"]\n",
    "blist = [\"b1\", \"b2\", \"b3\"]\n",
    "\n",
    "for i, values in enumerate(zip(alist, blist)):\n",
    "    print(i, values)"
   ]
  },
  {
   "cell_type": "markdown",
   "metadata": {},
   "source": [
    "### lambda & map & reduce"
   ]
  },
  {
   "cell_type": "markdown",
   "metadata": {},
   "source": [
    "- lambda\n",
    "    - 함수 이름 없이, 함수처럼 쓸 수 있는 익명함수\n",
    "    - Python 3부터는 권장하지는 않으나 여전히 많이 쓰임"
   ]
  },
  {
   "cell_type": "code",
   "execution_count": 136,
   "metadata": {},
   "outputs": [
    {
     "name": "stdout",
     "output_type": "stream",
     "text": [
      "5\n"
     ]
    }
   ],
   "source": [
    "# general function\n",
    "def f(x, y):\n",
    "    return x + y\n",
    "\n",
    "print(f(1, 4))"
   ]
  },
  {
   "cell_type": "code",
   "execution_count": 137,
   "metadata": {},
   "outputs": [
    {
     "name": "stdout",
     "output_type": "stream",
     "text": [
      "5\n"
     ]
    }
   ],
   "source": [
    "# lambda function\n",
    "f = lambda x, y: x + y\n",
    "print(f(1, 4))"
   ]
  },
  {
   "cell_type": "code",
   "execution_count": 138,
   "metadata": {},
   "outputs": [
    {
     "data": {
      "text/plain": [
       "60"
      ]
     },
     "execution_count": 138,
     "metadata": {},
     "output_type": "execute_result"
    }
   ],
   "source": [
    "(lambda x, y: x + y)(10, 50)"
   ]
  },
  {
   "cell_type": "code",
   "execution_count": 139,
   "metadata": {},
   "outputs": [
    {
     "data": {
      "text/plain": [
       "'MY HAPPYmy happy'"
      ]
     },
     "execution_count": 139,
     "metadata": {},
     "output_type": "execute_result"
    }
   ],
   "source": [
    "up_low = lambda x: x.upper() + x.lower()\n",
    "up_low(\"My Happy\")"
   ]
  },
  {
   "cell_type": "code",
   "execution_count": 140,
   "metadata": {},
   "outputs": [
    {
     "data": {
      "text/plain": [
       "'My-Happy'"
      ]
     },
     "execution_count": 140,
     "metadata": {},
     "output_type": "execute_result"
    }
   ],
   "source": [
    "up_low = lambda x: \"-\".join(x.split())\n",
    "up_low(\"My Happy\")"
   ]
  },
  {
   "cell_type": "markdown",
   "metadata": {},
   "source": [
    "##### 람다함수의 문제점\n",
    "- 어려운 문법\n",
    "- 테스트의 어려움 ★\n",
    "- 문서화 docstring 지원 미비\n",
    "- 코드 해석의 어려움\n",
    "- 이름이 존재하지 않는 함수의 출현\n",
    "- 그래도 많이 쓴다"
   ]
  },
  {
   "cell_type": "markdown",
   "metadata": {},
   "source": [
    "### map function\n",
    "- 두 개 이상의 list에도 적용 가능함, if filter도 사용 가능\n",
    "- python3는 iteration을 생성 -> list를 붙여줘야 list 사용 가능\n",
    "- 실행시점의 값을 생성, 메모리 효율적\n",
    "- map도 lambda처럼 권장하지는 않으나 많이 쓴다"
   ]
  },
  {
   "cell_type": "code",
   "execution_count": 143,
   "metadata": {},
   "outputs": [
    {
     "data": {
      "text/plain": [
       "[1, 4, 9, 16, 25]"
      ]
     },
     "execution_count": 143,
     "metadata": {},
     "output_type": "execute_result"
    }
   ],
   "source": [
    "ex = [1, 2, 3, 4, 5]\n",
    "f = lambda x: x ** 2\n",
    "\n",
    "list(map(f, ex))"
   ]
  },
  {
   "cell_type": "code",
   "execution_count": 144,
   "metadata": {},
   "outputs": [
    {
     "data": {
      "text/plain": [
       "[1, 4, 9, 16, 25]"
      ]
     },
     "execution_count": 144,
     "metadata": {},
     "output_type": "execute_result"
    }
   ],
   "source": [
    "[f(value) for value in ex]"
   ]
  },
  {
   "cell_type": "code",
   "execution_count": 145,
   "metadata": {},
   "outputs": [
    {
     "data": {
      "text/plain": [
       "[2, 4, 6, 8, 10]"
      ]
     },
     "execution_count": 145,
     "metadata": {},
     "output_type": "execute_result"
    }
   ],
   "source": [
    "f = lambda x, y: x + y\n",
    "list(map(f, ex, ex))"
   ]
  },
  {
   "cell_type": "code",
   "execution_count": 149,
   "metadata": {},
   "outputs": [
    {
     "data": {
      "text/plain": [
       "[1, 4, 3, 16, 5]"
      ]
     },
     "execution_count": 149,
     "metadata": {},
     "output_type": "execute_result"
    }
   ],
   "source": [
    "list(map(lambda x: x**2 if x%2==0 else x, ex))"
   ]
  },
  {
   "cell_type": "code",
   "execution_count": 150,
   "metadata": {},
   "outputs": [
    {
     "data": {
      "text/plain": [
       "[1, 4, 3, 16, 5]"
      ]
     },
     "execution_count": 150,
     "metadata": {},
     "output_type": "execute_result"
    }
   ],
   "source": [
    "[value**2 if value%2==0 else value for value in ex]"
   ]
  },
  {
   "cell_type": "markdown",
   "metadata": {},
   "source": [
    "### reduce function\n",
    "- map function과 달리 list에 똑같은 함수를 적용해서 통합"
   ]
  },
  {
   "cell_type": "code",
   "execution_count": 151,
   "metadata": {},
   "outputs": [
    {
     "name": "stdout",
     "output_type": "stream",
     "text": [
      "15\n"
     ]
    }
   ],
   "source": [
    "from functools import reduce\n",
    "print(reduce(lambda x, y: x+y, [1, 2, 3, 4, 5]))"
   ]
  },
  {
   "cell_type": "markdown",
   "metadata": {},
   "source": [
    "대용량의 데이터를 다룰 때 map & reduce function을 많이 쓴다.\n",
    "\n",
    "- lambda, map, reduce는 간단한 코드로 다양한 기능을 제공\n",
    "- 그러나 코드의 직관성이 떨어져서 lambda나 reduce는 python3에서 사용을 권장하지 않음\n",
    "- [legacy](https://arabiannight.tistory.com/129) library나 다양한 머신러닝 코드에서 여전히 사용중"
   ]
  },
  {
   "cell_type": "markdown",
   "metadata": {},
   "source": [
    "### iterable object\n",
    "- sequence형 자료형에서 데이터를 순서대로 추출하는 object"
   ]
  },
  {
   "cell_type": "code",
   "execution_count": 152,
   "metadata": {},
   "outputs": [
    {
     "name": "stdout",
     "output_type": "stream",
     "text": [
      "Seoul\tBusan\tPohang\t"
     ]
    }
   ],
   "source": [
    "for city in [\"Seoul\", \"Busan\", \"Pohang\"]: # list\n",
    "    print(city, end=\"\\t\")"
   ]
  },
  {
   "cell_type": "code",
   "execution_count": 153,
   "metadata": {},
   "outputs": [
    {
     "name": "stdout",
     "output_type": "stream",
     "text": [
      "Python\tC\tJava\t"
     ]
    }
   ],
   "source": [
    "for language in (\"Python\", \"C\", \"Java\"): # tuple\n",
    "    print(language, end=\"\\t\")"
   ]
  },
  {
   "cell_type": "code",
   "execution_count": 154,
   "metadata": {},
   "outputs": [
    {
     "name": "stdout",
     "output_type": "stream",
     "text": [
      "P y t h o n   i s   e a s y "
     ]
    }
   ],
   "source": [
    "for char in \"Python is easy\": # string\n",
    "    print(char, end=\" \")"
   ]
  },
  {
   "cell_type": "markdown",
   "metadata": {},
   "source": [
    "- 내부적 구현으로 __iter__와 __next__가 사용됨\n",
    "- iter()와 next() 함수로 iterable 객체를 iterator object로 사용"
   ]
  },
  {
   "cell_type": "code",
   "execution_count": 156,
   "metadata": {},
   "outputs": [
    {
     "name": "stdout",
     "output_type": "stream",
     "text": [
      "Seoul\n",
      "Busan\n",
      "Jeju\n"
     ]
    }
   ],
   "source": [
    "cities = [\"Seoul\", \"Busan\", \"Jeju\"]\n",
    "\n",
    "iter_obj = iter(cities) # cities의 memory address를 가져옴\n",
    "\n",
    "print(next(iter_obj)) # memory address의 값을 실제로 보려면 next() 함수 사용\n",
    "print(next(iter_obj))\n",
    "print(next(iter_obj))"
   ]
  },
  {
   "cell_type": "markdown",
   "metadata": {},
   "source": [
    "### generator\n",
    "- iterable object를 특수한 형태로 사용해주는 함수\n",
    "- element가 사용되는 시점에 값을 메모리에 반환 (사용되기 전에는 주소값만 갖고있음)\n",
    "    - yield를 사용해 한번에 하나의 element만 반환함"
   ]
  },
  {
   "cell_type": "code",
   "execution_count": 157,
   "metadata": {},
   "outputs": [],
   "source": [
    "def general_list(value):\n",
    "    result = []\n",
    "    for i in range(value):\n",
    "        result.append(i)\n",
    "    return result"
   ]
  },
  {
   "cell_type": "code",
   "execution_count": 159,
   "metadata": {},
   "outputs": [
    {
     "name": "stdout",
     "output_type": "stream",
     "text": [
      "[0, 1, 2, 3, 4, 5, 6, 7, 8, 9, 10, 11, 12, 13, 14, 15, 16, 17, 18, 19, 20, 21, 22, 23, 24, 25, 26, 27, 28, 29, 30, 31, 32, 33, 34, 35, 36, 37, 38, 39, 40, 41, 42, 43, 44, 45, 46, 47, 48, 49]\n"
     ]
    }
   ],
   "source": [
    "print(general_list(50))"
   ]
  },
  {
   "cell_type": "code",
   "execution_count": 160,
   "metadata": {},
   "outputs": [
    {
     "data": {
      "text/plain": [
       "520"
      ]
     },
     "execution_count": 160,
     "metadata": {},
     "output_type": "execute_result"
    }
   ],
   "source": [
    "import sys\n",
    "result = general_list(50)\n",
    "sys.getsizeof(result)"
   ]
  },
  {
   "cell_type": "code",
   "execution_count": 161,
   "metadata": {},
   "outputs": [],
   "source": [
    "def generator_list(value):\n",
    "    result = []\n",
    "    for i in range(value):\n",
    "        yield i # yield : 호출할 때 데이터를 출력 / 호출 전에는 주소값만 갖고있음"
   ]
  },
  {
   "cell_type": "code",
   "execution_count": 162,
   "metadata": {},
   "outputs": [
    {
     "data": {
      "text/plain": [
       "<generator object generator_list at 0x000002DC2E294900>"
      ]
     },
     "execution_count": 162,
     "metadata": {},
     "output_type": "execute_result"
    }
   ],
   "source": [
    "generator_list(50)"
   ]
  },
  {
   "cell_type": "code",
   "execution_count": 163,
   "metadata": {},
   "outputs": [
    {
     "name": "stdout",
     "output_type": "stream",
     "text": [
      "0\n",
      "1\n",
      "2\n",
      "3\n",
      "4\n",
      "5\n",
      "6\n",
      "7\n",
      "8\n",
      "9\n",
      "10\n",
      "11\n",
      "12\n",
      "13\n",
      "14\n",
      "15\n",
      "16\n",
      "17\n",
      "18\n",
      "19\n",
      "20\n",
      "21\n",
      "22\n",
      "23\n",
      "24\n",
      "25\n",
      "26\n",
      "27\n",
      "28\n",
      "29\n",
      "30\n",
      "31\n",
      "32\n",
      "33\n",
      "34\n",
      "35\n",
      "36\n",
      "37\n",
      "38\n",
      "39\n",
      "40\n",
      "41\n",
      "42\n",
      "43\n",
      "44\n",
      "45\n",
      "46\n",
      "47\n",
      "48\n",
      "49\n"
     ]
    }
   ],
   "source": [
    "for a in generator_list(50):\n",
    "    print(a) # 호출을 할 때 데이터를 볼 수 있다"
   ]
  },
  {
   "cell_type": "code",
   "execution_count": 165,
   "metadata": {},
   "outputs": [
    {
     "data": {
      "text/plain": [
       "112"
      ]
     },
     "execution_count": 165,
     "metadata": {},
     "output_type": "execute_result"
    }
   ],
   "source": [
    "result = generator_list(50)\n",
    "sys.getsizeof(result) # 메모리를 효율적으로 사용"
   ]
  },
  {
   "cell_type": "code",
   "execution_count": 166,
   "metadata": {},
   "outputs": [
    {
     "data": {
      "text/plain": [
       "464"
      ]
     },
     "execution_count": 166,
     "metadata": {},
     "output_type": "execute_result"
    }
   ],
   "source": [
    "sys.getsizeof(list(generator_list(50)))"
   ]
  },
  {
   "cell_type": "markdown",
   "metadata": {},
   "source": [
    "generator comprehension\n",
    "- list comprehension과 유사한 형태로 generator형태의 list 생성\n",
    "- generator expression 이라는 이름으로도 부름\n",
    "- [ \\] 대신 ( ) 를 사용하여 표현"
   ]
  },
  {
   "cell_type": "code",
   "execution_count": 167,
   "metadata": {},
   "outputs": [
    {
     "name": "stdout",
     "output_type": "stream",
     "text": [
      "<class 'generator'>\n"
     ]
    }
   ],
   "source": [
    "gen_ex = (n*n for n in range(500))\n",
    "print(type(gen_ex))"
   ]
  },
  {
   "cell_type": "code",
   "execution_count": 173,
   "metadata": {},
   "outputs": [],
   "source": [
    "# for i in gen_ex:\n",
    "#     print(i)"
   ]
  },
  {
   "cell_type": "markdown",
   "metadata": {},
   "source": [
    "generator를 왜 쓰는가?\n",
    "- 일반적인 iterator는 generator에 반해 훨씬 큰 메모리 용량 사용"
   ]
  },
  {
   "cell_type": "code",
   "execution_count": 175,
   "metadata": {},
   "outputs": [
    {
     "name": "stdout",
     "output_type": "stream",
     "text": [
      "112\n",
      "4568\n",
      "4264\n"
     ]
    }
   ],
   "source": [
    "gen_ex = (n*n for n in range(500))\n",
    "print(sys.getsizeof(gen_ex)) # 필요할 때 불러와서 쓰는 방법\n",
    "\n",
    "print(sys.getsizeof(list(gen_ex)))\n",
    "\n",
    "list_ex = [n*n for n in range(500)]\n",
    "print(sys.getsizeof(list_ex))"
   ]
  },
  {
   "cell_type": "markdown",
   "metadata": {},
   "source": [
    "generator를 언제 쓰는가?\n",
    "- list 타입의 데이터를 반환해주는 함수는 generator로 만들어라!\n",
    "    - 읽기 쉬운 장점, 중간 과정에서 loop이 중단될 수 있을 때!\n",
    "- 큰 데이터를 처리할 때는 generator expression을 고려하라!\n",
    "    - 데이터가 커도 처리의 어려움이 없음\n",
    "- 파일 데이터를 처리할 때도 generator를 쓰자"
   ]
  },
  {
   "cell_type": "markdown",
   "metadata": {},
   "source": [
    "### function passing arguments\n",
    "- 함수에 입력되는 arguments의 다양한 형태\n",
    "1. keyword arguments\n",
    "2. default arguments\n",
    "3. variable-length arguments"
   ]
  },
  {
   "cell_type": "markdown",
   "metadata": {},
   "source": [
    "### keyword arguments\n",
    "- 함수에 입력되는 parameter의 변수명을 사용, arguments를 넘김"
   ]
  },
  {
   "cell_type": "code",
   "execution_count": 177,
   "metadata": {},
   "outputs": [
    {
     "name": "stdout",
     "output_type": "stream",
     "text": [
      "Hello INHA, My name is Changwoo\n"
     ]
    }
   ],
   "source": [
    "def print_something(my_name, your_name):\n",
    "    print(\"Hello {0}, My name is {1}\".format(your_name, my_name))\n",
    "\n",
    "print_something(your_name=\"INHA\", my_name=\"Changwoo\")"
   ]
  },
  {
   "cell_type": "markdown",
   "metadata": {},
   "source": [
    "### default arguments\n",
    "- parameter의 기본값을 사용, 입력하지 않을 경우 기본값 출력"
   ]
  },
  {
   "cell_type": "code",
   "execution_count": 180,
   "metadata": {},
   "outputs": [
    {
     "name": "stdout",
     "output_type": "stream",
     "text": [
      "Hello NAVER, My name is Changwoo.\n",
      "Hello INHA, My name is Changwoo.\n"
     ]
    }
   ],
   "source": [
    "def print_something_2(my_name, your_name=\"INHA\"):\n",
    "    print(\"Hello {0}, My name is {1}.\".format(your_name, my_name))\n",
    "\n",
    "print_something_2(\"Changwoo\", \"NAVER\")\n",
    "print_something_2(\"Changwoo\") # 기본값인 INHA 출력"
   ]
  },
  {
   "cell_type": "markdown",
   "metadata": {},
   "source": [
    "### variable-length (가변인자)\n",
    "- 개수가 정해지지 않은 변수를 함수의 parameter로 사용하는 방법\n",
    "- keyword arguments와 함께, argument 추가가 가능\n",
    "- asterisk(\\*) 기호를 사용하여 함수의 parameter를 표시함\n",
    "- 입력된 값은 tuple type으로 사용할 수 있음\n",
    "- 가변인자는 오직 한 개만 맨 마지막 parameter 위치에 사용가능"
   ]
  },
  {
   "cell_type": "markdown",
   "metadata": {},
   "source": [
    "- 가변인자는 일반적으로 *args를 변수명으로 사용\n",
    "- 기존 parameter 이후에 나오는 값을 tuple로 저장함"
   ]
  },
  {
   "cell_type": "code",
   "execution_count": 184,
   "metadata": {},
   "outputs": [
    {
     "name": "stdout",
     "output_type": "stream",
     "text": [
      "(3, 4, 5)\n",
      "<class 'tuple'>\n",
      "15\n"
     ]
    }
   ],
   "source": [
    "def asterisk_test(a, b, *args):\n",
    "    print(args)\n",
    "    print(type(args))\n",
    "    return a + b + sum(args)\n",
    "\n",
    "print(asterisk_test(1, 2, 3, 4, 5))"
   ]
  },
  {
   "cell_type": "code",
   "execution_count": 185,
   "metadata": {},
   "outputs": [
    {
     "data": {
      "text/plain": [
       "(1, 2, 3)"
      ]
     },
     "execution_count": 185,
     "metadata": {},
     "output_type": "execute_result"
    }
   ],
   "source": [
    "def asterisk_test(*args):\n",
    "    x, y, z = args # unpacking\n",
    "    return x, y, z\n",
    "\n",
    "asterisk_test(1, 2, 3)"
   ]
  },
  {
   "cell_type": "markdown",
   "metadata": {},
   "source": [
    "### keyword variable-length (키워드 가변인자)\n",
    "- parameter 이름을 따로 지정하지 않고 입력하는 방법\n",
    "- asterisk(\\*) 두 개를 사용하여 함수의 parameter를 표시함\n",
    "- 입력된 값은 dict type으로 사용할 수 있음\n",
    "- 가변인자는 오직 한 개만 기존 가변인자 다음에 사용"
   ]
  },
  {
   "cell_type": "code",
   "execution_count": 186,
   "metadata": {},
   "outputs": [
    {
     "name": "stdout",
     "output_type": "stream",
     "text": [
      "{'first': 3, 'second': 4, 'third': 5}\n",
      "<class 'dict'>\n"
     ]
    }
   ],
   "source": [
    "def kwargs_test_1(**kwargs):\n",
    "    print(kwargs)\n",
    "    print(type(kwargs))\n",
    "\n",
    "kwargs_test_1(first=3, second=4, third=5)"
   ]
  },
  {
   "cell_type": "code",
   "execution_count": 187,
   "metadata": {},
   "outputs": [
    {
     "name": "stdout",
     "output_type": "stream",
     "text": [
      "42\n",
      "{'first': 3, 'second': 4, 'third': 5}\n"
     ]
    }
   ],
   "source": [
    "def kwargs_test_3(one, two, *args, **kwargs):\n",
    "    print(one + two + sum(args))\n",
    "    print(kwargs)\n",
    "\n",
    "kwargs_test_3(3, 4, 5, 6, 7, 8, 9, first=3, second=4, third=5)\n",
    "# one : 3\n",
    "# two : 4\n",
    "# *args : (5, 6, 7, 8, 9)\n",
    "# **kwargs : {'first': 3, 'second': 4, 'third': 5}"
   ]
  },
  {
   "cell_type": "code",
   "execution_count": 189,
   "metadata": {},
   "outputs": [
    {
     "name": "stdout",
     "output_type": "stream",
     "text": [
      "420\n",
      "{'first': 3, 'second': 4, 'third': 5}\n"
     ]
    }
   ],
   "source": [
    "def kwargs_test_4(one, two=3, *args, **kwargs):\n",
    "    print(one + two + sum(args))\n",
    "    print(kwargs)\n",
    "\n",
    "kwargs_test_3(30, 40, 50, 60, 70, 80, 90, first=3, second=4, third=5)\n",
    "# one : 30\n",
    "# two : 40 (default값이 있지만 쓰이지 않음)\n",
    "# *args : (50, 60, 70, 80, 90)\n",
    "# **kwargs : {'first': 3, 'second': 4, 'third': 5}"
   ]
  },
  {
   "cell_type": "markdown",
   "metadata": {},
   "source": [
    "### asterick\n",
    "- 흔히 알고 있는 \\* 를 의미함\n",
    "- 단순 곱셈, 제곱연산, 가변 인자 활용 등 다양하게 사용됨"
   ]
  },
  {
   "cell_type": "markdown",
   "metadata": {},
   "source": [
    "unpacking a container\n",
    "- tuple, dict 등 자료형에 들어가 있는 값을 unpacking\n",
    "- 함수의 입력값, zip 등에 유용하게 사용 가능"
   ]
  },
  {
   "cell_type": "code",
   "execution_count": 191,
   "metadata": {},
   "outputs": [
    {
     "name": "stdout",
     "output_type": "stream",
     "text": [
      "1 2 3 4 5 6\n",
      "1 (2, 3, 4, 5, 6)\n",
      "<class 'tuple'>\n"
     ]
    }
   ],
   "source": [
    "def asterisk_test(a, *args): # 여기의 *와는 다른 의미\n",
    "    print(a, *args)\n",
    "    print(a, args)\n",
    "    print(type(args))\n",
    "\n",
    "test = (2, 3, 4, 5, 6)\n",
    "asterisk_test(1, *test) # * : unpacking, sequence형 자료를 풀어줄 때\n",
    "# 1, (2, 3, 4, 5, 6) => 1, 2, 3, 4, 5, 6 으로 함수에 들어가게됨"
   ]
  },
  {
   "cell_type": "code",
   "execution_count": 192,
   "metadata": {},
   "outputs": [
    {
     "name": "stdout",
     "output_type": "stream",
     "text": [
      "1 2 3 4\n"
     ]
    }
   ],
   "source": [
    "print(*[\"1\", \"2\", \"3\", \"4\"])"
   ]
  },
  {
   "cell_type": "code",
   "execution_count": 193,
   "metadata": {},
   "outputs": [
    {
     "name": "stdout",
     "output_type": "stream",
     "text": [
      "[1, 2] [3, 4] [5, 6]\n"
     ]
    }
   ],
   "source": [
    "a, b, c = ([1, 2], [3, 4], [5, 6])\n",
    "print(a, b, c)"
   ]
  },
  {
   "cell_type": "code",
   "execution_count": 194,
   "metadata": {},
   "outputs": [
    {
     "name": "stdout",
     "output_type": "stream",
     "text": [
      "[1, 2] [3, 4] [5, 6]\n"
     ]
    }
   ],
   "source": [
    "data = ([1, 2], [3, 4], [5, 6])\n",
    "print(*data)"
   ]
  },
  {
   "cell_type": "code",
   "execution_count": 195,
   "metadata": {},
   "outputs": [
    {
     "name": "stdout",
     "output_type": "stream",
     "text": [
      "10 1 2 3\n"
     ]
    }
   ],
   "source": [
    "def asterisk_test(a, b, c, d):\n",
    "    print(a, b, c, d)\n",
    "data = {\"b\": 1, \"c\": 2, \"d\": 3}\n",
    "asterisk_test(10, **data) # ** : keyword unpacking, dict type을 풀어줄 때\n",
    "# **data : b=1, c=2, d=3 처럼 keyword 가변 인자를 쓰듯이 바꿔줌"
   ]
  },
  {
   "cell_type": "code",
   "execution_count": 198,
   "metadata": {},
   "outputs": [
    {
     "data": {
      "text/plain": [
       "([1, 2], [3, 4], [5, 6], [7, 8], [9, 0])"
      ]
     },
     "execution_count": 198,
     "metadata": {},
     "output_type": "execute_result"
    }
   ],
   "source": [
    "ex = ([1, 2], [3, 4], [5, 6], [7, 8], [9, 0])\n",
    "ex"
   ]
  },
  {
   "cell_type": "code",
   "execution_count": 200,
   "metadata": {},
   "outputs": [
    {
     "name": "stdout",
     "output_type": "stream",
     "text": [
      "([1, 2],)\n",
      "([3, 4],)\n",
      "([5, 6],)\n",
      "([7, 8],)\n",
      "([9, 0],)\n"
     ]
    }
   ],
   "source": [
    "for value in zip(ex): # ex 자체는 2-dimensional list 들을 튜플로 하나로 묶어준것임\n",
    "    print(value) # 그래서 zip 써도 원하는대로 안나온다"
   ]
  },
  {
   "cell_type": "code",
   "execution_count": 202,
   "metadata": {},
   "outputs": [
    {
     "name": "stdout",
     "output_type": "stream",
     "text": [
      "(1, 3, 5, 7, 9)\n",
      "(2, 4, 6, 8, 0)\n"
     ]
    }
   ],
   "source": [
    "# ([1, 2], [3, 4], [5, 6], [7, 8], [9, 0]) -> [1, 2], [3, 4], [5, 6], [7, 8], [9, 0]\n",
    "for value in zip(*ex):\n",
    "    print(value)"
   ]
  }
 ],
 "metadata": {
  "kernelspec": {
   "display_name": "Python 3",
   "language": "python",
   "name": "python3"
  },
  "language_info": {
   "codemirror_mode": {
    "name": "ipython",
    "version": 3
   },
   "file_extension": ".py",
   "mimetype": "text/x-python",
   "name": "python",
   "nbconvert_exporter": "python",
   "pygments_lexer": "ipython3",
   "version": "3.8.5"
  }
 },
 "nbformat": 4,
 "nbformat_minor": 4
}
